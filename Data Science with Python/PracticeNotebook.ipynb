{
 "cells": [
  {
   "cell_type": "code",
   "execution_count": 1,
   "id": "94d40ea1-f726-4c2e-8503-5f93a497b452",
   "metadata": {},
   "outputs": [
    {
     "name": "stdout",
     "output_type": "stream",
     "text": [
      "Python 3.8.10\n"
     ]
    }
   ],
   "source": [
    "!python --version"
   ]
  },
  {
   "cell_type": "code",
   "execution_count": 2,
   "id": "c1e7db08-fc57-4e8b-a34a-b1192e25cf15",
   "metadata": {},
   "outputs": [
    {
     "data": {
      "text/plain": [
       "float"
      ]
     },
     "execution_count": 2,
     "metadata": {},
     "output_type": "execute_result"
    }
   ],
   "source": [
    "a = 10.1\n",
    "type(a)"
   ]
  },
  {
   "cell_type": "code",
   "execution_count": 3,
   "id": "bdfe38b1-c4b9-4da7-a17d-8e8f450764ff",
   "metadata": {},
   "outputs": [
    {
     "data": {
      "text/plain": [
       "bool"
      ]
     },
     "execution_count": 3,
     "metadata": {},
     "output_type": "execute_result"
    }
   ],
   "source": [
    "q1 = True\n",
    "type(q1)"
   ]
  },
  {
   "cell_type": "code",
   "execution_count": 4,
   "id": "4577d5dd-e1b2-4bf9-862e-b28e985aa551",
   "metadata": {},
   "outputs": [],
   "source": [
    "integer_x, integer_y = 4, 6"
   ]
  },
  {
   "cell_type": "code",
   "execution_count": 6,
   "id": "7e6abf2d-ae61-48a2-8090-d8e8ae3b12c9",
   "metadata": {},
   "outputs": [
    {
     "data": {
      "text/plain": [
       "(4, 6)"
      ]
     },
     "execution_count": 6,
     "metadata": {},
     "output_type": "execute_result"
    }
   ],
   "source": [
    "integer_x, integer_y"
   ]
  },
  {
   "cell_type": "code",
   "execution_count": 18,
   "id": "3772735f-ec13-4652-9ff2-e4d63daf75f1",
   "metadata": {},
   "outputs": [
    {
     "data": {
      "text/plain": [
       "9789024"
      ]
     },
     "execution_count": 18,
     "metadata": {},
     "output_type": "execute_result"
    }
   ],
   "source": [
    "x = 3\n",
    "id(x)\n"
   ]
  },
  {
   "cell_type": "code",
   "execution_count": 24,
   "id": "a5074c63-7a5d-4351-aa63-0e475346582f",
   "metadata": {},
   "outputs": [
    {
     "name": "stdout",
     "output_type": "stream",
     "text": [
      "x: 8\n",
      "9789184\n",
      "9789152\n",
      "9789184\n",
      "9789184\n",
      "9789184\n"
     ]
    }
   ],
   "source": [
    "print(\"x:\", x)\n",
    "print(id(x))\n",
    "x = 7\n",
    "print(id(x))\n",
    "x += 1\n",
    "print(id(x)) # ID is the unique ID of the value we are assigning to a variable. Unique ID is a unique memory location.\n",
    "x = 8\n",
    "print(id(x))\n",
    "y = 8 # assigning same value to two different variable results in both variables pointing to same value of ID i.e. same memory location.\n",
    "print(id(y)) \n"
   ]
  },
  {
   "cell_type": "code",
   "execution_count": 25,
   "id": "ef7ff280-392a-4cda-a9c7-6c3608939694",
   "metadata": {},
   "outputs": [
    {
     "name": "stdout",
     "output_type": "stream",
     "text": [
      "45.65\n",
      "<class 'float'>\n",
      "45.65\n",
      "<class 'str'>\n"
     ]
    }
   ],
   "source": [
    "#float to string typcasting\n",
    "a_float = 45.65\n",
    "print(a_float)\n",
    "print(type(a_float))\n",
    "a_string = str(a_float)\n",
    "print(a_string)\n",
    "print(type(a_string))"
   ]
  },
  {
   "cell_type": "code",
   "execution_count": 1,
   "id": "fa215d01-4436-40fc-8efa-26f3b064c7fa",
   "metadata": {},
   "outputs": [
    {
     "data": {
      "text/plain": [
       "{1: 'Abhi', 2: 'Yahoo'}"
      ]
     },
     "execution_count": 1,
     "metadata": {},
     "output_type": "execute_result"
    }
   ],
   "source": [
    "first_dic = {1:'Abhi', 2:'Yahoo'}\n",
    "first_dic"
   ]
  },
  {
   "cell_type": "code",
   "execution_count": 2,
   "id": "7e0ce928-82a1-417c-b62e-cbe8ce6ad9b2",
   "metadata": {},
   "outputs": [],
   "source": [
    "del first_dic[2]"
   ]
  },
  {
   "cell_type": "code",
   "execution_count": 3,
   "id": "4789111d-cd24-4135-9e00-ed7e951e0182",
   "metadata": {},
   "outputs": [
    {
     "data": {
      "text/plain": [
       "{1: 'Abhi'}"
      ]
     },
     "execution_count": 3,
     "metadata": {},
     "output_type": "execute_result"
    }
   ],
   "source": [
    "first_dic"
   ]
  },
  {
   "cell_type": "code",
   "execution_count": 1,
   "id": "ed2faa2c-6cfd-4721-a913-468887e3fa48",
   "metadata": {},
   "outputs": [
    {
     "data": {
      "text/plain": [
       "array([[ 3,  4,  5,  6,  7,  9, 10],\n",
       "       [ 9,  4,  3,  2,  1,  3,  9]])"
      ]
     },
     "execution_count": 1,
     "metadata": {},
     "output_type": "execute_result"
    }
   ],
   "source": [
    "import numpy as np\n",
    "\n",
    "my_array = np.array([[3,4,5,6,7,9,10],[9,4,3,2,1,3,9]])\n",
    "my_array"
   ]
  },
  {
   "cell_type": "code",
   "execution_count": 5,
   "id": "2e2f8a83-d318-4852-be1b-15c76c059677",
   "metadata": {},
   "outputs": [
    {
     "data": {
      "text/plain": [
       "7"
      ]
     },
     "execution_count": 5,
     "metadata": {},
     "output_type": "execute_result"
    }
   ],
   "source": [
    "np.trace(my_array)"
   ]
  },
  {
   "cell_type": "code",
   "execution_count": 6,
   "id": "c04d0661-0acf-4970-a97e-f62c2cafda48",
   "metadata": {},
   "outputs": [
    {
     "name": "stdout",
     "output_type": "stream",
     "text": [
      "[ 32  34 456  67 345 456]\n",
      "[ 32  34 456  67 345 456]\n"
     ]
    }
   ],
   "source": [
    "my_one_d_array = np.array([32,34,456,67,345,456])\n",
    "print(my_one_d_array)\n",
    "print(np.transpose(my_one_d_array))"
   ]
  },
  {
   "cell_type": "code",
   "execution_count": 10,
   "id": "5d0e5548-5d12-4da4-9042-811c3aca0fbe",
   "metadata": {},
   "outputs": [],
   "source": [
    "my_non_homogeneous_array = np.array([23,34543,54645,34534,434])"
   ]
  },
  {
   "cell_type": "code",
   "execution_count": 8,
   "id": "a56313ea-cf4c-43f7-98ce-0afcd16d05e4",
   "metadata": {},
   "outputs": [
    {
     "data": {
      "text/plain": [
       "array(['2343', '23', '34543', '54645', '34534', '434'], dtype='<U5')"
      ]
     },
     "execution_count": 8,
     "metadata": {},
     "output_type": "execute_result"
    }
   ],
   "source": [
    "my_non_homogeneous_array"
   ]
  },
  {
   "cell_type": "code",
   "execution_count": 11,
   "id": "39eebc05-ca91-47ca-b6bf-3c920c38b2ad",
   "metadata": {},
   "outputs": [
    {
     "data": {
      "text/plain": [
       "array([    69, 103629, 163935, 103602,   1302])"
      ]
     },
     "execution_count": 11,
     "metadata": {},
     "output_type": "execute_result"
    }
   ],
   "source": [
    "my_non_homogeneous_array*3"
   ]
  },
  {
   "cell_type": "code",
   "execution_count": 13,
   "id": "75b2c7ab-aa2b-4f9d-b5b2-1e6b6117981d",
   "metadata": {},
   "outputs": [
    {
     "data": {
      "text/plain": [
       "1"
      ]
     },
     "execution_count": 13,
     "metadata": {},
     "output_type": "execute_result"
    }
   ],
   "source": [
    "my_non_homogeneous_array.ndim"
   ]
  },
  {
   "cell_type": "code",
   "execution_count": 16,
   "id": "49b25fa3-1d85-4f4e-b759-de9acf05c1dc",
   "metadata": {},
   "outputs": [
    {
     "data": {
      "text/plain": [
       "(5,)"
      ]
     },
     "execution_count": 16,
     "metadata": {},
     "output_type": "execute_result"
    }
   ],
   "source": [
    "my_non_homogeneous_array.shape"
   ]
  },
  {
   "cell_type": "code",
   "execution_count": 18,
   "id": "3f3d0b11-2f0c-4564-9faf-5192b65eb348",
   "metadata": {},
   "outputs": [
    {
     "data": {
      "text/plain": [
       "dtype('int64')"
      ]
     },
     "execution_count": 18,
     "metadata": {},
     "output_type": "execute_result"
    }
   ],
   "source": [
    "my_non_homogeneous_array.dtype"
   ]
  },
  {
   "cell_type": "code",
   "execution_count": 29,
   "id": "a2065ecd-1e7c-4936-80ff-c23383f5cfb7",
   "metadata": {},
   "outputs": [],
   "source": [
    "my_string_array = np.array([[\"abcd6656\",\"efgh\",\"klmn\"],[\"fasd\",\"@#$\",\"dsaf\"]])"
   ]
  },
  {
   "cell_type": "code",
   "execution_count": 30,
   "id": "060c3b01-a1b0-4714-95c3-c2540ba2ce19",
   "metadata": {},
   "outputs": [
    {
     "data": {
      "text/plain": [
       "(2, 3)"
      ]
     },
     "execution_count": 30,
     "metadata": {},
     "output_type": "execute_result"
    }
   ],
   "source": [
    "my_string_array.shape"
   ]
  },
  {
   "cell_type": "code",
   "execution_count": 32,
   "id": "f9fef0c6-175e-434b-99cb-cdb889052078",
   "metadata": {},
   "outputs": [
    {
     "data": {
      "text/plain": [
       "array([['abcd6656', 'efgh', 'klmn'],\n",
       "       ['fasd', '@#$', 'dsaf']], dtype='<U8')"
      ]
     },
     "execution_count": 32,
     "metadata": {},
     "output_type": "execute_result"
    }
   ],
   "source": [
    "my_string_array"
   ]
  },
  {
   "cell_type": "code",
   "execution_count": 31,
   "id": "6e038b7b-fc4d-470b-bb04-2c4f5db4eb48",
   "metadata": {},
   "outputs": [
    {
     "data": {
      "text/plain": [
       "array(['abcd6656', 'efgh', 'klmn', 'fasd', '@#$', 'dsaf'], dtype='<U8')"
      ]
     },
     "execution_count": 31,
     "metadata": {},
     "output_type": "execute_result"
    }
   ],
   "source": [
    "my_flatten_string = my_string_array.reshape(6,)\n",
    "my_flatten_string"
   ]
  },
  {
   "cell_type": "code",
   "execution_count": 7,
   "id": "70d8ea3e-a1b8-4fa7-a528-d65fff438dd8",
   "metadata": {},
   "outputs": [],
   "source": [
    "firtst_trial = [10,15,17,26]\n",
    "second_trial = [12,11,21,24]\n",
    "np_first_trial = np.array(firtst_trial)\n",
    "np_second_trial = np.array(second_trial)\n"
   ]
  },
  {
   "cell_type": "code",
   "execution_count": 8,
   "id": "4bd7142e-830b-4a3c-aff0-3de277864054",
   "metadata": {},
   "outputs": [],
   "source": [
    "total_distance = np_first_trial + np_second_trial # numpy array will add the arrays with +"
   ]
  },
  {
   "cell_type": "code",
   "execution_count": 9,
   "id": "667a8a69-8469-4186-a12f-647985caf523",
   "metadata": {},
   "outputs": [
    {
     "data": {
      "text/plain": [
       "array([22, 26, 38, 50])"
      ]
     },
     "execution_count": 9,
     "metadata": {},
     "output_type": "execute_result"
    }
   ],
   "source": [
    "total_distance"
   ]
  },
  {
   "cell_type": "code",
   "execution_count": 12,
   "id": "13677814-20f3-4f58-8b5e-c76fe41ad1a0",
   "metadata": {},
   "outputs": [
    {
     "data": {
      "text/plain": [
       "[10, 15, 17, 26, 12, 11, 21, 24]"
      ]
     },
     "execution_count": 12,
     "metadata": {},
     "output_type": "execute_result"
    }
   ],
   "source": [
    "firtst_trial + second_trial # list will concatinate with +"
   ]
  },
  {
   "cell_type": "code",
   "execution_count": 13,
   "id": "c8bf08c8-4267-48d9-93fe-0a19d41ae0a8",
   "metadata": {},
   "outputs": [
    {
     "data": {
      "text/plain": [
       "array([10, 15, 17, 26])"
      ]
     },
     "execution_count": 13,
     "metadata": {},
     "output_type": "execute_result"
    }
   ],
   "source": [
    "cyclist_trial = np.array([[10,15,17,26],[12,11,21,24]])\n",
    "first_trial = cyclist_trial[0]\n",
    "first_trial"
   ]
  },
  {
   "cell_type": "code",
   "execution_count": 14,
   "id": "37b93b53-55d0-4d78-99c2-951a952d59b4",
   "metadata": {},
   "outputs": [
    {
     "data": {
      "text/plain": [
       "array([12, 11, 21, 24])"
      ]
     },
     "execution_count": 14,
     "metadata": {},
     "output_type": "execute_result"
    }
   ],
   "source": [
    "second_trial = cyclist_trial[1]\n",
    "second_trial"
   ]
  },
  {
   "cell_type": "code",
   "execution_count": 15,
   "id": "8949d04b-8306-49f9-b868-bf4bb4239ef2",
   "metadata": {},
   "outputs": [
    {
     "data": {
      "text/plain": [
       "10"
      ]
     },
     "execution_count": 15,
     "metadata": {},
     "output_type": "execute_result"
    }
   ],
   "source": [
    "first_cyclist_fisrt_trial = cyclist_trial[0][0] # first element of the first list\n",
    "first_cyclist_fisrt_trial"
   ]
  },
  {
   "cell_type": "code",
   "execution_count": 27,
   "id": "e2021af6-562a-429b-a623-b43791af1680",
   "metadata": {},
   "outputs": [
    {
     "data": {
      "text/plain": [
       "array([26, 24])"
      ]
     },
     "execution_count": 27,
     "metadata": {},
     "output_type": "execute_result"
    }
   ],
   "source": [
    "first_cyclist_all_trial = cyclist_trial[:,3]\n",
    "first_cyclist_all_trial"
   ]
  },
  {
   "cell_type": "code",
   "execution_count": 20,
   "id": "59108c29-19e4-4220-a08b-3254da8753a7",
   "metadata": {},
   "outputs": [
    {
     "data": {
      "text/plain": [
       "(2, 4)"
      ]
     },
     "execution_count": 20,
     "metadata": {},
     "output_type": "execute_result"
    }
   ],
   "source": [
    "cyclist_trial.shape"
   ]
  },
  {
   "cell_type": "code",
   "execution_count": 21,
   "id": "687988d7-92a5-44f9-a0b6-60274678e3cb",
   "metadata": {},
   "outputs": [
    {
     "data": {
      "text/plain": [
       "array([[10, 15, 17, 26],\n",
       "       [12, 11, 21, 24]])"
      ]
     },
     "execution_count": 21,
     "metadata": {},
     "output_type": "execute_result"
    }
   ],
   "source": [
    "cyclist_trial"
   ]
  },
  {
   "cell_type": "code",
   "execution_count": 28,
   "id": "6d6cc1e4-fd53-464a-a631-103f6cc8bf1a",
   "metadata": {},
   "outputs": [
    {
     "data": {
      "text/plain": [
       "array([[15, 17],\n",
       "       [11, 21]])"
      ]
     },
     "execution_count": 28,
     "metadata": {},
     "output_type": "execute_result"
    }
   ],
   "source": [
    "two_cyclist_trial_data = cyclist_trial[:,1:3] # when using the index range, last index-1 is considered (3 here will be considered as index 2)\n",
    "two_cyclist_trial_data"
   ]
  },
  {
   "cell_type": "code",
   "execution_count": 56,
   "id": "241aefd4-1be8-49e1-b7a3-fc9a2f1b8756",
   "metadata": {},
   "outputs": [
    {
     "data": {
      "text/plain": [
       "array([26, 24])"
      ]
     },
     "execution_count": 56,
     "metadata": {},
     "output_type": "execute_result"
    }
   ],
   "source": [
    "cyclist_trial[:,3] # when not using index range, the last index is equal to the actual index 3"
   ]
  },
  {
   "cell_type": "code",
   "execution_count": 30,
   "id": "c7d1bcee-2b33-4d25-9810-674551a3b0e0",
   "metadata": {},
   "outputs": [
    {
     "name": "stdout",
     "output_type": "stream",
     "text": [
      "red\n",
      "green\n",
      "blue\n",
      "yellow\n"
     ]
    }
   ],
   "source": [
    "my_list = [\"red\", \"green\", \"blue\",\"yellow\"]\n",
    "i = 0\n",
    "while i < len(my_list):\n",
    "    print(my_list[i])\n",
    "    i = i + 1"
   ]
  },
  {
   "cell_type": "code",
   "execution_count": 31,
   "id": "cfeb5f92-dd99-440a-a8a9-e932970af593",
   "metadata": {},
   "outputs": [
    {
     "data": {
      "text/plain": [
       "array([[False, False, False,  True],\n",
       "       [False, False,  True,  True]])"
      ]
     },
     "execution_count": 31,
     "metadata": {},
     "output_type": "execute_result"
    }
   ],
   "source": [
    "crossed_minimum = cyclist_trial > 20\n",
    "crossed_minimum"
   ]
  },
  {
   "cell_type": "code",
   "execution_count": 32,
   "id": "97a74572-d64d-429e-8041-870a5d4edf68",
   "metadata": {},
   "outputs": [],
   "source": [
    "crossed_minimum_trial = cyclist_trial[crossed_minimum]"
   ]
  },
  {
   "cell_type": "code",
   "execution_count": 33,
   "id": "d09cfa81-3ba8-4a6c-acf3-f37537b8c4e1",
   "metadata": {},
   "outputs": [
    {
     "data": {
      "text/plain": [
       "array([26, 21, 24])"
      ]
     },
     "execution_count": 33,
     "metadata": {},
     "output_type": "execute_result"
    }
   ],
   "source": [
    "crossed_minimum_trial"
   ]
  },
  {
   "cell_type": "code",
   "execution_count": 37,
   "id": "ac0b8840-16a4-44bd-bb74-d27b15615f28",
   "metadata": {},
   "outputs": [
    {
     "name": "stdout",
     "output_type": "stream",
     "text": [
      "None\n"
     ]
    }
   ],
   "source": [
    "print(crossed_minimum_trial.base)"
   ]
  },
  {
   "cell_type": "code",
   "execution_count": 38,
   "id": "20adaf59-4ceb-463c-9422-194d845ecc10",
   "metadata": {},
   "outputs": [],
   "source": [
    "crossed_minimum_trial_copy = crossed_minimum_trial.copy()"
   ]
  },
  {
   "cell_type": "code",
   "execution_count": 39,
   "id": "8e9a5346-bd1d-4da8-8829-df144ec87483",
   "metadata": {},
   "outputs": [
    {
     "name": "stdout",
     "output_type": "stream",
     "text": [
      "None\n"
     ]
    }
   ],
   "source": [
    "print(crossed_minimum_trial.base)"
   ]
  },
  {
   "cell_type": "code",
   "execution_count": 40,
   "id": "8c804b57-b4de-4f5e-9d53-f3c5ad83093c",
   "metadata": {},
   "outputs": [
    {
     "name": "stdout",
     "output_type": "stream",
     "text": [
      "None\n"
     ]
    }
   ],
   "source": [
    "print(crossed_minimum_trial_copy.base)"
   ]
  },
  {
   "cell_type": "code",
   "execution_count": 41,
   "id": "269d1663-b17d-44b1-9a03-bc8045561b7f",
   "metadata": {},
   "outputs": [],
   "source": [
    "crossed_minimum_tiral_view = crossed_minimum_trial.view()"
   ]
  },
  {
   "cell_type": "code",
   "execution_count": 42,
   "id": "36430a69-f578-4dfd-a3cb-30bd73c89051",
   "metadata": {},
   "outputs": [
    {
     "name": "stdout",
     "output_type": "stream",
     "text": [
      "None\n"
     ]
    }
   ],
   "source": [
    "print(crossed_minimum_trial.base)"
   ]
  },
  {
   "cell_type": "code",
   "execution_count": 43,
   "id": "d7ca8f26-a600-488e-8023-3e58d703186c",
   "metadata": {},
   "outputs": [
    {
     "name": "stdout",
     "output_type": "stream",
     "text": [
      "None\n"
     ]
    }
   ],
   "source": [
    "print(crossed_minimum_trial_copy.base)"
   ]
  },
  {
   "cell_type": "code",
   "execution_count": 45,
   "id": "fea0b90a-017c-491c-91d7-dcd20d57c1af",
   "metadata": {},
   "outputs": [
    {
     "name": "stdout",
     "output_type": "stream",
     "text": [
      "[26 21 24]\n"
     ]
    }
   ],
   "source": [
    "print(crossed_minimum_tiral_view.base)"
   ]
  },
  {
   "cell_type": "code",
   "execution_count": 46,
   "id": "1c9817ba-45ca-4749-9ec4-5427108774b2",
   "metadata": {},
   "outputs": [
    {
     "data": {
      "text/plain": [
       "79"
      ]
     },
     "execution_count": 46,
     "metadata": {},
     "output_type": "execute_result"
    }
   ],
   "source": [
    "np.add(34,45)"
   ]
  },
  {
   "cell_type": "code",
   "execution_count": 53,
   "id": "30d8105f-b2ce-416f-ac1d-e2fecf8b41ad",
   "metadata": {},
   "outputs": [
    {
     "data": {
      "text/plain": [
       "12066"
      ]
     },
     "execution_count": 53,
     "metadata": {},
     "output_type": "execute_result"
    }
   ],
   "source": [
    "np.sum([34,5456,6576])"
   ]
  },
  {
   "cell_type": "code",
   "execution_count": null,
   "id": "b80b6aac-fc16-458b-bdd1-33c7996f979f",
   "metadata": {},
   "outputs": [],
   "source": []
  }
 ],
 "metadata": {
  "kernelspec": {
   "display_name": "Python 3",
   "language": "python",
   "name": "python3"
  },
  "language_info": {
   "codemirror_mode": {
    "name": "ipython",
    "version": 3
   },
   "file_extension": ".py",
   "mimetype": "text/x-python",
   "name": "python",
   "nbconvert_exporter": "python",
   "pygments_lexer": "ipython3",
   "version": "3.8.10"
  }
 },
 "nbformat": 4,
 "nbformat_minor": 5
}
