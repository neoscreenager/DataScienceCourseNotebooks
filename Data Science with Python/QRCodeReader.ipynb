{
 "cells": [
  {
   "cell_type": "code",
   "execution_count": 5,
   "id": "8bcb51a0-2b14-4ef7-848e-2df9daeb5fdc",
   "metadata": {},
   "outputs": [],
   "source": [
    "import glob\n",
    "import cv2 # opencv 2 for python\n",
    "import pandas as pd\n",
    "import pathlib"
   ]
  },
  {
   "cell_type": "code",
   "execution_count": 6,
   "id": "ea7dce66-9ea6-4b96-a05a-bb2f0b0018e5",
   "metadata": {},
   "outputs": [],
   "source": [
    "def read_qr_code(filename):\n",
    "    \"\"\"Read an image and read the QR code.\n",
    "    \n",
    "    Args:\n",
    "        filename (string): Path to file\n",
    "    \n",
    "    Returns:\n",
    "        qr (string): Value from QR code\n",
    "    \"\"\"\n",
    "    \n",
    "    try:\n",
    "        img = cv2.imread(filename)\n",
    "        detect = cv2.QRCodeDetector()\n",
    "        value, points, straight_qrcode = detect.detectAndDecode(img)\n",
    "        return value\n",
    "    except:\n",
    "        return"
   ]
  },
  {
   "cell_type": "code",
   "execution_count": 7,
   "id": "379a5d8f-ddea-42b1-b072-735ebbe77114",
   "metadata": {},
   "outputs": [],
   "source": [
    "value = read_qr_code('/home/neo/Pictures/sheridanIDRegForm.png')"
   ]
  },
  {
   "cell_type": "code",
   "execution_count": 4,
   "id": "72e4c4df-1566-4e0c-bc67-e29decefdfb5",
   "metadata": {},
   "outputs": [
    {
     "name": "stdout",
     "output_type": "stream",
     "text": [
      "https://forms.gle/QSM5YMfsjwsJ4MEs6\n"
     ]
    }
   ],
   "source": [
    "print(value)"
   ]
  },
  {
   "cell_type": "code",
   "execution_count": null,
   "id": "d15d032f-70c7-4a87-bc1b-db3f6e880619",
   "metadata": {},
   "outputs": [],
   "source": []
  }
 ],
 "metadata": {
  "kernelspec": {
   "display_name": "Python 3 (ipykernel)",
   "language": "python",
   "name": "python3"
  },
  "language_info": {
   "codemirror_mode": {
    "name": "ipython",
    "version": 3
   },
   "file_extension": ".py",
   "mimetype": "text/x-python",
   "name": "python",
   "nbconvert_exporter": "python",
   "pygments_lexer": "ipython3",
   "version": "3.8.10"
  }
 },
 "nbformat": 4,
 "nbformat_minor": 5
}
