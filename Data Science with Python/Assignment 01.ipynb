{
 "cells": [
  {
   "cell_type": "markdown",
   "metadata": {},
   "source": [
    "<img src=\"http://cfs22.simplicdn.net/ice9/new_logo.svgz \"/>\n",
    "\n",
    "# Assignment 01: Evaluate the GDP Dataset\n",
    "\n",
    "*The comments/sections provided are your cues to perform the assignment. You don't need to limit yourself to the number of rows/cells provided. You can add additional rows in each section to add more lines of code.*\n",
    "\n",
    "*If at any point in time you need help on solving this assignment, view our demo video to understand the different steps of the code.*\n",
    "\n",
    "**Happy coding!**\n",
    "\n",
    "* * *"
   ]
  },
  {
   "cell_type": "markdown",
   "metadata": {},
   "source": [
    "#### 1: View and add the dataset"
   ]
  },
  {
   "cell_type": "code",
   "execution_count": 2,
   "metadata": {
    "tags": []
   },
   "outputs": [],
   "source": [
    "#Import required library\n",
    "import numpy as np\n"
   ]
  },
  {
   "cell_type": "code",
   "execution_count": 17,
   "metadata": {
    "tags": []
   },
   "outputs": [],
   "source": [
    "#Manually add the dataset\n",
    "all_countries = np.array(['Algeria','Angola','Argentina','Australia','Austria','Bahamas',\n",
    "                          'Bangladesh','Belarus','Belgium','Bhutan','Brazil','Bulgaria',\n",
    "                          'Cambodia','Cameroon','Chile','China','Colombia','Cyprus','Denmark',\n",
    "                          'El Salvador','Estonia','Ethiopia','Fiji','Finland','France','Georgia','Ghana',\n",
    "                          'Grenada','Guinea','Haiti','Honduras','Hungary','India','Indonesia','Ireland','Italy',\n",
    "                          'Japan','Kenya', 'South Korea','Liberia','Malaysia','Mexico', 'Morocco','Nepal',\n",
    "                          'New Zealand','Norway','Pakistan', 'Peru','Qatar','Russia','Singapore',\n",
    "                          'South Africa','Spain','Sweden','Switzerland','Thailand', 'United Arab Emirates',\n",
    "                          'United Kingdom','United States','Uruguay','Venezuela','Vietnam','Zimbabwe'])\n",
    "\n",
    "all_countries_gdp = np.array([2255.225482,629.9553062,11601.63022,25306.82494,27266.40335,\n",
    "                              19466.99052,588.3691778,2890.345675,24733.62696,1445.760002,4803.398244,2618.876037,\n",
    "                              590.4521124,665.7982328,7122.938458,2639.54156,3362.4656,15378.16704,30860.12808,\n",
    "                              2579.115607,6525.541272,229.6769525,2242.689259,27570.4852,23016.84778,\n",
    "                              1334.646773,402.6953275,6047.200797,394.1156638,385.5793827,1414.072488,\n",
    "                              5745.981529,837.7464011,1206.991065,27715.52837,18937.24998,39578.07441,\n",
    "                              478.2194906,16684.21278,279.2204061,5345.213415,6288.25324,1908.304416,\n",
    "                              274.8728621,14646.42094,40034.85063,672.1547506,3359.517402,36152.66676,\n",
    "                              3054.727742,33529.83052,3825.093781,15428.32098,33630.24604,39170.41371,\n",
    "                              2699.123242,21058.43643,28272.40661,37691.02733,9581.05659,5671.912202,\n",
    "                              757.4009286,347.7456605])\n",
    "\n"
   ]
  },
  {
   "cell_type": "markdown",
   "metadata": {},
   "source": [
    "#### 2: Find and print the name of the country with the highest GDP"
   ]
  },
  {
   "cell_type": "code",
   "execution_count": 18,
   "metadata": {
    "collapsed": false,
    "jupyter": {
     "outputs_hidden": false
    }
   },
   "outputs": [
    {
     "name": "stdout",
     "output_type": "stream",
     "text": [
      "Highest GDP: 40034.85063\n"
     ]
    }
   ],
   "source": [
    "#Use the argmax() method to find the highest GDP\n",
    "highest_gdp_country_index = all_countries_gdp.argmax()\n",
    "print('Highest GDP:', all_countries_gdp[highest_gdp_country_index])"
   ]
  },
  {
   "cell_type": "code",
   "execution_count": 19,
   "metadata": {
    "tags": []
   },
   "outputs": [
    {
     "name": "stdout",
     "output_type": "stream",
     "text": [
      "Country with the highest GDP: Norway\n"
     ]
    }
   ],
   "source": [
    "#Print the name of the country\n",
    "print('Country with the highest GDP:', all_countries[highest_gdp_country_index])"
   ]
  },
  {
   "cell_type": "markdown",
   "metadata": {},
   "source": [
    "#### 3: Find and print the name of the country with the lowest GDP"
   ]
  },
  {
   "cell_type": "code",
   "execution_count": 20,
   "metadata": {
    "tags": []
   },
   "outputs": [
    {
     "name": "stdout",
     "output_type": "stream",
     "text": [
      "Lowest GDP: 229.6769525\n"
     ]
    }
   ],
   "source": [
    "#Use the argmin() method to find the lowest GDP\n",
    "lowest_gdp_country_index = all_countries_gdp.argmin()\n",
    "print('Lowest GDP:', all_countries_gdp[lowest_gdp_country_index])"
   ]
  },
  {
   "cell_type": "code",
   "execution_count": 21,
   "metadata": {
    "tags": []
   },
   "outputs": [
    {
     "name": "stdout",
     "output_type": "stream",
     "text": [
      "Country with the lowest GDP: Ethiopia\n"
     ]
    }
   ],
   "source": [
    "#Print the name of the country\n",
    "print('Country with the lowest GDP:', all_countries[lowest_gdp_country_index])"
   ]
  },
  {
   "cell_type": "markdown",
   "metadata": {},
   "source": [
    "#### 4: Print out text ('evaluating country') and input value ('country name') iteratively"
   ]
  },
  {
   "cell_type": "code",
   "execution_count": 22,
   "metadata": {
    "collapsed": false,
    "jupyter": {
     "outputs_hidden": false
    }
   },
   "outputs": [
    {
     "name": "stdout",
     "output_type": "stream",
     "text": [
      "evaluating country: Algeria\n",
      "evaluating country: Angola\n",
      "evaluating country: Argentina\n",
      "evaluating country: Australia\n",
      "evaluating country: Austria\n",
      "evaluating country: Bahamas\n",
      "evaluating country: Bangladesh\n",
      "evaluating country: Belarus\n",
      "evaluating country: Belgium\n",
      "evaluating country: Bhutan\n",
      "evaluating country: Brazil\n",
      "evaluating country: Bulgaria\n",
      "evaluating country: Cambodia\n",
      "evaluating country: Cameroon\n",
      "evaluating country: Chile\n",
      "evaluating country: China\n",
      "evaluating country: Colombia\n",
      "evaluating country: Cyprus\n",
      "evaluating country: Denmark\n",
      "evaluating country: El Salvador\n",
      "evaluating country: Estonia\n",
      "evaluating country: Ethiopia\n",
      "evaluating country: Fiji\n",
      "evaluating country: Finland\n",
      "evaluating country: France\n",
      "evaluating country: Georgia\n",
      "evaluating country: Ghana\n",
      "evaluating country: Grenada\n",
      "evaluating country: Guinea\n",
      "evaluating country: Haiti\n",
      "evaluating country: Honduras\n",
      "evaluating country: Hungary\n",
      "evaluating country: India\n",
      "evaluating country: Indonesia\n",
      "evaluating country: Ireland\n",
      "evaluating country: Italy\n",
      "evaluating country: Japan\n",
      "evaluating country: Kenya\n",
      "evaluating country: South Korea\n",
      "evaluating country: Liberia\n",
      "evaluating country: Malaysia\n",
      "evaluating country: Mexico\n",
      "evaluating country: Morocco\n",
      "evaluating country: Nepal\n",
      "evaluating country: New Zealand\n",
      "evaluating country: Norway\n",
      "evaluating country: Pakistan\n",
      "evaluating country: Peru\n",
      "evaluating country: Qatar\n",
      "evaluating country: Russia\n",
      "evaluating country: Singapore\n",
      "evaluating country: South Africa\n",
      "evaluating country: Spain\n",
      "evaluating country: Sweden\n",
      "evaluating country: Switzerland\n",
      "evaluating country: Thailand\n",
      "evaluating country: United Arab Emirates\n",
      "evaluating country: United Kingdom\n",
      "evaluating country: United States\n",
      "evaluating country: Uruguay\n",
      "evaluating country: Venezuela\n",
      "evaluating country: Vietnam\n",
      "evaluating country: Zimbabwe\n"
     ]
    }
   ],
   "source": [
    "#Use a for loop to print the required output\n",
    "for country in all_countries:\n",
    "    print('evaluating country:', country)"
   ]
  },
  {
   "cell_type": "markdown",
   "metadata": {},
   "source": [
    "#### 5: Print out the entire list of the countries with their GDPs"
   ]
  },
  {
   "cell_type": "code",
   "execution_count": 28,
   "metadata": {
    "collapsed": false,
    "jupyter": {
     "outputs_hidden": false
    }
   },
   "outputs": [
    {
     "name": "stdout",
     "output_type": "stream",
     "text": [
      "GDP for Algeria is 2255.225482\n",
      "GDP for Angola is 629.9553062\n",
      "GDP for Argentina is 11601.63022\n",
      "GDP for Australia is 25306.82494\n",
      "GDP for Austria is 27266.40335\n",
      "GDP for Bahamas is 19466.99052\n",
      "GDP for Bangladesh is 588.3691778\n",
      "GDP for Belarus is 2890.345675\n",
      "GDP for Belgium is 24733.62696\n",
      "GDP for Bhutan is 1445.760002\n",
      "GDP for Brazil is 4803.398244\n",
      "GDP for Bulgaria is 2618.876037\n",
      "GDP for Cambodia is 590.4521124\n",
      "GDP for Cameroon is 665.7982328\n",
      "GDP for Chile is 7122.938458\n",
      "GDP for China is 2639.54156\n",
      "GDP for Colombia is 3362.4656\n",
      "GDP for Cyprus is 15378.16704\n",
      "GDP for Denmark is 30860.12808\n",
      "GDP for El Salvador is 2579.115607\n",
      "GDP for Estonia is 6525.541272\n",
      "GDP for Ethiopia is 229.6769525\n",
      "GDP for Fiji is 2242.689259\n",
      "GDP for Finland is 27570.4852\n",
      "GDP for France is 23016.84778\n",
      "GDP for Georgia is 1334.646773\n",
      "GDP for Ghana is 402.6953275\n",
      "GDP for Grenada is 6047.200797\n",
      "GDP for Guinea is 394.1156638\n",
      "GDP for Haiti is 385.5793827\n",
      "GDP for Honduras is 1414.072488\n",
      "GDP for Hungary is 5745.981529\n",
      "GDP for India is 837.7464011\n",
      "GDP for Indonesia is 1206.991065\n",
      "GDP for Ireland is 27715.52837\n",
      "GDP for Italy is 18937.24998\n",
      "GDP for Japan is 39578.07441\n",
      "GDP for Kenya is 478.2194906\n",
      "GDP for South Korea is 16684.21278\n",
      "GDP for Liberia is 279.2204061\n",
      "GDP for Malaysia is 5345.213415\n",
      "GDP for Mexico is 6288.25324\n",
      "GDP for Morocco is 1908.304416\n",
      "GDP for Nepal is 274.8728621\n",
      "GDP for New Zealand is 14646.42094\n",
      "GDP for Norway is 40034.85063\n",
      "GDP for Pakistan is 672.1547506\n",
      "GDP for Peru is 3359.517402\n",
      "GDP for Qatar is 36152.66676\n",
      "GDP for Russia is 3054.727742\n",
      "GDP for Singapore is 33529.83052\n",
      "GDP for South Africa is 3825.093781\n",
      "GDP for Spain is 15428.32098\n",
      "GDP for Sweden is 33630.24604\n",
      "GDP for Switzerland is 39170.41371\n",
      "GDP for Thailand is 2699.123242\n",
      "GDP for United Arab Emirates is 21058.43643\n",
      "GDP for United Kingdom is 28272.40661\n",
      "GDP for United States is 37691.02733\n",
      "GDP for Uruguay is 9581.05659\n",
      "GDP for Venezuela is 5671.912202\n",
      "GDP for Vietnam is 757.4009286\n",
      "GDP for Zimbabwe is 347.7456605\n"
     ]
    }
   ],
   "source": [
    "#Use a for loop to print the required list\n",
    "for i in range(0,len(all_countries)):\n",
    "    print('GDP for {} is {}'.format(all_countries[i], all_countries_gdp[i]))"
   ]
  },
  {
   "cell_type": "markdown",
   "metadata": {},
   "source": [
    "V020672#### 6: Print the following:\n",
    "1. Highest GPD value\n",
    "2. Lowest GDP value\n",
    "3. Mean GDP value\n",
    "4. Standardized GDP value\n",
    "5. Sum of all the GDPs"
   ]
  },
  {
   "cell_type": "code",
   "execution_count": 30,
   "metadata": {
    "tags": []
   },
   "outputs": [
    {
     "name": "stdout",
     "output_type": "stream",
     "text": [
      "Highest GDP: 40034.85063\n",
      "Lowest GDP: 229.6769525\n",
      "Mean GDP: 11289.409271639683\n",
      "Standardized GDP: 12743.828910617945\n",
      "Sum of all GDPs: 711232.7841133\n"
     ]
    }
   ],
   "source": [
    "print('Highest GDP:',all_countries_gdp.max())\n",
    "print('Lowest GDP:',all_countries_gdp.min())\n",
    "print('Mean GDP:',all_countries_gdp.mean())\n",
    "print('Standardized GDP:',all_countries_gdp.std())\n",
    "print('Sum of all GDPs:',all_countries_gdp.sum())"
   ]
  },
  {
   "cell_type": "code",
   "execution_count": null,
   "metadata": {},
   "outputs": [],
   "source": []
  }
 ],
 "metadata": {
  "kernelspec": {
   "display_name": "Python 3",
   "language": "python",
   "name": "python3"
  },
  "language_info": {
   "codemirror_mode": {
    "name": "ipython",
    "version": 3
   },
   "file_extension": ".py",
   "mimetype": "text/x-python",
   "name": "python",
   "nbconvert_exporter": "python",
   "pygments_lexer": "ipython3",
   "version": "3.8.10"
  }
 },
 "nbformat": 4,
 "nbformat_minor": 4
}
