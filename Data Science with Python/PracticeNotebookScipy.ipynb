{
 "cells": [
  {
   "cell_type": "code",
   "execution_count": 49,
   "id": "31b28200-2242-4fa5-b067-586df273bccf",
   "metadata": {},
   "outputs": [],
   "source": [
    "import numpy as np\n",
    "import scipy.linalg as la"
   ]
  },
  {
   "cell_type": "code",
   "execution_count": 50,
   "id": "7c2c6bb5-9639-4d2d-801b-a6ba80e1d61a",
   "metadata": {},
   "outputs": [
    {
     "data": {
      "text/plain": [
       "array([[10,  6],\n",
       "       [ 2,  7]])"
      ]
     },
     "execution_count": 50,
     "metadata": {},
     "output_type": "execute_result"
    }
   ],
   "source": [
    "matrix = np.array([[10,6],[2,7]])\n",
    "matrix"
   ]
  },
  {
   "cell_type": "code",
   "execution_count": 51,
   "id": "8e2163cf-a509-452a-b499-b94d422eaa7b",
   "metadata": {},
   "outputs": [
    {
     "data": {
      "text/plain": [
       "numpy.ndarray"
      ]
     },
     "execution_count": 51,
     "metadata": {},
     "output_type": "execute_result"
    }
   ],
   "source": [
    "type(matrix)"
   ]
  },
  {
   "cell_type": "code",
   "execution_count": 52,
   "id": "3d987a73-7264-4756-bb1e-021483d4c417",
   "metadata": {},
   "outputs": [
    {
     "name": "stdout",
     "output_type": "stream",
     "text": [
      "Inverse of matrix :  [[ 0.12068966 -0.10344828]\n",
      " [-0.03448276  0.17241379]]\n"
     ]
    }
   ],
   "source": [
    "print(\"Inverse of matrix : \", la.inv(matrix))"
   ]
  },
  {
   "cell_type": "code",
   "execution_count": 53,
   "id": "b640fd49-4ba4-436a-88dd-015cca94da04",
   "metadata": {},
   "outputs": [
    {
     "name": "stdout",
     "output_type": "stream",
     "text": [
      "[[4 9]\n",
      " [3 5]]\n",
      "Determinent of matrix:  -6.999999999999999\n"
     ]
    }
   ],
   "source": [
    "matrix = np.array([[4,9],[3,5]])\n",
    "print(matrix)\n",
    "print(\"Determinent of matrix: \", la.det(matrix))\n"
   ]
  },
  {
   "cell_type": "code",
   "execution_count": 54,
   "id": "e23ae1fe-021c-42c8-85b7-18e418fca9bf",
   "metadata": {},
   "outputs": [
    {
     "name": "stdout",
     "output_type": "stream",
     "text": [
      "[[0 2 3]\n",
      " [4 5 6]\n",
      " [7 8 9]]\n"
     ]
    },
    {
     "data": {
      "text/plain": [
       "3.0"
      ]
     },
     "execution_count": 54,
     "metadata": {},
     "output_type": "execute_result"
    }
   ],
   "source": [
    "a = np.array([[0,2,3], [4,5,6], [7,8,9]])\n",
    "print(a)\n",
    "la.det(a)"
   ]
  },
  {
   "cell_type": "code",
   "execution_count": 55,
   "id": "609b599c-5413-47ed-b31c-30b639d92870",
   "metadata": {},
   "outputs": [
    {
     "name": "stdout",
     "output_type": "stream",
     "text": [
      "x =  4.95\n",
      "y =  4.35\n",
      "z =  -1.95\n"
     ]
    }
   ],
   "source": [
    "# Solving linear equations\n",
    "# 2x + 3y + z = 21\n",
    "# -x + 5y + 4z = 9\n",
    "# 3x + 2y + 9z = 6\n",
    "coefficients_array = np.array([[2,3,1],[-1,5,4],[3,2,9]])\n",
    "values_array = np.array([21,9,6])\n",
    "solution_array = la.solve(coefficients_array, values_array)\n",
    "print(\"x = \",round(solution_array[0],2))\n",
    "print(\"y = \",round(solution_array[1],2)) # rounding up the values to two decimal places\n",
    "print(\"z = \",round(solution_array[2],2))\n"
   ]
  },
  {
   "cell_type": "code",
   "execution_count": 56,
   "id": "d9e5b454-54a4-4ea8-8aa2-bf8fe6e5270b",
   "metadata": {},
   "outputs": [
    {
     "data": {
      "text/plain": [
       "21.0"
      ]
     },
     "execution_count": 56,
     "metadata": {},
     "output_type": "execute_result"
    }
   ],
   "source": [
    "4.95*2 + 4.35*3 + -1.95"
   ]
  },
  {
   "cell_type": "code",
   "execution_count": 97,
   "id": "dc5e5a82-b499-4418-8da5-262ec3c94bdc",
   "metadata": {},
   "outputs": [],
   "source": [
    "from scipy.stats import norm # norm package is for normal distribution\n",
    "import matplotlib.pyplot as plt"
   ]
  },
  {
   "cell_type": "code",
   "execution_count": 94,
   "id": "7b4c6dbc-b9ee-4a95-90e6-3a3a62edd92a",
   "metadata": {},
   "outputs": [],
   "source": [
    "x = np.linspace(-6, 6, 1000) # creating 1000 random values between -6 and 6"
   ]
  },
  {
   "cell_type": "code",
   "execution_count": 102,
   "id": "0aafeaf7-a3ec-417e-ba40-2049d1c6e514",
   "metadata": {},
   "outputs": [],
   "source": [
    "# create the PDF (probability density function)\n",
    "fx = norm.pdf(x, loc=0, scale=1) # loc = mean, scale = Std. Dev. mean 0 and SD 1 means normal distribution"
   ]
  },
  {
   "cell_type": "code",
   "execution_count": 105,
   "id": "e6d77fa6-203c-4057-aa4d-1aabc053bc42",
   "metadata": {},
   "outputs": [
    {
     "data": {
      "image/png": "[encoded data removed]",
      "text/plain": [
       "<Figure size 432x288 with 1 Axes>"
      ]
     },
     "metadata": {
      "needs_background": "light"
     },
     "output_type": "display_data"
    }
   ],
   "source": [
    "plt.plot(x, fx) # plotting the PDF\n",
    "plt.show()"
   ]
  },
  {
   "cell_type": "code",
   "execution_count": 103,
   "id": "69eb857e-490b-4781-8dfb-f8eedd2603df",
   "metadata": {},
   "outputs": [],
   "source": [
    "# create the CDF (cumulative distribution function)\n",
    "Fx = norm.cdf(x, loc=0, scale=1)"
   ]
  },
  {
   "cell_type": "code",
   "execution_count": 104,
   "id": "57d756cb-2e5e-430e-bc3d-9b27bd9721c8",
   "metadata": {},
   "outputs": [
    {
     "data": {
      "image/png": "[encoded data removed]",
      "text/plain": [
       "<Figure size 432x288 with 1 Axes>"
      ]
     },
     "metadata": {
      "needs_background": "light"
     },
     "output_type": "display_data"
    }
   ],
   "source": [
    "plt.plot(x, Fx) #plotting the CDF\n",
    "plt.show()"
   ]
  },
  {
   "cell_type": "code",
   "execution_count": 58,
   "id": "89db50e2-369d-45c4-aa27-b42871f6cccf",
   "metadata": {},
   "outputs": [
    {
     "data": {
      "text/plain": [
       "array([ 0.36459413,  0.41231519, -0.10897555, -0.41569429, -1.04558898,\n",
       "       -0.14222819, -0.12674937,  0.86020177,  1.02739365, -0.69372689])"
      ]
     },
     "execution_count": 58,
     "metadata": {},
     "output_type": "execute_result"
    }
   ],
   "source": [
    "norm.rvs(loc=0, scale=1, size=10) # rvs for random variables"
   ]
  },
  {
   "cell_type": "code",
   "execution_count": 59,
   "id": "3755597e-d15b-43fb-bd54-580bbb8d17f7",
   "metadata": {},
   "outputs": [
    {
     "data": {
      "text/plain": [
       "0.9772498680518208"
      ]
     },
     "execution_count": 59,
     "metadata": {},
     "output_type": "execute_result"
    }
   ],
   "source": [
    "norm.cdf(5, loc=1, scale=2)"
   ]
  },
  {
   "cell_type": "code",
   "execution_count": 60,
   "id": "2378fa4d-dcbf-4547-972b-a5d810d2728d",
   "metadata": {},
   "outputs": [
    {
     "data": {
      "text/plain": [
       "1.0279773571668917e-18"
      ]
     },
     "execution_count": 60,
     "metadata": {},
     "output_type": "execute_result"
    }
   ],
   "source": [
    "norm.pdf(9, loc=0, scale=1)"
   ]
  },
  {
   "cell_type": "code",
   "execution_count": 61,
   "id": "09e84173-2f07-41cc-912a-8ed9d54e8ea3",
   "metadata": {},
   "outputs": [],
   "source": [
    "# integration\n",
    "from scipy.integrate import quad"
   ]
  },
  {
   "cell_type": "code",
   "execution_count": 62,
   "id": "1f4019e1-5f9a-43dc-9172-4beeebbd9eaf",
   "metadata": {},
   "outputs": [],
   "source": [
    "def integrateFunction(x):\n",
    "    return x"
   ]
  },
  {
   "cell_type": "code",
   "execution_count": 63,
   "id": "f21cd667-73cc-4da8-a30c-d2928efadc37",
   "metadata": {},
   "outputs": [
    {
     "data": {
      "text/plain": [
       "(0.5, 5.551115123125783e-15)"
      ]
     },
     "execution_count": 63,
     "metadata": {},
     "output_type": "execute_result"
    }
   ],
   "source": [
    "quad(integrateFunction,0,1) # the second value in the output is the error value"
   ]
  },
  {
   "cell_type": "code",
   "execution_count": 64,
   "id": "5ae8b63a-5fdd-437f-a772-312c9c60c3d8",
   "metadata": {},
   "outputs": [],
   "source": [
    "def integrateFn(x,a,b):\n",
    "    return x * a + b"
   ]
  },
  {
   "cell_type": "code",
   "execution_count": 65,
   "id": "54f75b69-c202-45cd-acd2-55735bff232a",
   "metadata": {},
   "outputs": [],
   "source": [
    "a = 3\n",
    "b = 2 "
   ]
  },
  {
   "cell_type": "code",
   "execution_count": 66,
   "id": "25a8bb98-8b61-43c7-8ec7-40a82707754b",
   "metadata": {},
   "outputs": [
    {
     "data": {
      "text/plain": [
       "(3.5, 3.885780586188048e-14)"
      ]
     },
     "execution_count": 66,
     "metadata": {},
     "output_type": "execute_result"
    }
   ],
   "source": [
    "quad(integrateFn,0,1,args=(a,b)) # for infinite functions, np.Infinity can be used"
   ]
  },
  {
   "cell_type": "code",
   "execution_count": 67,
   "id": "8965ebcd-5c44-44b7-b687-03a22e3801a5",
   "metadata": {},
   "outputs": [],
   "source": [
    "# Dblquad\n",
    "def f(x, y):\n",
    "    return x*y"
   ]
  },
  {
   "cell_type": "code",
   "execution_count": 68,
   "id": "690ee54b-9b18-4e38-8b4c-92052ee20fd9",
   "metadata": {},
   "outputs": [],
   "source": [
    "import scipy.integrate as integrate"
   ]
  },
  {
   "cell_type": "code",
   "execution_count": 69,
   "id": "9d7ec1dd-5458-4616-97f6-2187435359ea",
   "metadata": {},
   "outputs": [],
   "source": [
    "area = integrate.dblquad(f, 0, 2, 0, 5) # 0,2 are the limits for x and 0,5 are the limits for y"
   ]
  },
  {
   "cell_type": "code",
   "execution_count": 70,
   "id": "61e9c8af-2cd6-4eb2-82e2-faeb94b095cc",
   "metadata": {},
   "outputs": [
    {
     "data": {
      "text/plain": [
       "(25.0, 2.7755575615628914e-13)"
      ]
     },
     "execution_count": 70,
     "metadata": {},
     "output_type": "execute_result"
    }
   ],
   "source": [
    "area"
   ]
  },
  {
   "cell_type": "code",
   "execution_count": 71,
   "id": "fec13eaa-b80e-45da-8040-d307eb62a405",
   "metadata": {},
   "outputs": [],
   "source": [
    "# function x^2y^2\n",
    "def fun(x, y):\n",
    "    return (x**2)*(y**2) "
   ]
  },
  {
   "cell_type": "code",
   "execution_count": 72,
   "id": "834a9584-ab1f-4f66-a558-a05fc872da63",
   "metadata": {},
   "outputs": [
    {
     "name": "stdout",
     "output_type": "stream",
     "text": [
      "(0.8888888888888891, 1.4738756557205898e-14)\n"
     ]
    }
   ],
   "source": [
    "area =  integrate.dblquad(fun, 0, 2, 0, 1) # double integrating the function fun with x limit as 0, 2 and y limit as 0, 1\n",
    "print(area)"
   ]
  },
  {
   "cell_type": "code",
   "execution_count": 73,
   "id": "84374d15-c226-406f-97c4-6431d5ccbef6",
   "metadata": {},
   "outputs": [],
   "source": [
    "f = lambda x,y: x*y"
   ]
  },
  {
   "cell_type": "code",
   "execution_count": 74,
   "id": "943458b6-314d-46b9-8fd2-6ab7c79f618c",
   "metadata": {},
   "outputs": [
    {
     "data": {
      "text/plain": [
       "(25.0, 2.7755575615628914e-13)"
      ]
     },
     "execution_count": 74,
     "metadata": {},
     "output_type": "execute_result"
    }
   ],
   "source": [
    "area =  integrate.dblquad(f, 0, 2, 0, 5)\n",
    "area"
   ]
  },
  {
   "cell_type": "code",
   "execution_count": 75,
   "id": "840bd5b1-ca42-46b7-a900-3b0c72622b47",
   "metadata": {},
   "outputs": [],
   "source": [
    "# using lambda function to pass limits \n",
    "def ff(x, y):\n",
    "    return x*y"
   ]
  },
  {
   "cell_type": "code",
   "execution_count": 76,
   "id": "2295c53a-67ff-4e99-b5e2-cb3559c2792f",
   "metadata": {},
   "outputs": [
    {
     "data": {
      "text/plain": [
       "(25.0, 2.7755575615628914e-13)"
      ]
     },
     "execution_count": 76,
     "metadata": {},
     "output_type": "execute_result"
    }
   ],
   "source": [
    "area =  integrate.dblquad(ff, 0, 2, lambda y: 0, lambda y: 5)\n",
    "area"
   ]
  },
  {
   "cell_type": "code",
   "execution_count": 77,
   "id": "cbaeb8fd-40d1-421f-90c2-5ea25cc4f8b3",
   "metadata": {},
   "outputs": [],
   "source": [
    "from scipy import optimize"
   ]
  },
  {
   "cell_type": "code",
   "execution_count": 78,
   "id": "0fb7115b-4a6d-4e6b-88f5-5d3c609ab92c",
   "metadata": {},
   "outputs": [],
   "source": [
    "def morefun(x):\n",
    "    return x**2 + 5*np.sin(x)"
   ]
  },
  {
   "cell_type": "code",
   "execution_count": 79,
   "id": "4f30c89d-20a2-4d75-abbe-7c4777bf7b70",
   "metadata": {},
   "outputs": [
    {
     "name": "stdout",
     "output_type": "stream",
     "text": [
      "Optimization terminated successfully.\n",
      "         Current function value: -3.246394\n",
      "         Iterations: 5\n",
      "         Function evaluations: 27\n",
      "         Gradient evaluations: 9\n"
     ]
    }
   ],
   "source": [
    "# we will minimize the morefun function using 'bfgs' alglorithm with minimum valule x0 = 2\n",
    "minimima = optimize.minimize(morefun, x0=2, method='bfgs', options={'disp':True})"
   ]
  },
  {
   "cell_type": "code",
   "execution_count": 80,
   "id": "2e105925-4eef-4aae-98af-2c2388ccda0d",
   "metadata": {},
   "outputs": [],
   "source": [
    "minimawithouthdisplaytrue = optimize.minimize(morefun, x0=2, method=\"bfgs\")"
   ]
  },
  {
   "cell_type": "code",
   "execution_count": 81,
   "id": "1c48f29b-79da-4c7d-9950-ddb7705b146a",
   "metadata": {},
   "outputs": [
    {
     "data": {
      "text/plain": [
       "      fun: -3.2463942726915196\n",
       " hess_inv: array([[0.15445831]])\n",
       "      jac: array([-4.47034836e-07])\n",
       "  message: 'Optimization terminated successfully.'\n",
       "     nfev: 27\n",
       "      nit: 5\n",
       "     njev: 9\n",
       "   status: 0\n",
       "  success: True\n",
       "        x: array([-1.11051058])"
      ]
     },
     "execution_count": 81,
     "metadata": {},
     "output_type": "execute_result"
    }
   ],
   "source": [
    "minimawithouthdisplaytrue"
   ]
  },
  {
   "cell_type": "code",
   "execution_count": 82,
   "id": "6ef049c1-a914-4a72-98af-a9b0c89102ec",
   "metadata": {},
   "outputs": [],
   "source": [
    "# Finding the roots of the equation x^3 - 7x^2 + 5x + 13\n",
    "def quadraticEquation(x):\n",
    "    return x**3 - 7*(x**2) + 5*x + 13"
   ]
  },
  {
   "cell_type": "code",
   "execution_count": 83,
   "id": "cc9404a6-ef9d-40d7-b504-df5c1fb14db0",
   "metadata": {},
   "outputs": [
    {
     "data": {
      "text/plain": [
       "array([-1.        ,  2.26794919,  5.73205081])"
      ]
     },
     "execution_count": 83,
     "metadata": {},
     "output_type": "execute_result"
    }
   ],
   "source": [
    "# defining a variable solver and making a guess about the root values\n",
    "solver = optimize.root(quadraticEquation, [-2,2,6])\n",
    "solver.x"
   ]
  },
  {
   "cell_type": "code",
   "execution_count": 84,
   "id": "27c5d350-560b-4029-9031-d685ac23a39c",
   "metadata": {},
   "outputs": [
    {
     "data": {
      "text/plain": [
       "'The solution converged.'"
      ]
     },
     "execution_count": 84,
     "metadata": {},
     "output_type": "execute_result"
    }
   ],
   "source": [
    "solver.message"
   ]
  },
  {
   "cell_type": "code",
   "execution_count": 85,
   "id": "02a4ed63-d667-41d3-a6e5-eda186f3bf65",
   "metadata": {},
   "outputs": [
    {
     "data": {
      "text/plain": [
       "    fjac: array([[-9.58142820e-01, -3.95708127e-05,  2.86290647e-01],\n",
       "       [-7.52606252e-04, -9.99996187e-01, -2.65700241e-03],\n",
       "       [-2.86289661e-01,  2.76125191e-03, -9.58139137e-01]])\n",
       "     fun: array([ 7.41859907e-11, -3.35731443e-11,  1.77081461e-10])\n",
       " message: 'The solution converged.'\n",
       "    nfev: 13\n",
       "     qtf: array([ 6.41938054e-10, -1.03324221e-09,  6.08760842e-09])\n",
       "       r: array([-20.99208785,   0.169439  ,   6.65476711,  11.00185366,\n",
       "        -0.07949737, -24.37886047])\n",
       "  status: 1\n",
       " success: True\n",
       "       x: array([-1.        ,  2.26794919,  5.73205081])"
      ]
     },
     "execution_count": 85,
     "metadata": {},
     "output_type": "execute_result"
    }
   ],
   "source": [
    "solver"
   ]
  },
  {
   "cell_type": "code",
   "execution_count": 86,
   "id": "6ca1e38a-cbca-4eb0-90d8-4586688f7ad6",
   "metadata": {},
   "outputs": [
    {
     "data": {
      "text/plain": [
       "array([-10,  -9,  -8,  -7,  -6,  -5,  -4,  -3,  -2,  -1,   0,   1,   2,\n",
       "         3,   4,   5,   6,   7,   8,   9,  10])"
      ]
     },
     "execution_count": 86,
     "metadata": {},
     "output_type": "execute_result"
    }
   ],
   "source": [
    "x = np.arange(-10, 11, 1)\n",
    "x"
   ]
  },
  {
   "cell_type": "code",
   "execution_count": 87,
   "id": "9f7286d2-3e64-4228-a2fc-697a5686bf78",
   "metadata": {},
   "outputs": [],
   "source": [
    "y = np.arange(-10, 11, 1)"
   ]
  },
  {
   "cell_type": "code",
   "execution_count": 88,
   "id": "15a11aa9-e4c4-4ee6-8b70-33b9044e6fd9",
   "metadata": {},
   "outputs": [
    {
     "data": {
      "text/plain": [
       "array([-1430, -1060,  -756,  -512,  -322,  -180,   -80,   -16,    18,\n",
       "          28,    20,     0,   -26,   -52,   -72,   -80,   -70,   -36,\n",
       "          28,   128,   270])"
      ]
     },
     "execution_count": 88,
     "metadata": {},
     "output_type": "execute_result"
    }
   ],
   "source": [
    "for i in range(0,len(x)):\n",
    "    #y[i] = x[i]**3 - 12*x[i]\n",
    "    y[i] = x[i]**3 - 6*x[i]**2 -15*x[i] + 20\n",
    "y\n",
    "    "
   ]
  },
  {
   "cell_type": "code",
   "execution_count": 89,
   "id": "1aa1288b-163e-4339-b6b9-0ceb6d2b380b",
   "metadata": {},
   "outputs": [
    {
     "data": {
      "image/png": "[encoded data removed]",
      "text/plain": [
       "<Figure size 432x288 with 1 Axes>"
      ]
     },
     "metadata": {
      "needs_background": "light"
     },
     "output_type": "display_data"
    }
   ],
   "source": [
    "import matplotlib.pyplot as plt\n",
    "plt.plot(x,y)\n",
    "plt.grid()\n",
    "plt.show()"
   ]
  },
  {
   "cell_type": "code",
   "execution_count": 90,
   "id": "88bf4e5d-804b-46cf-b432-c2d52396d306",
   "metadata": {},
   "outputs": [],
   "source": [
    "#using SVD (SINGULAR VALUE DECOMPOSITON ) matrix decomposition A = U.SIGMA.V transpose\n",
    "numsvdarray = np.array([[3,5,1],[9,5,7]])"
   ]
  },
  {
   "cell_type": "code",
   "execution_count": 91,
   "id": "f9886b26-fd72-4592-aaa6-845d79638285",
   "metadata": {},
   "outputs": [
    {
     "data": {
      "text/plain": [
       "(2, 3)"
      ]
     },
     "execution_count": 91,
     "metadata": {},
     "output_type": "execute_result"
    }
   ],
   "source": [
    "numsvdarray.shape"
   ]
  },
  {
   "cell_type": "code",
   "execution_count": 92,
   "id": "094f4a41-8e03-48c8-9587-bc7c25a24671",
   "metadata": {},
   "outputs": [
    {
     "data": {
      "text/plain": [
       "(array([[-0.37879831, -0.92547925],\n",
       "        [-0.92547925,  0.37879831]]),\n",
       " array([13.38464336,  3.29413449]),\n",
       " array([[-0.7072066 , -0.4872291 , -0.51231496],\n",
       "        [ 0.19208294, -0.82977932,  0.52399467],\n",
       "        [-0.68041382,  0.27216553,  0.68041382]]))"
      ]
     },
     "execution_count": 92,
     "metadata": {},
     "output_type": "execute_result"
    }
   ],
   "source": [
    "la.svd(numsvdarray)"
   ]
  },
  {
   "cell_type": "markdown",
   "id": "9644e29a-6fff-47b0-8709-8039f48abaa5",
   "metadata": {},
   "source": [
    "**first array above is square matrix (U), second matrix is a dogonal matrix and has elements equal to rank of the matrix and the \n",
    "third matrix is the transpose matrix [ TO DO: LEARN MATRIX DECOMPOSITION (singular value decomposition - SVD) AND IMPLEMENT IT USING SCIPY ]"
   ]
  },
  {
   "cell_type": "code",
   "execution_count": null,
   "id": "b994a9c8-0225-43d9-a50f-0deba5ad2607",
   "metadata": {},
   "outputs": [],
   "source": []
  }
 ],
 "metadata": {
  "kernelspec": {
   "display_name": "Python 3 (ipykernel)",
   "language": "python",
   "name": "python3"
  },
  "language_info": {
   "codemirror_mode": {
    "name": "ipython",
    "version": 3
   },
   "file_extension": ".py",
   "mimetype": "text/x-python",
   "name": "python",
   "nbconvert_exporter": "python",
   "pygments_lexer": "ipython3",
   "version": "3.8.10"
  }
 },
 "nbformat": 4,
 "nbformat_minor": 5
}
