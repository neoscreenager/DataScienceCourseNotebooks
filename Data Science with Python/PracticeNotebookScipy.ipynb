{
 "cells": [
  {
   "cell_type": "code",
   "execution_count": 1,
   "id": "31b28200-2242-4fa5-b067-586df273bccf",
   "metadata": {},
   "outputs": [],
   "source": [
    "import numpy as np\n",
    "import scipy.linalg as la"
   ]
  },
  {
   "cell_type": "code",
   "execution_count": 3,
   "id": "7c2c6bb5-9639-4d2d-801b-a6ba80e1d61a",
   "metadata": {},
   "outputs": [
    {
     "data": {
      "text/plain": [
       "array([[10,  6],\n",
       "       [ 2,  7]])"
      ]
     },
     "execution_count": 3,
     "metadata": {},
     "output_type": "execute_result"
    }
   ],
   "source": [
    "matrix = np.array([[10,6],[2,7]])\n",
    "matrix"
   ]
  },
  {
   "cell_type": "code",
   "execution_count": 4,
   "id": "8e2163cf-a509-452a-b499-b94d422eaa7b",
   "metadata": {},
   "outputs": [
    {
     "data": {
      "text/plain": [
       "numpy.ndarray"
      ]
     },
     "execution_count": 4,
     "metadata": {},
     "output_type": "execute_result"
    }
   ],
   "source": [
    "type(matrix)"
   ]
  },
  {
   "cell_type": "code",
   "execution_count": 5,
   "id": "3d987a73-7264-4756-bb1e-021483d4c417",
   "metadata": {},
   "outputs": [
    {
     "name": "stdout",
     "output_type": "stream",
     "text": [
      "Inverse of matrix :  [[ 0.12068966 -0.10344828]\n",
      " [-0.03448276  0.17241379]]\n"
     ]
    }
   ],
   "source": [
    "print(\"Inverse of matrix : \", la.inv(matrix))"
   ]
  },
  {
   "cell_type": "code",
   "execution_count": 16,
   "id": "b640fd49-4ba4-436a-88dd-015cca94da04",
   "metadata": {},
   "outputs": [
    {
     "name": "stdout",
     "output_type": "stream",
     "text": [
      "[[4 9]\n",
      " [3 5]]\n",
      "Determinent of matrix:  -6.999999999999999\n"
     ]
    }
   ],
   "source": [
    "matrix = np.array([[4,9],[3,5]])\n",
    "print(matrix)\n",
    "print(\"Determinent of matrix: \", la.det(matrix))\n"
   ]
  },
  {
   "cell_type": "code",
   "execution_count": 17,
   "id": "e23ae1fe-021c-42c8-85b7-18e418fca9bf",
   "metadata": {},
   "outputs": [
    {
     "name": "stdout",
     "output_type": "stream",
     "text": [
      "[[0 2 3]\n",
      " [4 5 6]\n",
      " [7 8 9]]\n"
     ]
    },
    {
     "data": {
      "text/plain": [
       "3.0"
      ]
     },
     "execution_count": 17,
     "metadata": {},
     "output_type": "execute_result"
    }
   ],
   "source": [
    "a = np.array([[0,2,3], [4,5,6], [7,8,9]])\n",
    "print(a)\n",
    "la.det(a)"
   ]
  },
  {
   "cell_type": "code",
   "execution_count": 24,
   "id": "609b599c-5413-47ed-b31c-30b639d92870",
   "metadata": {},
   "outputs": [
    {
     "name": "stdout",
     "output_type": "stream",
     "text": [
      "x =  4.95\n",
      "y =  4.35\n",
      "z =  -1.95\n"
     ]
    }
   ],
   "source": [
    "# Solving linear equations\n",
    "# 2x + 3y + z = 21\n",
    "# -x + 5y + 4z = 9\n",
    "# 3x + 2y + 9z = 6\n",
    "coefficients_array = np.array([[2,3,1],[-1,5,4],[3,2,9]])\n",
    "values_array = np.array([21,9,6])\n",
    "solution_array = la.solve(coefficients_array, values_array)\n",
    "print(\"x = \",round(solution_array[0],2))\n",
    "print(\"y = \",round(solution_array[1],2)) # rounding up the values to two decimal places\n",
    "print(\"z = \",round(solution_array[2],2))\n"
   ]
  },
  {
   "cell_type": "code",
   "execution_count": 23,
   "id": "d9e5b454-54a4-4ea8-8aa2-bf8fe6e5270b",
   "metadata": {},
   "outputs": [
    {
     "data": {
      "text/plain": [
       "21.0"
      ]
     },
     "execution_count": 23,
     "metadata": {},
     "output_type": "execute_result"
    }
   ],
   "source": [
    "4.95*2 + 4.35*3 + -1.95"
   ]
  },
  {
   "cell_type": "code",
   "execution_count": 26,
   "id": "dc5e5a82-b499-4418-8da5-262ec3c94bdc",
   "metadata": {},
   "outputs": [],
   "source": [
    "from scipy.stats import norm"
   ]
  },
  {
   "cell_type": "code",
   "execution_count": 28,
   "id": "89db50e2-369d-45c4-aa27-b42871f6cccf",
   "metadata": {},
   "outputs": [
    {
     "data": {
      "text/plain": [
       "array([ 2.64121484,  0.8083049 ,  0.40842229,  0.15002562,  0.53635842,\n",
       "        0.65711659,  0.26772089, -0.16086469, -0.02627547, -0.85055246])"
      ]
     },
     "execution_count": 28,
     "metadata": {},
     "output_type": "execute_result"
    }
   ],
   "source": [
    "norm.rvs(loc=0, scale=1, size=10) # rvs for random variables"
   ]
  },
  {
   "cell_type": "code",
   "execution_count": 29,
   "id": "3755597e-d15b-43fb-bd54-580bbb8d17f7",
   "metadata": {},
   "outputs": [
    {
     "data": {
      "text/plain": [
       "0.9772498680518208"
      ]
     },
     "execution_count": 29,
     "metadata": {},
     "output_type": "execute_result"
    }
   ],
   "source": [
    "norm.cdf(5, loc=1, scale=2)"
   ]
  },
  {
   "cell_type": "code",
   "execution_count": 31,
   "id": "2378fa4d-dcbf-4547-972b-a5d810d2728d",
   "metadata": {},
   "outputs": [
    {
     "data": {
      "text/plain": [
       "1.0279773571668917e-18"
      ]
     },
     "execution_count": 31,
     "metadata": {},
     "output_type": "execute_result"
    }
   ],
   "source": [
    "norm.pdf(9, loc=0, scale=1)"
   ]
  },
  {
   "cell_type": "code",
   "execution_count": null,
   "id": "09e84173-2f07-41cc-912a-8ed9d54e8ea3",
   "metadata": {},
   "outputs": [],
   "source": []
  }
 ],
 "metadata": {
  "kernelspec": {
   "display_name": "Python 3",
   "language": "python",
   "name": "python3"
  },
  "language_info": {
   "codemirror_mode": {
    "name": "ipython",
    "version": 3
   },
   "file_extension": ".py",
   "mimetype": "text/x-python",
   "name": "python",
   "nbconvert_exporter": "python",
   "pygments_lexer": "ipython3",
   "version": "3.8.10"
  }
 },
 "nbformat": 4,
 "nbformat_minor": 5
}
