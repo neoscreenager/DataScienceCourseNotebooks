{
 "cells": [
  {
   "cell_type": "code",
   "execution_count": 1,
   "id": "31b28200-2242-4fa5-b067-586df273bccf",
   "metadata": {},
   "outputs": [],
   "source": [
    "import numpy as np\n",
    "import scipy.linalg as la"
   ]
  },
  {
   "cell_type": "code",
   "execution_count": 2,
   "id": "7c2c6bb5-9639-4d2d-801b-a6ba80e1d61a",
   "metadata": {},
   "outputs": [
    {
     "data": {
      "text/plain": [
       "array([[10,  6],\n",
       "       [ 2,  7]])"
      ]
     },
     "execution_count": 2,
     "metadata": {},
     "output_type": "execute_result"
    }
   ],
   "source": [
    "matrix = np.array([[10,6],[2,7]])\n",
    "matrix"
   ]
  },
  {
   "cell_type": "code",
   "execution_count": 3,
   "id": "8e2163cf-a509-452a-b499-b94d422eaa7b",
   "metadata": {},
   "outputs": [
    {
     "data": {
      "text/plain": [
       "numpy.ndarray"
      ]
     },
     "execution_count": 3,
     "metadata": {},
     "output_type": "execute_result"
    }
   ],
   "source": [
    "type(matrix)"
   ]
  },
  {
   "cell_type": "code",
   "execution_count": 4,
   "id": "3d987a73-7264-4756-bb1e-021483d4c417",
   "metadata": {},
   "outputs": [
    {
     "name": "stdout",
     "output_type": "stream",
     "text": [
      "Inverse of matrix :  [[ 0.12068966 -0.10344828]\n",
      " [-0.03448276  0.17241379]]\n"
     ]
    }
   ],
   "source": [
    "print(\"Inverse of matrix : \", la.inv(matrix))"
   ]
  },
  {
   "cell_type": "code",
   "execution_count": 5,
   "id": "b640fd49-4ba4-436a-88dd-015cca94da04",
   "metadata": {},
   "outputs": [
    {
     "name": "stdout",
     "output_type": "stream",
     "text": [
      "[[4 9]\n",
      " [3 5]]\n",
      "Determinent of matrix:  -6.999999999999999\n"
     ]
    }
   ],
   "source": [
    "matrix = np.array([[4,9],[3,5]])\n",
    "print(matrix)\n",
    "print(\"Determinent of matrix: \", la.det(matrix))\n"
   ]
  },
  {
   "cell_type": "code",
   "execution_count": 6,
   "id": "e23ae1fe-021c-42c8-85b7-18e418fca9bf",
   "metadata": {},
   "outputs": [
    {
     "name": "stdout",
     "output_type": "stream",
     "text": [
      "[[0 2 3]\n",
      " [4 5 6]\n",
      " [7 8 9]]\n"
     ]
    },
    {
     "data": {
      "text/plain": [
       "3.0"
      ]
     },
     "execution_count": 6,
     "metadata": {},
     "output_type": "execute_result"
    }
   ],
   "source": [
    "a = np.array([[0,2,3], [4,5,6], [7,8,9]])\n",
    "print(a)\n",
    "la.det(a)"
   ]
  },
  {
   "cell_type": "code",
   "execution_count": 7,
   "id": "609b599c-5413-47ed-b31c-30b639d92870",
   "metadata": {},
   "outputs": [
    {
     "name": "stdout",
     "output_type": "stream",
     "text": [
      "x =  4.95\n",
      "y =  4.35\n",
      "z =  -1.95\n"
     ]
    }
   ],
   "source": [
    "# Solving linear equations\n",
    "# 2x + 3y + z = 21\n",
    "# -x + 5y + 4z = 9\n",
    "# 3x + 2y + 9z = 6\n",
    "coefficients_array = np.array([[2,3,1],[-1,5,4],[3,2,9]])\n",
    "values_array = np.array([21,9,6])\n",
    "solution_array = la.solve(coefficients_array, values_array)\n",
    "print(\"x = \",round(solution_array[0],2))\n",
    "print(\"y = \",round(solution_array[1],2)) # rounding up the values to two decimal places\n",
    "print(\"z = \",round(solution_array[2],2))\n"
   ]
  },
  {
   "cell_type": "code",
   "execution_count": 8,
   "id": "d9e5b454-54a4-4ea8-8aa2-bf8fe6e5270b",
   "metadata": {},
   "outputs": [
    {
     "data": {
      "text/plain": [
       "21.0"
      ]
     },
     "execution_count": 8,
     "metadata": {},
     "output_type": "execute_result"
    }
   ],
   "source": [
    "4.95*2 + 4.35*3 + -1.95"
   ]
  },
  {
   "cell_type": "code",
   "execution_count": 9,
   "id": "dc5e5a82-b499-4418-8da5-262ec3c94bdc",
   "metadata": {},
   "outputs": [],
   "source": [
    "from scipy.stats import norm"
   ]
  },
  {
   "cell_type": "code",
   "execution_count": 10,
   "id": "89db50e2-369d-45c4-aa27-b42871f6cccf",
   "metadata": {},
   "outputs": [
    {
     "data": {
      "text/plain": [
       "array([ 1.653755  , -0.4789635 ,  0.12626338,  0.21911117, -0.388606  ,\n",
       "        0.82063531,  1.16655192, -2.35394872, -0.04422101,  0.3179751 ])"
      ]
     },
     "execution_count": 10,
     "metadata": {},
     "output_type": "execute_result"
    }
   ],
   "source": [
    "norm.rvs(loc=0, scale=1, size=10) # rvs for random variables"
   ]
  },
  {
   "cell_type": "code",
   "execution_count": 11,
   "id": "3755597e-d15b-43fb-bd54-580bbb8d17f7",
   "metadata": {},
   "outputs": [
    {
     "data": {
      "text/plain": [
       "0.9772498680518208"
      ]
     },
     "execution_count": 11,
     "metadata": {},
     "output_type": "execute_result"
    }
   ],
   "source": [
    "norm.cdf(5, loc=1, scale=2)"
   ]
  },
  {
   "cell_type": "code",
   "execution_count": 12,
   "id": "2378fa4d-dcbf-4547-972b-a5d810d2728d",
   "metadata": {},
   "outputs": [
    {
     "data": {
      "text/plain": [
       "1.0279773571668917e-18"
      ]
     },
     "execution_count": 12,
     "metadata": {},
     "output_type": "execute_result"
    }
   ],
   "source": [
    "norm.pdf(9, loc=0, scale=1)"
   ]
  },
  {
   "cell_type": "code",
   "execution_count": 14,
   "id": "09e84173-2f07-41cc-912a-8ed9d54e8ea3",
   "metadata": {},
   "outputs": [],
   "source": [
    "# integration\n",
    "from scipy.integrate import quad"
   ]
  },
  {
   "cell_type": "code",
   "execution_count": 27,
   "id": "1f4019e1-5f9a-43dc-9172-4beeebbd9eaf",
   "metadata": {},
   "outputs": [],
   "source": [
    "def integrateFunction(x):\n",
    "    return x"
   ]
  },
  {
   "cell_type": "code",
   "execution_count": 28,
   "id": "f21cd667-73cc-4da8-a30c-d2928efadc37",
   "metadata": {},
   "outputs": [
    {
     "data": {
      "text/plain": [
       "(0.5, 5.551115123125783e-15)"
      ]
     },
     "execution_count": 28,
     "metadata": {},
     "output_type": "execute_result"
    }
   ],
   "source": [
    "quad(integrateFunction,0,1) # the second value in the output is the error value"
   ]
  },
  {
   "cell_type": "code",
   "execution_count": 26,
   "id": "5ae8b63a-5fdd-437f-a772-312c9c60c3d8",
   "metadata": {},
   "outputs": [],
   "source": [
    "def integrateFn(x,a,b):\n",
    "    return x * a + b"
   ]
  },
  {
   "cell_type": "code",
   "execution_count": 19,
   "id": "54f75b69-c202-45cd-acd2-55735bff232a",
   "metadata": {},
   "outputs": [],
   "source": [
    "a = 3\n",
    "b = 2 "
   ]
  },
  {
   "cell_type": "code",
   "execution_count": 32,
   "id": "25a8bb98-8b61-43c7-8ec7-40a82707754b",
   "metadata": {},
   "outputs": [
    {
     "data": {
      "text/plain": [
       "(3.5, 3.885780586188048e-14)"
      ]
     },
     "execution_count": 32,
     "metadata": {},
     "output_type": "execute_result"
    }
   ],
   "source": [
    "quad(integrateFn,0,1,args=(a,b)) # for infinite functions, np.Infinity can be used"
   ]
  },
  {
   "cell_type": "code",
   "execution_count": 33,
   "id": "8965ebcd-5c44-44b7-b687-03a22e3801a5",
   "metadata": {},
   "outputs": [],
   "source": [
    "# Dblquad\n",
    "def f(x, y):\n",
    "    return x*y"
   ]
  },
  {
   "cell_type": "code",
   "execution_count": 35,
   "id": "690ee54b-9b18-4e38-8b4c-92052ee20fd9",
   "metadata": {},
   "outputs": [],
   "source": [
    "import scipy.integrate as integrate"
   ]
  },
  {
   "cell_type": "code",
   "execution_count": 36,
   "id": "9d7ec1dd-5458-4616-97f6-2187435359ea",
   "metadata": {},
   "outputs": [],
   "source": [
    "area = integrate.dblquad(f, 0, 2, 0, 5) # 0,2 are the limits for x and 0,5 are the limits for y"
   ]
  },
  {
   "cell_type": "code",
   "execution_count": 37,
   "id": "61e9c8af-2cd6-4eb2-82e2-faeb94b095cc",
   "metadata": {},
   "outputs": [
    {
     "data": {
      "text/plain": [
       "(25.0, 2.7755575615628914e-13)"
      ]
     },
     "execution_count": 37,
     "metadata": {},
     "output_type": "execute_result"
    }
   ],
   "source": [
    "area"
   ]
  },
  {
   "cell_type": "code",
   "execution_count": 38,
   "id": "fec13eaa-b80e-45da-8040-d307eb62a405",
   "metadata": {},
   "outputs": [],
   "source": [
    "# function x^2y^2\n",
    "def fun(x, y):\n",
    "    return (x**2)*(y**2) "
   ]
  },
  {
   "cell_type": "code",
   "execution_count": 43,
   "id": "834a9584-ab1f-4f66-a558-a05fc872da63",
   "metadata": {},
   "outputs": [
    {
     "name": "stdout",
     "output_type": "stream",
     "text": [
      "(0.8888888888888891, 1.4738756557205898e-14)\n"
     ]
    }
   ],
   "source": [
    "area =  integrate.dblquad(fun, 0, 2, 0, 1) # double integrating the function fun with x limit as 0, 2 and y limit as 0, 1\n",
    "print(area)"
   ]
  },
  {
   "cell_type": "code",
   "execution_count": 44,
   "id": "84374d15-c226-406f-97c4-6431d5ccbef6",
   "metadata": {},
   "outputs": [],
   "source": [
    "f = lambda x,y: x*y"
   ]
  },
  {
   "cell_type": "code",
   "execution_count": 46,
   "id": "943458b6-314d-46b9-8fd2-6ab7c79f618c",
   "metadata": {},
   "outputs": [
    {
     "data": {
      "text/plain": [
       "(25.0, 2.7755575615628914e-13)"
      ]
     },
     "execution_count": 46,
     "metadata": {},
     "output_type": "execute_result"
    }
   ],
   "source": [
    "area =  integrate.dblquad(f, 0, 2, 0, 5)\n",
    "area"
   ]
  },
  {
   "cell_type": "code",
   "execution_count": 47,
   "id": "840bd5b1-ca42-46b7-a900-3b0c72622b47",
   "metadata": {},
   "outputs": [],
   "source": [
    "# using lambda function to pass limits \n",
    "def ff(x, y):\n",
    "    return x*y"
   ]
  },
  {
   "cell_type": "code",
   "execution_count": 50,
   "id": "2295c53a-67ff-4e99-b5e2-cb3559c2792f",
   "metadata": {},
   "outputs": [
    {
     "data": {
      "text/plain": [
       "(25.0, 2.7755575615628914e-13)"
      ]
     },
     "execution_count": 50,
     "metadata": {},
     "output_type": "execute_result"
    }
   ],
   "source": [
    "area =  integrate.dblquad(ff, 0, 2, lambda y: 0, lambda y: 5)\n",
    "area"
   ]
  },
  {
   "cell_type": "code",
   "execution_count": 55,
   "id": "cbaeb8fd-40d1-421f-90c2-5ea25cc4f8b3",
   "metadata": {},
   "outputs": [],
   "source": [
    "from scipy import optimize"
   ]
  },
  {
   "cell_type": "code",
   "execution_count": 53,
   "id": "0fb7115b-4a6d-4e6b-88f5-5d3c609ab92c",
   "metadata": {},
   "outputs": [],
   "source": [
    "def morefun(x):\n",
    "    return x**2 + 5*np.sin(x)"
   ]
  },
  {
   "cell_type": "code",
   "execution_count": 58,
   "id": "4f30c89d-20a2-4d75-abbe-7c4777bf7b70",
   "metadata": {},
   "outputs": [
    {
     "name": "stdout",
     "output_type": "stream",
     "text": [
      "Optimization terminated successfully.\n",
      "         Current function value: -3.246394\n",
      "         Iterations: 5\n",
      "         Function evaluations: 27\n",
      "         Gradient evaluations: 9\n"
     ]
    }
   ],
   "source": [
    "# we will minimize the morefun function using 'bfgs' alglorithm with minimum valule x0 = 2\n",
    "minimima = optimize.minimize(morefun, x0=2, method='bfgs', options={'disp':True})"
   ]
  },
  {
   "cell_type": "code",
   "execution_count": 59,
   "id": "2e105925-4eef-4aae-98af-2c2388ccda0d",
   "metadata": {},
   "outputs": [],
   "source": [
    "minimawithouthdisplaytrue = optimize.minimize(morefun, x0=2, method=\"bfgs\")"
   ]
  },
  {
   "cell_type": "code",
   "execution_count": 60,
   "id": "1c48f29b-79da-4c7d-9950-ddb7705b146a",
   "metadata": {},
   "outputs": [
    {
     "data": {
      "text/plain": [
       "      fun: -3.2463942726915196\n",
       " hess_inv: array([[0.15445831]])\n",
       "      jac: array([-4.47034836e-07])\n",
       "  message: 'Optimization terminated successfully.'\n",
       "     nfev: 27\n",
       "      nit: 5\n",
       "     njev: 9\n",
       "   status: 0\n",
       "  success: True\n",
       "        x: array([-1.11051058])"
      ]
     },
     "execution_count": 60,
     "metadata": {},
     "output_type": "execute_result"
    }
   ],
   "source": [
    "minimawithouthdisplaytrue"
   ]
  },
  {
   "cell_type": "code",
   "execution_count": 61,
   "id": "6ef049c1-a914-4a72-98af-a9b0c89102ec",
   "metadata": {},
   "outputs": [],
   "source": [
    "# Finding the roots of the equation x^3 - 7x^2 + 5x + 13\n",
    "def quadraticEquation(x):\n",
    "    return x**3 - 7*(x**2) + 5*x + 13"
   ]
  },
  {
   "cell_type": "code",
   "execution_count": 66,
   "id": "cc9404a6-ef9d-40d7-b504-df5c1fb14db0",
   "metadata": {},
   "outputs": [
    {
     "data": {
      "text/plain": [
       "array([-1.        ,  2.26794919,  5.73205081])"
      ]
     },
     "execution_count": 66,
     "metadata": {},
     "output_type": "execute_result"
    }
   ],
   "source": [
    "# defining a variable solver and making a guess about the root values\n",
    "solver = optimize.root(quadraticEquation, [-2,2,6])\n",
    "solver.x"
   ]
  },
  {
   "cell_type": "code",
   "execution_count": 67,
   "id": "27c5d350-560b-4029-9031-d685ac23a39c",
   "metadata": {},
   "outputs": [
    {
     "data": {
      "text/plain": [
       "'The solution converged.'"
      ]
     },
     "execution_count": 67,
     "metadata": {},
     "output_type": "execute_result"
    }
   ],
   "source": [
    "solver.message"
   ]
  },
  {
   "cell_type": "code",
   "execution_count": 68,
   "id": "02a4ed63-d667-41d3-a6e5-eda186f3bf65",
   "metadata": {},
   "outputs": [
    {
     "data": {
      "text/plain": [
       "    fjac: array([[-9.58142820e-01, -3.95708127e-05,  2.86290647e-01],\n",
       "       [-7.52606252e-04, -9.99996187e-01, -2.65700241e-03],\n",
       "       [-2.86289661e-01,  2.76125191e-03, -9.58139137e-01]])\n",
       "     fun: array([ 7.41859907e-11, -3.35731443e-11,  1.77081461e-10])\n",
       " message: 'The solution converged.'\n",
       "    nfev: 13\n",
       "     qtf: array([ 6.41938054e-10, -1.03324221e-09,  6.08760842e-09])\n",
       "       r: array([-20.99208785,   0.169439  ,   6.65476711,  11.00185366,\n",
       "        -0.07949737, -24.37886047])\n",
       "  status: 1\n",
       " success: True\n",
       "       x: array([-1.        ,  2.26794919,  5.73205081])"
      ]
     },
     "execution_count": 68,
     "metadata": {},
     "output_type": "execute_result"
    }
   ],
   "source": [
    "solver"
   ]
  },
  {
   "cell_type": "code",
   "execution_count": null,
   "id": "eed7bb73-a1fa-4000-a684-bb099169fe7b",
   "metadata": {},
   "outputs": [],
   "source": []
  }
 ],
 "metadata": {
  "kernelspec": {
   "display_name": "Python 3",
   "language": "python",
   "name": "python3"
  },
  "language_info": {
   "codemirror_mode": {
    "name": "ipython",
    "version": 3
   },
   "file_extension": ".py",
   "mimetype": "text/x-python",
   "name": "python",
   "nbconvert_exporter": "python",
   "pygments_lexer": "ipython3",
   "version": "3.8.10"
  }
 },
 "nbformat": 4,
 "nbformat_minor": 5
}
