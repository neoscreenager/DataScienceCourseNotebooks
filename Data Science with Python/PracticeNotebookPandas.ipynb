{
 "cells": [
  {
   "cell_type": "code",
   "execution_count": 2,
   "id": "338299c9-f0fd-496f-969e-eb968b37731a",
   "metadata": {},
   "outputs": [],
   "source": [
    "import pandas as pd\n",
    "import numpy as np"
   ]
  },
  {
   "cell_type": "code",
   "execution_count": 3,
   "id": "dd256a44-80d5-4bbe-a61f-b3d28ae53d64",
   "metadata": {},
   "outputs": [
    {
     "data": {
      "text/plain": [
       "0    a\n",
       "1    b\n",
       "2    c\n",
       "3    d\n",
       "4    e\n",
       "5    f\n",
       "dtype: object"
      ]
     },
     "execution_count": 3,
     "metadata": {},
     "output_type": "execute_result"
    }
   ],
   "source": [
    "# creating pandas Series\n",
    "first_series = pd.Series(list('abcdef'))\n",
    "first_series"
   ]
  },
  {
   "cell_type": "code",
   "execution_count": 4,
   "id": "40fcd6ed-da5f-4568-9b77-86caaae9b652",
   "metadata": {},
   "outputs": [
    {
     "data": {
      "text/plain": [
       "['a', 'b', 'h', 'i', 's', 'h', 'e', 'k']"
      ]
     },
     "execution_count": 4,
     "metadata": {},
     "output_type": "execute_result"
    }
   ],
   "source": [
    "list('abhishek')"
   ]
  },
  {
   "cell_type": "code",
   "execution_count": 6,
   "id": "c3c3c81e-f994-4079-9166-83b427eec2fd",
   "metadata": {},
   "outputs": [
    {
     "data": {
      "text/plain": [
       "0          India\n",
       "1       Pakistan\n",
       "2          Nepal\n",
       "3         Bhutan\n",
       "4     Bangladesh\n",
       "5    Philippines\n",
       "6      Australia\n",
       "dtype: object"
      ]
     },
     "execution_count": 6,
     "metadata": {},
     "output_type": "execute_result"
    }
   ],
   "source": [
    "# creating pandas series using ndarry\n",
    "np_countries = np.array(['India','Pakistan','Nepal','Bhutan','Bangladesh','Philippines','Australia'])\n",
    "s_countries = pd.Series(np_countries)\n",
    "s_countries"
   ]
  },
  {
   "cell_type": "code",
   "execution_count": 7,
   "id": "198d4f47-f693-418d-a101-59fc53676f19",
   "metadata": {},
   "outputs": [
    {
     "data": {
      "text/plain": [
       "India            34534\n",
       "Australia      5657567\n",
       "Canada           45345\n",
       "Pakistan         34545\n",
       "Bhutan             234\n",
       "Bankgladesh      45435\n",
       "dtype: int64"
      ]
     },
     "execution_count": 7,
     "metadata": {},
     "output_type": "execute_result"
    }
   ],
   "source": [
    "# creating pandas series using dictionary\n",
    "dict_country_gdp = pd.Series([34534,5657567,45345,34545,234,45435], index =['India','Australia','Canada','Pakistan','Bhutan','Bankgladesh'])\n",
    "dict_country_gdp"
   ]
  },
  {
   "cell_type": "code",
   "execution_count": 8,
   "id": "6b4fc0c2-bb58-42d7-8b08-413fb053ab98",
   "metadata": {},
   "outputs": [
    {
     "data": {
      "text/plain": [
       "a    5.0\n",
       "b    5.0\n",
       "c    5.0\n",
       "d    5.0\n",
       "e    5.0\n",
       "dtype: float64"
      ]
     },
     "execution_count": 8,
     "metadata": {},
     "output_type": "execute_result"
    }
   ],
   "source": [
    "# creating pandas series using scalar value\n",
    "scalar_series = pd.Series(5., index = ['a', 'b', 'c', 'd','e'])\n",
    "scalar_series"
   ]
  },
  {
   "cell_type": "code",
   "execution_count": 9,
   "id": "d5307737-4fe6-449c-a639-47d0bf71c80c",
   "metadata": {},
   "outputs": [
    {
     "data": {
      "text/plain": [
       "34534"
      ]
     },
     "execution_count": 9,
     "metadata": {},
     "output_type": "execute_result"
    }
   ],
   "source": [
    "dict_country_gdp['India']"
   ]
  },
  {
   "cell_type": "code",
   "execution_count": 10,
   "id": "e703d4d1-e946-4bcf-89e9-c27b0a088050",
   "metadata": {},
   "outputs": [
    {
     "data": {
      "text/plain": [
       "Canada      45345\n",
       "Pakistan    34545\n",
       "dtype: int64"
      ]
     },
     "execution_count": 10,
     "metadata": {},
     "output_type": "execute_result"
    }
   ],
   "source": [
    "dict_country_gdp[2:4]"
   ]
  },
  {
   "cell_type": "code",
   "execution_count": 12,
   "id": "80bd78e4-5bde-48d0-9662-97639f5cd66c",
   "metadata": {},
   "outputs": [
    {
     "data": {
      "text/plain": [
       "34534"
      ]
     },
     "execution_count": 12,
     "metadata": {},
     "output_type": "execute_result"
    }
   ],
   "source": [
    "dict_country_gdp.iloc[0]"
   ]
  },
  {
   "cell_type": "code",
   "execution_count": 15,
   "id": "bc825ab2-44a1-4e9e-90aa-a10f8fb997de",
   "metadata": {},
   "outputs": [
    {
     "data": {
      "text/plain": [
       "234"
      ]
     },
     "execution_count": 15,
     "metadata": {},
     "output_type": "execute_result"
    }
   ],
   "source": [
    "dict_country_gdp.loc['Bhutan']"
   ]
  },
  {
   "cell_type": "code",
   "execution_count": null,
   "id": "b48174d6-bc05-47bd-8364-92f646eaa026",
   "metadata": {},
   "outputs": [],
   "source": []
  }
 ],
 "metadata": {
  "kernelspec": {
   "display_name": "Python 3 (ipykernel)",
   "language": "python",
   "name": "python3"
  },
  "language_info": {
   "codemirror_mode": {
    "name": "ipython",
    "version": 3
   },
   "file_extension": ".py",
   "mimetype": "text/x-python",
   "name": "python",
   "nbconvert_exporter": "python",
   "pygments_lexer": "ipython3",
   "version": "3.8.10"
  }
 },
 "nbformat": 4,
 "nbformat_minor": 5
}
