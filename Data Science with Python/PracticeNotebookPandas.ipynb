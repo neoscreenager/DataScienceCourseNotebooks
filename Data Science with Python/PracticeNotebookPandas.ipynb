{
 "cells": [
  {
   "cell_type": "code",
   "execution_count": 6,
   "id": "338299c9-f0fd-496f-969e-eb968b37731a",
   "metadata": {},
   "outputs": [],
   "source": [
    "import pandas as pd\n",
    "import numpy as np"
   ]
  },
  {
   "cell_type": "code",
   "execution_count": 7,
   "id": "dd256a44-80d5-4bbe-a61f-b3d28ae53d64",
   "metadata": {},
   "outputs": [
    {
     "data": {
      "text/plain": [
       "0    a\n",
       "1    b\n",
       "2    c\n",
       "3    d\n",
       "4    e\n",
       "5    f\n",
       "dtype: object"
      ]
     },
     "execution_count": 7,
     "metadata": {},
     "output_type": "execute_result"
    }
   ],
   "source": [
    "# creating pandas Series\n",
    "first_series = pd.Series(list('abcdef'))\n",
    "first_series"
   ]
  },
  {
   "cell_type": "code",
   "execution_count": 8,
   "id": "40fcd6ed-da5f-4568-9b77-86caaae9b652",
   "metadata": {},
   "outputs": [
    {
     "data": {
      "text/plain": [
       "['a', 'b', 'h', 'i', 's', 'h', 'e', 'k']"
      ]
     },
     "execution_count": 8,
     "metadata": {},
     "output_type": "execute_result"
    }
   ],
   "source": [
    "list('abhishek')"
   ]
  },
  {
   "cell_type": "code",
   "execution_count": 9,
   "id": "c3c3c81e-f994-4079-9166-83b427eec2fd",
   "metadata": {},
   "outputs": [
    {
     "data": {
      "text/plain": [
       "0          India\n",
       "1       Pakistan\n",
       "2          Nepal\n",
       "3         Bhutan\n",
       "4     Bangladesh\n",
       "5    Philippines\n",
       "6      Australia\n",
       "dtype: object"
      ]
     },
     "execution_count": 9,
     "metadata": {},
     "output_type": "execute_result"
    }
   ],
   "source": [
    "# creating pandas series using ndarry\n",
    "np_countries = np.array(['India','Pakistan','Nepal','Bhutan','Bangladesh','Philippines','Australia'])\n",
    "s_countries = pd.Series(np_countries)\n",
    "s_countries"
   ]
  },
  {
   "cell_type": "code",
   "execution_count": 10,
   "id": "198d4f47-f693-418d-a101-59fc53676f19",
   "metadata": {},
   "outputs": [
    {
     "data": {
      "text/plain": [
       "India            34534\n",
       "Australia      5657567\n",
       "Canada           45345\n",
       "Pakistan         34545\n",
       "Bhutan             234\n",
       "Bankgladesh      45435\n",
       "dtype: int64"
      ]
     },
     "execution_count": 10,
     "metadata": {},
     "output_type": "execute_result"
    }
   ],
   "source": [
    "# creating pandas series using dictionary\n",
    "dict_country_gdp = pd.Series([34534,5657567,45345,34545,234,45435], index =['India','Australia','Canada','Pakistan','Bhutan','Bankgladesh'])\n",
    "dict_country_gdp"
   ]
  },
  {
   "cell_type": "code",
   "execution_count": 11,
   "id": "6b4fc0c2-bb58-42d7-8b08-413fb053ab98",
   "metadata": {},
   "outputs": [
    {
     "data": {
      "text/plain": [
       "a    5.0\n",
       "b    5.0\n",
       "c    5.0\n",
       "d    5.0\n",
       "e    5.0\n",
       "dtype: float64"
      ]
     },
     "execution_count": 11,
     "metadata": {},
     "output_type": "execute_result"
    }
   ],
   "source": [
    "# creating pandas series using scalar value\n",
    "scalar_series = pd.Series(5., index = ['a', 'b', 'c', 'd','e'])\n",
    "scalar_series"
   ]
  },
  {
   "cell_type": "code",
   "execution_count": 12,
   "id": "d5307737-4fe6-449c-a639-47d0bf71c80c",
   "metadata": {},
   "outputs": [
    {
     "data": {
      "text/plain": [
       "34534"
      ]
     },
     "execution_count": 12,
     "metadata": {},
     "output_type": "execute_result"
    }
   ],
   "source": [
    "dict_country_gdp['India']"
   ]
  },
  {
   "cell_type": "code",
   "execution_count": 13,
   "id": "e703d4d1-e946-4bcf-89e9-c27b0a088050",
   "metadata": {},
   "outputs": [
    {
     "data": {
      "text/plain": [
       "Canada      45345\n",
       "Pakistan    34545\n",
       "dtype: int64"
      ]
     },
     "execution_count": 13,
     "metadata": {},
     "output_type": "execute_result"
    }
   ],
   "source": [
    "dict_country_gdp[2:4]"
   ]
  },
  {
   "cell_type": "code",
   "execution_count": 14,
   "id": "80bd78e4-5bde-48d0-9662-97639f5cd66c",
   "metadata": {},
   "outputs": [
    {
     "data": {
      "text/plain": [
       "34534"
      ]
     },
     "execution_count": 14,
     "metadata": {},
     "output_type": "execute_result"
    }
   ],
   "source": [
    "dict_country_gdp.iloc[0]"
   ]
  },
  {
   "cell_type": "code",
   "execution_count": 15,
   "id": "bc825ab2-44a1-4e9e-90aa-a10f8fb997de",
   "metadata": {},
   "outputs": [
    {
     "data": {
      "text/plain": [
       "234"
      ]
     },
     "execution_count": 15,
     "metadata": {},
     "output_type": "execute_result"
    }
   ],
   "source": [
    "dict_country_gdp.loc['Bhutan']"
   ]
  },
  {
   "cell_type": "code",
   "execution_count": 16,
   "id": "b48174d6-bc05-47bd-8364-92f646eaa026",
   "metadata": {},
   "outputs": [],
   "source": [
    "data_dict = {\"India\":{2012:205},\"London\":{2008:300}}"
   ]
  },
  {
   "cell_type": "code",
   "execution_count": 17,
   "id": "5b15db8b-f85a-4508-b372-600afd339e47",
   "metadata": {},
   "outputs": [
    {
     "data": {
      "text/plain": [
       "dict"
      ]
     },
     "execution_count": 17,
     "metadata": {},
     "output_type": "execute_result"
    }
   ],
   "source": [
    "type(data_dict)"
   ]
  },
  {
   "cell_type": "code",
   "execution_count": 18,
   "id": "e1414fb4-85b1-4f64-b304-0a9a8e56e7eb",
   "metadata": {},
   "outputs": [
    {
     "data": {
      "text/html": [
       "<div>\n",
       "<style scoped>\n",
       "    .dataframe tbody tr th:only-of-type {\n",
       "        vertical-align: middle;\n",
       "    }\n",
       "\n",
       "    .dataframe tbody tr th {\n",
       "        vertical-align: top;\n",
       "    }\n",
       "\n",
       "    .dataframe thead th {\n",
       "        text-align: right;\n",
       "    }\n",
       "</style>\n",
       "<table border=\"1\" class=\"dataframe\">\n",
       "  <thead>\n",
       "    <tr style=\"text-align: right;\">\n",
       "      <th></th>\n",
       "      <th>India</th>\n",
       "      <th>London</th>\n",
       "    </tr>\n",
       "  </thead>\n",
       "  <tbody>\n",
       "    <tr>\n",
       "      <th>2012</th>\n",
       "      <td>205.0</td>\n",
       "      <td>NaN</td>\n",
       "    </tr>\n",
       "    <tr>\n",
       "      <th>2008</th>\n",
       "      <td>NaN</td>\n",
       "      <td>300.0</td>\n",
       "    </tr>\n",
       "  </tbody>\n",
       "</table>\n",
       "</div>"
      ],
      "text/plain": [
       "      India  London\n",
       "2012  205.0     NaN\n",
       "2008    NaN   300.0"
      ]
     },
     "execution_count": 18,
     "metadata": {},
     "output_type": "execute_result"
    }
   ],
   "source": [
    "# creating a dataframe using the dictionary data_dict\n",
    "df_data_dict = pd.DataFrame(data_dict)\n",
    "df_data_dict"
   ]
  },
  {
   "cell_type": "code",
   "execution_count": 19,
   "id": "b199ac0b-6802-48da-9551-39477b134a05",
   "metadata": {},
   "outputs": [],
   "source": [
    "olympic_series_participation = pd.Series([205,204,201,200,197], index=[2012,2008,2004,2000,1996])\n",
    "olympic_series_cities = pd.Series(['London','Paris','Berlin','New Delhi','New York'], index=[2012,2008,2004,2000,1996])"
   ]
  },
  {
   "cell_type": "code",
   "execution_count": 20,
   "id": "043950b2-a7f3-4096-b5bf-9bc07df71766",
   "metadata": {},
   "outputs": [],
   "source": [
    "df_olympic = pd.DataFrame({\"Number of Participating Counties\":olympic_series_participation,\"Host Cities\":olympic_series_cities})"
   ]
  },
  {
   "cell_type": "code",
   "execution_count": 21,
   "id": "219d912e-25af-471e-afdc-48598f5818b0",
   "metadata": {},
   "outputs": [
    {
     "data": {
      "text/plain": [
       "<bound method NDFrame.describe of       Number of Participating Counties Host Cities\n",
       "2012                               205      London\n",
       "2008                               204       Paris\n",
       "2004                               201      Berlin\n",
       "2000                               200   New Delhi\n",
       "1996                               197    New York>"
      ]
     },
     "execution_count": 21,
     "metadata": {},
     "output_type": "execute_result"
    }
   ],
   "source": [
    "df_olympic.describe"
   ]
  },
  {
   "cell_type": "code",
   "execution_count": 22,
   "id": "0d5d345b-b09b-425b-ade9-67a4e9ce980b",
   "metadata": {},
   "outputs": [
    {
     "data": {
      "text/html": [
       "<div>\n",
       "<style scoped>\n",
       "    .dataframe tbody tr th:only-of-type {\n",
       "        vertical-align: middle;\n",
       "    }\n",
       "\n",
       "    .dataframe tbody tr th {\n",
       "        vertical-align: top;\n",
       "    }\n",
       "\n",
       "    .dataframe thead th {\n",
       "        text-align: right;\n",
       "    }\n",
       "</style>\n",
       "<table border=\"1\" class=\"dataframe\">\n",
       "  <thead>\n",
       "    <tr style=\"text-align: right;\">\n",
       "      <th></th>\n",
       "      <th>Number of Participating Counties</th>\n",
       "      <th>Host Cities</th>\n",
       "    </tr>\n",
       "  </thead>\n",
       "  <tbody>\n",
       "    <tr>\n",
       "      <th>2012</th>\n",
       "      <td>205</td>\n",
       "      <td>London</td>\n",
       "    </tr>\n",
       "    <tr>\n",
       "      <th>2008</th>\n",
       "      <td>204</td>\n",
       "      <td>Paris</td>\n",
       "    </tr>\n",
       "    <tr>\n",
       "      <th>2004</th>\n",
       "      <td>201</td>\n",
       "      <td>Berlin</td>\n",
       "    </tr>\n",
       "    <tr>\n",
       "      <th>2000</th>\n",
       "      <td>200</td>\n",
       "      <td>New Delhi</td>\n",
       "    </tr>\n",
       "    <tr>\n",
       "      <th>1996</th>\n",
       "      <td>197</td>\n",
       "      <td>New York</td>\n",
       "    </tr>\n",
       "  </tbody>\n",
       "</table>\n",
       "</div>"
      ],
      "text/plain": [
       "      Number of Participating Counties Host Cities\n",
       "2012                               205      London\n",
       "2008                               204       Paris\n",
       "2004                               201      Berlin\n",
       "2000                               200   New Delhi\n",
       "1996                               197    New York"
      ]
     },
     "execution_count": 22,
     "metadata": {},
     "output_type": "execute_result"
    }
   ],
   "source": [
    "df_olympic"
   ]
  },
  {
   "cell_type": "code",
   "execution_count": 23,
   "id": "371f47d1-376f-42b9-83d7-8dec31d6c29d",
   "metadata": {},
   "outputs": [
    {
     "data": {
      "text/html": [
       "<div>\n",
       "<style scoped>\n",
       "    .dataframe tbody tr th:only-of-type {\n",
       "        vertical-align: middle;\n",
       "    }\n",
       "\n",
       "    .dataframe tbody tr th {\n",
       "        vertical-align: top;\n",
       "    }\n",
       "\n",
       "    .dataframe thead th {\n",
       "        text-align: right;\n",
       "    }\n",
       "</style>\n",
       "<table border=\"1\" class=\"dataframe\">\n",
       "  <thead>\n",
       "    <tr style=\"text-align: right;\">\n",
       "      <th></th>\n",
       "      <th>Number of Participating Counties</th>\n",
       "    </tr>\n",
       "  </thead>\n",
       "  <tbody>\n",
       "    <tr>\n",
       "      <th>count</th>\n",
       "      <td>5.000000</td>\n",
       "    </tr>\n",
       "    <tr>\n",
       "      <th>mean</th>\n",
       "      <td>201.400000</td>\n",
       "    </tr>\n",
       "    <tr>\n",
       "      <th>std</th>\n",
       "      <td>3.209361</td>\n",
       "    </tr>\n",
       "    <tr>\n",
       "      <th>min</th>\n",
       "      <td>197.000000</td>\n",
       "    </tr>\n",
       "    <tr>\n",
       "      <th>25%</th>\n",
       "      <td>200.000000</td>\n",
       "    </tr>\n",
       "    <tr>\n",
       "      <th>50%</th>\n",
       "      <td>201.000000</td>\n",
       "    </tr>\n",
       "    <tr>\n",
       "      <th>75%</th>\n",
       "      <td>204.000000</td>\n",
       "    </tr>\n",
       "    <tr>\n",
       "      <th>max</th>\n",
       "      <td>205.000000</td>\n",
       "    </tr>\n",
       "  </tbody>\n",
       "</table>\n",
       "</div>"
      ],
      "text/plain": [
       "       Number of Participating Counties\n",
       "count                          5.000000\n",
       "mean                         201.400000\n",
       "std                            3.209361\n",
       "min                          197.000000\n",
       "25%                          200.000000\n",
       "50%                          201.000000\n",
       "75%                          204.000000\n",
       "max                          205.000000"
      ]
     },
     "execution_count": 23,
     "metadata": {},
     "output_type": "execute_result"
    }
   ],
   "source": [
    "df_olympic.describe()"
   ]
  },
  {
   "cell_type": "code",
   "execution_count": 24,
   "id": "26fa6912-53bc-4ac1-81c5-f4430ade0f28",
   "metadata": {},
   "outputs": [
    {
     "data": {
      "text/html": [
       "<div>\n",
       "<style scoped>\n",
       "    .dataframe tbody tr th:only-of-type {\n",
       "        vertical-align: middle;\n",
       "    }\n",
       "\n",
       "    .dataframe tbody tr th {\n",
       "        vertical-align: top;\n",
       "    }\n",
       "\n",
       "    .dataframe thead th {\n",
       "        text-align: right;\n",
       "    }\n",
       "</style>\n",
       "<table border=\"1\" class=\"dataframe\">\n",
       "  <thead>\n",
       "    <tr style=\"text-align: right;\">\n",
       "      <th></th>\n",
       "      <th>Movie1</th>\n",
       "      <th>Movie2</th>\n",
       "    </tr>\n",
       "  </thead>\n",
       "  <tbody>\n",
       "    <tr>\n",
       "      <th>User1</th>\n",
       "      <td>5</td>\n",
       "      <td>3</td>\n",
       "    </tr>\n",
       "    <tr>\n",
       "      <th>User2</th>\n",
       "      <td>2</td>\n",
       "      <td>1</td>\n",
       "    </tr>\n",
       "    <tr>\n",
       "      <th>User3</th>\n",
       "      <td>4</td>\n",
       "      <td>5</td>\n",
       "    </tr>\n",
       "    <tr>\n",
       "      <th>User4</th>\n",
       "      <td>4</td>\n",
       "      <td>4</td>\n",
       "    </tr>\n",
       "    <tr>\n",
       "      <th>User5</th>\n",
       "      <td>5</td>\n",
       "      <td>5</td>\n",
       "    </tr>\n",
       "    <tr>\n",
       "      <th>User6</th>\n",
       "      <td>2</td>\n",
       "      <td>4</td>\n",
       "    </tr>\n",
       "    <tr>\n",
       "      <th>User7</th>\n",
       "      <td>1</td>\n",
       "      <td>1</td>\n",
       "    </tr>\n",
       "    <tr>\n",
       "      <th>User8</th>\n",
       "      <td>5</td>\n",
       "      <td>5</td>\n",
       "    </tr>\n",
       "  </tbody>\n",
       "</table>\n",
       "</div>"
      ],
      "text/plain": [
       "       Movie1  Movie2\n",
       "User1       5       3\n",
       "User2       2       1\n",
       "User3       4       5\n",
       "User4       4       4\n",
       "User5       5       5\n",
       "User6       2       4\n",
       "User7       1       1\n",
       "User8       5       5"
      ]
     },
     "execution_count": 24,
     "metadata": {},
     "output_type": "execute_result"
    }
   ],
   "source": [
    "df_movie_rating = pd.DataFrame({\"Movie1\":[5,2,4,4,5,2,1,5], \"Movie2\":[3,1,5,4,5,4,1,5]}, index=['User1','User2','User3','User4','User5','User6','User7','User8'])\n",
    "df_movie_rating"
   ]
  },
  {
   "cell_type": "code",
   "execution_count": 28,
   "id": "cd5ede79-0a1f-44bf-bb65-79950e6c1ea7",
   "metadata": {},
   "outputs": [
    {
     "data": {
      "text/plain": [
       "User1    5\n",
       "User2    2\n",
       "User3    4\n",
       "User4    4\n",
       "User5    5\n",
       "User6    2\n",
       "User7    1\n",
       "User8    5\n",
       "Name: Movie1, dtype: int64"
      ]
     },
     "execution_count": 28,
     "metadata": {},
     "output_type": "execute_result"
    }
   ],
   "source": [
    "# selecting just one column is fetching index also automatically :)\n",
    "df_movie1 = df_movie_rating[\"Movie1\"]\n",
    "df_movie1[\"User1\"]\n",
    "df_movie_rating.Movie1"
   ]
  },
  {
   "cell_type": "code",
   "execution_count": 36,
   "id": "d01b1e88-1c27-4dce-bd6b-97c03fd5bcdc",
   "metadata": {},
   "outputs": [],
   "source": [
    "def maprating(rating):\n",
    "    if rating == 5:\n",
    "        return 'A'\n",
    "    if rating == 4:\n",
    "        return 'B'\n",
    "    if rating == 3:\n",
    "        return 'C'\n",
    "    if rating == 2:\n",
    "        return 'D'\n",
    "    if rating == 1:\n",
    "        return 'F'  # F means failed the expectations :)"
   ]
  },
  {
   "cell_type": "code",
   "execution_count": 39,
   "id": "2bdd08d1-70dc-4c12-ad64-7b3bef8ec718",
   "metadata": {},
   "outputs": [
    {
     "data": {
      "text/html": [
       "<div>\n",
       "<style scoped>\n",
       "    .dataframe tbody tr th:only-of-type {\n",
       "        vertical-align: middle;\n",
       "    }\n",
       "\n",
       "    .dataframe tbody tr th {\n",
       "        vertical-align: top;\n",
       "    }\n",
       "\n",
       "    .dataframe thead th {\n",
       "        text-align: right;\n",
       "    }\n",
       "</style>\n",
       "<table border=\"1\" class=\"dataframe\">\n",
       "  <thead>\n",
       "    <tr style=\"text-align: right;\">\n",
       "      <th></th>\n",
       "      <th>Movie1</th>\n",
       "      <th>Movie2</th>\n",
       "    </tr>\n",
       "  </thead>\n",
       "  <tbody>\n",
       "    <tr>\n",
       "      <th>User1</th>\n",
       "      <td>A</td>\n",
       "      <td>C</td>\n",
       "    </tr>\n",
       "    <tr>\n",
       "      <th>User2</th>\n",
       "      <td>D</td>\n",
       "      <td>F</td>\n",
       "    </tr>\n",
       "    <tr>\n",
       "      <th>User3</th>\n",
       "      <td>B</td>\n",
       "      <td>A</td>\n",
       "    </tr>\n",
       "    <tr>\n",
       "      <th>User4</th>\n",
       "      <td>B</td>\n",
       "      <td>B</td>\n",
       "    </tr>\n",
       "    <tr>\n",
       "      <th>User5</th>\n",
       "      <td>A</td>\n",
       "      <td>A</td>\n",
       "    </tr>\n",
       "    <tr>\n",
       "      <th>User6</th>\n",
       "      <td>D</td>\n",
       "      <td>B</td>\n",
       "    </tr>\n",
       "    <tr>\n",
       "      <th>User7</th>\n",
       "      <td>F</td>\n",
       "      <td>F</td>\n",
       "    </tr>\n",
       "    <tr>\n",
       "      <th>User8</th>\n",
       "      <td>A</td>\n",
       "      <td>A</td>\n",
       "    </tr>\n",
       "  </tbody>\n",
       "</table>\n",
       "</div>"
      ],
      "text/plain": [
       "      Movie1 Movie2\n",
       "User1      A      C\n",
       "User2      D      F\n",
       "User3      B      A\n",
       "User4      B      B\n",
       "User5      A      A\n",
       "User6      D      B\n",
       "User7      F      F\n",
       "User8      A      A"
      ]
     },
     "execution_count": 39,
     "metadata": {},
     "output_type": "execute_result"
    }
   ],
   "source": [
    "# applying a function to the entire dataframe in one line, using apply and applymap functions\n",
    "df_movie_rating.applymap(maprating)"
   ]
  },
  {
   "cell_type": "code",
   "execution_count": 33,
   "id": "cb1f4f0d-5536-4881-9ecc-752c89eceabe",
   "metadata": {},
   "outputs": [],
   "source": [
    "# Grouping by first name\n",
    "df_student_name = pd.DataFrame({'first':['sim','tim','kim','sim'], 'last':['khan','jones','cruise','paul']})"
   ]
  },
  {
   "cell_type": "code",
   "execution_count": 30,
   "id": "e235a8a8-b788-4386-bdb9-71345b4bc23b",
   "metadata": {},
   "outputs": [
    {
     "data": {
      "text/html": [
       "<div>\n",
       "<style scoped>\n",
       "    .dataframe tbody tr th:only-of-type {\n",
       "        vertical-align: middle;\n",
       "    }\n",
       "\n",
       "    .dataframe tbody tr th {\n",
       "        vertical-align: top;\n",
       "    }\n",
       "\n",
       "    .dataframe thead th {\n",
       "        text-align: right;\n",
       "    }\n",
       "</style>\n",
       "<table border=\"1\" class=\"dataframe\">\n",
       "  <thead>\n",
       "    <tr style=\"text-align: right;\">\n",
       "      <th></th>\n",
       "      <th>first</th>\n",
       "      <th>last</th>\n",
       "    </tr>\n",
       "  </thead>\n",
       "  <tbody>\n",
       "    <tr>\n",
       "      <th>0</th>\n",
       "      <td>sim</td>\n",
       "      <td>khan</td>\n",
       "    </tr>\n",
       "    <tr>\n",
       "      <th>1</th>\n",
       "      <td>tim</td>\n",
       "      <td>jones</td>\n",
       "    </tr>\n",
       "    <tr>\n",
       "      <th>2</th>\n",
       "      <td>kim</td>\n",
       "      <td>cruise</td>\n",
       "    </tr>\n",
       "    <tr>\n",
       "      <th>3</th>\n",
       "      <td>sim</td>\n",
       "      <td>paul</td>\n",
       "    </tr>\n",
       "  </tbody>\n",
       "</table>\n",
       "</div>"
      ],
      "text/plain": [
       "  first    last\n",
       "0   sim    khan\n",
       "1   tim   jones\n",
       "2   kim  cruise\n",
       "3   sim    paul"
      ]
     },
     "execution_count": 30,
     "metadata": {},
     "output_type": "execute_result"
    }
   ],
   "source": [
    "df_student_name"
   ]
  },
  {
   "cell_type": "code",
   "execution_count": 32,
   "id": "e239f890-b079-40fb-b5fa-05a33e4dabc5",
   "metadata": {},
   "outputs": [
    {
     "data": {
      "text/html": [
       "<div>\n",
       "<style scoped>\n",
       "    .dataframe tbody tr th:only-of-type {\n",
       "        vertical-align: middle;\n",
       "    }\n",
       "\n",
       "    .dataframe tbody tr th {\n",
       "        vertical-align: top;\n",
       "    }\n",
       "\n",
       "    .dataframe thead th {\n",
       "        text-align: right;\n",
       "    }\n",
       "</style>\n",
       "<table border=\"1\" class=\"dataframe\">\n",
       "  <thead>\n",
       "    <tr style=\"text-align: right;\">\n",
       "      <th></th>\n",
       "      <th>first</th>\n",
       "      <th>last</th>\n",
       "    </tr>\n",
       "  </thead>\n",
       "  <tbody>\n",
       "    <tr>\n",
       "      <th>0</th>\n",
       "      <td>sim</td>\n",
       "      <td>khan</td>\n",
       "    </tr>\n",
       "    <tr>\n",
       "      <th>3</th>\n",
       "      <td>sim</td>\n",
       "      <td>paul</td>\n",
       "    </tr>\n",
       "  </tbody>\n",
       "</table>\n",
       "</div>"
      ],
      "text/plain": [
       "  first  last\n",
       "0   sim  khan\n",
       "3   sim  paul"
      ]
     },
     "execution_count": 32,
     "metadata": {},
     "output_type": "execute_result"
    }
   ],
   "source": [
    "grouped = df_student_name.groupby('first')\n",
    "grouped.get_group('sim')"
   ]
  },
  {
   "cell_type": "code",
   "execution_count": 26,
   "id": "a87ab703-027a-4d88-87e2-bae4f3ab391b",
   "metadata": {},
   "outputs": [],
   "source": []
  },
  {
   "cell_type": "code",
   "execution_count": null,
   "id": "5f548051-e981-4246-a1ca-f55f51ccad17",
   "metadata": {},
   "outputs": [],
   "source": []
  }
 ],
 "metadata": {
  "kernelspec": {
   "display_name": "Python 3 (ipykernel)",
   "language": "python",
   "name": "python3"
  },
  "language_info": {
   "codemirror_mode": {
    "name": "ipython",
    "version": 3
   },
   "file_extension": ".py",
   "mimetype": "text/x-python",
   "name": "python",
   "nbconvert_exporter": "python",
   "pygments_lexer": "ipython3",
   "version": "3.8.10"
  }
 },
 "nbformat": 4,
 "nbformat_minor": 5
}
