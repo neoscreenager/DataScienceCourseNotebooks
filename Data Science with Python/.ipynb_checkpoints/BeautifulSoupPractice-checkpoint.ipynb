{
 "cells": [
  {
   "cell_type": "code",
   "execution_count": 1,
   "id": "3bc3fae1-2eff-423f-b590-b5dd66642747",
   "metadata": {},
   "outputs": [],
   "source": [
    "from bs4 import BeautifulSoup\n",
    "from bs4 import SoupStrainer\n",
    "import requests"
   ]
  },
  {
   "cell_type": "code",
   "execution_count": 2,
   "id": "ead9ab37-3f95-4d37-a29f-b393a943117b",
   "metadata": {},
   "outputs": [
    {
     "data": {
      "text/plain": [
       "200"
      ]
     },
     "execution_count": 2,
     "metadata": {},
     "output_type": "execute_result"
    }
   ],
   "source": [
    "url = \"https://sgiphils.com.ph\"\n",
    "html_doc = requests.get(url)\n",
    "#soup = BeautifulSoup(html_doc)\n",
    "html_doc.status_code"
   ]
  },
  {
   "cell_type": "code",
   "execution_count": 3,
   "id": "cd4e3246-78fa-4110-9d39-1761414254ef",
   "metadata": {},
   "outputs": [],
   "source": [
    "soup = BeautifulSoup(html_doc.text, 'html.parser')\n",
    "#print(soup)"
   ]
  },
  {
   "cell_type": "code",
   "execution_count": 4,
   "id": "4cefe62c-bf14-49d1-8108-93642fedb9fc",
   "metadata": {},
   "outputs": [
    {
     "name": "stdout",
     "output_type": "stream",
     "text": [
      "#content\n",
      "https://sgiphils.com.ph/\n",
      "https://sgiphils.com.ph/\n",
      "https://sgiphils.com.ph/about-us/\n",
      "https://sgiphils.com.ph/insurance/\n",
      "https://sgiphils.com.ph/insurance/motor-insurance/\n",
      "https://sgiphils.com.ph/insurance/motor-insurance/motorcycle-insurance/\n",
      "https://sgiphils.com.ph/insurance/motor-insurance/private-car-insurance/\n",
      "https://sgiphils.com.ph/insurance/motor-insurance/commercial-vehicle-insurance/\n",
      "https://sgiphils.com.ph/insurance/fire-insurance/\n",
      "https://sgiphils.com.ph/insurance/engineering-insurance/\n",
      "https://sgiphils.com.ph/insurance/marine-insurance/\n",
      "https://sgiphils.com.ph/insurance/miscellaneous-insurance/\n",
      "https://sgiphils.com.ph/insurance/pa-health-insurance-bond-insurance/\n",
      "https://sgiphils.com.ph/download-quick-links/#quick\n",
      "https://sgiphils.com.ph/news-events/\n",
      "https://sgiphils.com.ph/career-2/\n",
      "https://sgiphils.com.ph/customer-support/\n",
      "/products/motor-insurance\n",
      "/products/engineering-insurance\n",
      "/products/miscellaneous-insurance\n",
      "/products/fire-insurance\n",
      "http://sgiphils.com.ph/test/about-us/\n",
      "http://sgiphils.com.ph/products/motor-insurance/\n",
      "http://sgiphils.com.ph/products/fire-insurance/\n",
      "http://sgiphils.com.ph/products/engineering-insurance/\n",
      "http://sgiphils.com.ph/products/marine-insurance/\n",
      "http://sgiphils.com.ph/products/miscellaneous-insurance/\n",
      "http://sgiphils.com.ph/products/pa-health-insurance-bond-insurance/\n",
      "https://sgiphils.com.ph/about-us/\n",
      "https://sgiphils.com.ph/customer-support/\n",
      "https://sgiphils.com.ph/download-quick-links/\n",
      "https://sgiphils.com.ph/career-2/\n",
      "https://sgiphils.com.ph/news-events/\n",
      "https://sgiphils.com.ph/private-car-insurance/\n",
      "https://sgiphils.com.ph/Commercial-Vehicle-Insurance\n",
      "https://sgiphils.com.ph/motorcycle-insurance/\n",
      "https://sgiphils.com.ph/products/fire-insurance/\n",
      "https://sgiphils.com.ph/products/engineering-insurance/\n",
      "https://sgiphils.com.ph/products/marine-insurance/\n",
      "https://sgiphils.com.ph/products/miscellaneous-insurance/\n",
      "https://sgiphils.com.ph/products/pa-health-insurance-bond-insurance/\n",
      "https://www.facebook.com/sgiphilippines/   \n",
      "https://twitter.com/SGIPhils \n",
      " https://www.linkedin.com/company/sgi-phils/   \n",
      "https://sgiphils.com.ph/\n",
      "http://gmpg.org/xfn/11 : ['profile']\n",
      "https://sgiphils.com.ph/xmlrpc.php : ['pingback']\n",
      "https://fonts.googleapis.com/css?family=Lato : ['stylesheet']\n",
      "https://sgiphils.com.ph/ : ['canonical']\n",
      "//fonts.googleapis.com : ['dns-prefetch']\n",
      "https://sgiphils.com.ph/feed/ : ['alternate']\n",
      "https://sgiphils.com.ph/comments/feed/ : ['alternate']\n",
      "https://sgiphils.com.ph/home/feed/ : ['alternate']\n",
      "//sgiphils.com.ph/wp-content/cache/wpfc-minified/ehtcs4u5/bmf3x.css : ['stylesheet']\n",
      "//sgiphils.com.ph/wp-content/cache/wpfc-minified/m7y6wiel/bmf3x.css : ['stylesheet']\n",
      "//sgiphils.com.ph/wp-content/cache/wpfc-minified/k98ryzd7/c427q.css : ['stylesheet']\n",
      "//sgiphils.com.ph/wp-content/cache/wpfc-minified/2f7i525g/c427q.css : ['stylesheet']\n",
      "https://fonts.googleapis.com/css?family=lato%3Aregular%2C700&subset=latin-ext%2Clatin&ver=0-6 : ['stylesheet']\n",
      "https://fonts.googleapis.com/css?family=lato%3A700%2Cregular&subset=latin-ext%2Clatin&ver=0-6 : ['stylesheet']\n",
      "https://fonts.googleapis.com/css?family=lato%3A700%2Cregular&subset=latin%2Clatin-ext&ver=0-6 : ['stylesheet']\n",
      "https://fonts.googleapis.com/css?family=lato%3Aregular&subset=latin-ext%2Clatin&ver=0-6 : ['stylesheet']\n",
      "https://fonts.googleapis.com/css?family=lato%3Aregular%2C700&subset=latin%2Clatin-ext&ver=0-6 : ['stylesheet']\n",
      "//sgiphils.com.ph/wp-content/cache/wpfc-minified/mjnnmaiz/c427q.css : ['stylesheet']\n",
      "https://sgiphils.com.ph/wp-json/ : ['https://api.w.org/']\n",
      "https://sgiphils.com.ph/wp-json/wp/v2/pages/6 : ['alternate']\n",
      "https://sgiphils.com.ph/xmlrpc.php?rsd : ['EditURI']\n",
      "https://sgiphils.com.ph/wp-includes/wlwmanifest.xml : ['wlwmanifest']\n",
      "https://sgiphils.com.ph/ : ['shortlink']\n",
      "https://sgiphils.com.ph/wp-json/oembed/1.0/embed?url=https%3A%2F%2Fsgiphils.com.ph%2F : ['alternate']\n",
      "https://sgiphils.com.ph/wp-json/oembed/1.0/embed?url=https%3A%2F%2Fsgiphils.com.ph%2F&format=xml : ['alternate']\n",
      "https://sgiphils.com.ph/wp-content/uploads/2019/07/favicon.ico : ['icon']\n",
      "https://sgiphils.com.ph/wp-content/uploads/2019/07/favicon.ico : ['icon']\n",
      "https://sgiphils.com.ph/wp-content/uploads/2019/07/favicon.ico : ['apple-touch-icon']\n",
      "<link href=\"https://sgiphils.com.ph/wp-content/uploads/2019/07/favicon.ico\" rel=\"apple-touch-icon\"/>\n"
     ]
    }
   ],
   "source": [
    "# parsing all the links from the web page\n",
    "for link in soup.find_all('a', href=True):\n",
    "    print(link['href'])\n",
    "\n",
    "for link in soup.find_all('link', href=True):\n",
    "    print(link['href'], \":\", link['rel'])\n",
    "print(link)"
   ]
  },
  {
   "cell_type": "code",
   "execution_count": 5,
   "id": "13fb3d47-dc3a-49b9-875e-e04114e0b094",
   "metadata": {},
   "outputs": [],
   "source": [
    "with open(\"web_scraping_example.html\", \"r\") as organization:\n",
    "    soup2 = BeautifulSoup(organization,\"lxml\")"
   ]
  },
  {
   "cell_type": "code",
   "execution_count": 15,
   "id": "8b98fd77-8bd0-446c-8dd0-7677c2aec8ab",
   "metadata": {},
   "outputs": [
    {
     "data": {
      "text/plain": [
       "[<html>\n",
       " <body>\n",
       " <div class=\"oraganization\">\n",
       " <ul id=\"HR\">\n",
       " <li class=\"HRmanager\">\n",
       " <div class=\"name\">Jack</div>\n",
       " <div class=\"ID\">101</div>\n",
       " </li>\n",
       " <li class=\"HRmanager\">\n",
       " <div class=\"name\">Daren</div>\n",
       " <div class=\"ID\">65</div>\n",
       " </li>\n",
       " </ul>\n",
       " <ul id=\"IT\">\n",
       " <li class=\"ITmanager\">\n",
       " <div class=\"name\">Morris</div>\n",
       " <div class=\"ID\">39</div>\n",
       " </li>\n",
       " <li class=\"ITmanager\">\n",
       " <div class=\"name\">Jane</div>\n",
       " <div class=\"ID\">11</div>\n",
       " </li>\n",
       " </ul>\n",
       " <ul id=\"Finance\">\n",
       " <li class=\"accountmanager\">\n",
       " <div class=\"name\">Tom</div>\n",
       " <div class=\"ID\">22</div>\n",
       " </li>\n",
       " <li class=\"accountmanager\">\n",
       " <div class=\"name\">Kelly</div>\n",
       " <div class=\"ID\">95</div>\n",
       " </li>\n",
       " </ul>\n",
       " </div>\n",
       " </body>\n",
       " </html>]"
      ]
     },
     "execution_count": 15,
     "metadata": {},
     "output_type": "execute_result"
    }
   ],
   "source": [
    "soup2.contents"
   ]
  },
  {
   "cell_type": "code",
   "execution_count": 16,
   "id": "cf92529b-35d1-4e1d-a7eb-e1341d173a17",
   "metadata": {},
   "outputs": [],
   "source": [
    "tag_li = soup.find(\"li\")"
   ]
  },
  {
   "cell_type": "code",
   "execution_count": 17,
   "id": "b95fbafd-4fd6-4af0-8c85-3e6a9f92856d",
   "metadata": {},
   "outputs": [
    {
     "name": "stdout",
     "output_type": "stream",
     "text": [
      "<li class=\"menu-item menu-item-type-post_type menu-item-object-page menu-item-home current-menu-item page_item page-item-6 current_page_item menu-item-34\" id=\"menu-item-34\"><a aria-current=\"page\" href=\"https://sgiphils.com.ph/\">Home</a></li>\n"
     ]
    }
   ],
   "source": [
    "print(tag_li)"
   ]
  },
  {
   "cell_type": "code",
   "execution_count": 20,
   "id": "57aa8537-2db6-4c4d-825e-64844d61996c",
   "metadata": {},
   "outputs": [],
   "source": [
    "hrid = soup2.find(id=\"HR\")"
   ]
  },
  {
   "cell_type": "code",
   "execution_count": 21,
   "id": "2df8b1e2-1651-4ba4-b53e-026fd8a4d0fd",
   "metadata": {},
   "outputs": [
    {
     "name": "stdout",
     "output_type": "stream",
     "text": [
      "<ul id=\"HR\">\n",
      "<li class=\"HRmanager\">\n",
      "<div class=\"name\">Jack</div>\n",
      "<div class=\"ID\">101</div>\n",
      "</li>\n",
      "<li class=\"HRmanager\">\n",
      "<div class=\"name\">Daren</div>\n",
      "<div class=\"ID\">65</div>\n",
      "</li>\n",
      "</ul>\n"
     ]
    }
   ],
   "source": [
    "print(hrid)"
   ]
  },
  {
   "cell_type": "code",
   "execution_count": null,
   "id": "981f7b12-7d7f-47bc-abf9-cd10d0b22b4e",
   "metadata": {},
   "outputs": [],
   "source": []
  }
 ],
 "metadata": {
  "kernelspec": {
   "display_name": "Python 3 (ipykernel)",
   "language": "python",
   "name": "python3"
  },
  "language_info": {
   "codemirror_mode": {
    "name": "ipython",
    "version": 3
   },
   "file_extension": ".py",
   "mimetype": "text/x-python",
   "name": "python",
   "nbconvert_exporter": "python",
   "pygments_lexer": "ipython3",
   "version": "3.10.4"
  }
 },
 "nbformat": 4,
 "nbformat_minor": 5
}
