{
 "cells": [
  {
   "cell_type": "code",
   "execution_count": 45,
   "id": "8cd32e5f-92d9-40fd-9cad-24107871d494",
   "metadata": {},
   "outputs": [],
   "source": [
    "def is_inside_the_board(x , y):\n",
    "    \"\"\"\n",
    "        is_inside_the_board checks if the coordinates of a possible position of the knight falls within the board.\n",
    "        \n",
    "    \"\"\"\n",
    "    if(x>=0 and x<=7 and y>=0 and y<=7):\n",
    "        return True\n",
    "    else:\n",
    "        return False\n",
    "\n",
    "def find_min_steps(initial_position, target_position, chess_board):\n",
    "    \"\"\"\n",
    "        The chess_board is the positional board to keep track of visited positions\n",
    "        Algorithm : \n",
    "        starting from the initial position we will try to make all 8 legal moves. \n",
    "        If the reachable position is not already visited and is inside the board, \n",
    "        we enqueue this state into a queue with a number of moves of 1 more than its parent state. \n",
    "        If the current location is not the target location, then we can pop it from the queue and will \n",
    "        enqueue the possible legal moves from that location.\n",
    "        \n",
    "        Algorithm taken from After Academy https://afteracademy.com/blog/knight-on-chessboard\n",
    "    \"\"\"\n",
    "    # possbible moves of a knight\n",
    "    dx = [2, 1, -1, -2, -2, -1, 1, 2];\n",
    "    dy = [1, 2, 2, 1, -1, -2, -2, -1];\n",
    "    \n",
    "    moves = [] # moves array to store the moves rquired to reach each board position\n",
    "    for row in range(8):\n",
    "        column_elements = []\n",
    "        for column in range(8):\n",
    "            column_elements.append(0)\n",
    "        moves.append(column_elements)\n",
    "        \n",
    "    q = [] # simulating a queue with list as foobar.withgoogle.com is not supporting the imports\n",
    "    q.append([initial_position[0], initial_position[1]]) # pushing knight's initial position in the queue\n",
    "    chess_board[initial_position[0]][initial_position[1]] = 1 # marking knigh's initial position as visited\n",
    "    while(len(q)>0):\n",
    "        current_position = q.pop(0)\n",
    "        if(current_position[0] == target_position[0] and current_position[1] == target_position[1]):\n",
    "            return moves[current_position[0]][current_position[1]]\n",
    "        else:\n",
    "            # visiting all the possible locations from the current position and accordingly counting the moves\n",
    "            for i in range(8):\n",
    "                # calculate the new position from the current postion\n",
    "                X = current_position[0] + dx[i]\n",
    "                Y = current_position[1] + dy[i]\n",
    "                # check if new position is inside the board and not previously visited\n",
    "                if(is_inside_the_board(X, Y) and chess_board[X][Y]==0):\n",
    "                    chess_board[X][Y] = 1 # mark the new position as visited\n",
    "                    moves[X][Y] = moves[current_position[0]][current_position[1]] + 1 # increasing the number of moves in new position\n",
    "                    q.append([X,Y]) # push the new position into the queue\n",
    "                                                             \n",
    "    \n",
    "def solution(src, dest):\n",
    "    if(src>=0 and src<=63 and dest>=0 and dest<=63):\n",
    "        chess_board = []\n",
    "        i = 0\n",
    "        for row in range(0,8):\n",
    "            column_elements = []\n",
    "            for column in range(8):\n",
    "                column_elements.append(i)\n",
    "                if(i==src):\n",
    "                    row_index_source = row\n",
    "                    column_index_source = column\n",
    "                if(i==dest):\n",
    "                    row_index_dest = row\n",
    "                    column_index_dest = column\n",
    "                i += 1\n",
    "            chess_board.append(column_elements)\n",
    "        knight_position = [row_index_source, column_index_source]\n",
    "        target_position = [row_index_dest, column_index_dest]\n",
    "        # create a position chess board for keeping track of positions of kinght's movement\n",
    "        position_board = []\n",
    "        for row in range(8):\n",
    "            column_elements = []\n",
    "            for column in range(8):\n",
    "                column_elements.append(0)\n",
    "            position_board.append(column_elements)\n",
    "        print(find_min_steps(knight_position, target_position, position_board))\n",
    "    else:\n",
    "        return -1 # returning -1 if the position input is invalid\n",
    "\n",
    "\n",
    "        "
   ]
  },
  {
   "cell_type": "code",
   "execution_count": 50,
   "id": "b654aeb3-0753-4ca4-927c-40171ef80d18",
   "metadata": {},
   "outputs": [
    {
     "name": "stdout",
     "output_type": "stream",
     "text": [
      "3\n"
     ]
    }
   ],
   "source": [
    "solution(0, 1)"
   ]
  },
  {
   "cell_type": "code",
   "execution_count": 47,
   "id": "74fee715-5939-4164-9859-35076340ec0d",
   "metadata": {},
   "outputs": [
    {
     "name": "stdout",
     "output_type": "stream",
     "text": [
      "1\n"
     ]
    }
   ],
   "source": [
    "solution(19, 36)"
   ]
  },
  {
   "cell_type": "code",
   "execution_count": 48,
   "id": "91a5cbc6-5e39-4b84-b40f-ba6306e226df",
   "metadata": {},
   "outputs": [
    {
     "data": {
      "text/plain": [
       "-1"
      ]
     },
     "execution_count": 48,
     "metadata": {},
     "output_type": "execute_result"
    }
   ],
   "source": [
    "solution(67, 23)"
   ]
  },
  {
   "cell_type": "markdown",
   "id": "a8d0a3bc-9467-42a3-ae6e-32514a05a7c5",
   "metadata": {},
   "source": [
    "<h2> Optimized solution without using any external libraries !!! </h2>"
   ]
  },
  {
   "cell_type": "code",
   "execution_count": 4,
   "id": "6bffa043-bf68-4495-96a2-1a3027852fa0",
   "metadata": {},
   "outputs": [],
   "source": [
    "def is_inside_the_board(x, y):\n",
    "    if(x>=0 and x<=7 and y>=0 and y<=7):\n",
    "        return True\n",
    "    else:\n",
    "        return False\n",
    "\n",
    "class board:\n",
    "    def __init__(self, x=0, y=0, moves=0):\n",
    "        self.x = x\n",
    "        self.y = y\n",
    "        self.moves = moves\n",
    "\n",
    "# Binary Search on sorted 2D array\n",
    "def find_position(chess_board, target):\n",
    "    r = 0\n",
    "    c = len(chess_board[r]) - 1\n",
    "    while (r < len(chess_board) and c >= 0):\n",
    "        if (chess_board[r][c] == target):\n",
    "            return [r, c]\n",
    " \n",
    "        # Target lies in further row\n",
    "        if (chess_board[r][c] < target):\n",
    "            r += 1\n",
    " \n",
    "        # Target lies in previous column\n",
    "        else:\n",
    "            c -= 1\n",
    "            \n",
    "# @profile\n",
    "def find_min_steps(initial_position, target_position, chess_board):\n",
    "    dx = [2, 1, -1, -2, -2, -1, 1, 2]\n",
    "    dy = [1, 2, 2, 1, -1, -2, -2, -1]\n",
    "    #moves = [[0 for i in range(8)] for j in range(8)] \n",
    "    q = [] \n",
    "    q.append(board(initial_position[0], initial_position[1],0))\n",
    "    chess_board[initial_position[0]][initial_position[1]] = 1\n",
    "    while(len(q)>0):\n",
    "        current_position = q.pop(0)\n",
    "        if(current_position.x== target_position[0] and current_position.y == target_position[1]):\n",
    "            return current_position.moves\n",
    "        else:\n",
    "            for i in range(8):\n",
    "                X = current_position.x + dx[i]\n",
    "                Y = current_position.y + dy[i]\n",
    "                if(is_inside_the_board(X, Y) and chess_board[X][Y]==0):\n",
    "                    chess_board[X][Y] = 1 \n",
    "                    #moves[X][Y] = moves[current_position[0]][current_position[1]] + 1 \n",
    "                    q.append(board(X,Y,current_position.moves+1))\n",
    "                    \n",
    "# @profile - the function can be profiled using this tag and using line_profiler ( pip install line_profiler to install):\n",
    "# kernprof -l <filename.py> -- This command will eveluate the functions with @profile tags and write the details to <filename.py>.lprof \n",
    "# python -m line_profiler <fileaname.py>.lprof -- This command will read the lprof file and display the result in readable form\n",
    "def solution(src, dest):\n",
    "    if(src>=0 and src<=63 and dest>=0 and dest<=63):\n",
    "        chess_board = [[0,1,2,3,4,5,6,7],[8,9,10,11,12,13,14,15],[16,17,18,19,20,21,22,23],[24,25,26,27,28,29,30,31],\n",
    "                       [32,33,34,35,36,37,38,39],[40,41,42,43,44,45,46,47],[48,49,50,51,52,53,54,55],[56,57,58,59,60,61,62,63]]\n",
    "        \n",
    "        knight_position = find_position(chess_board, src)\n",
    "        target_position = find_position(chess_board, dest)\t\t\t\n",
    "        \n",
    "        position_board = [[0 for i in range(8)] for j in range(8)]\n",
    "       \n",
    "        min_moves = find_min_steps(knight_position, target_position, position_board)\n",
    "        return min_moves\n",
    "    else:\n",
    "        return -1\n",
    "\n"
   ]
  },
  {
   "cell_type": "code",
   "execution_count": 5,
   "id": "0a8fd1b3-fcd4-4e4a-9552-ca54b24b6d51",
   "metadata": {},
   "outputs": [
    {
     "name": "stdout",
     "output_type": "stream",
     "text": [
      "6\n",
      "3\n",
      "1\n"
     ]
    }
   ],
   "source": [
    "\n",
    "print(solution(0,63))\n",
    "print(solution(0,1))\n",
    "print(solution(19, 36))"
   ]
  },
  {
   "cell_type": "code",
   "execution_count": null,
   "id": "4e9b8369-158b-408b-b046-6d7abc65679b",
   "metadata": {},
   "outputs": [],
   "source": []
  }
 ],
 "metadata": {
  "kernelspec": {
   "display_name": "Python 3 (ipykernel)",
   "language": "python",
   "name": "python3"
  },
  "language_info": {
   "codemirror_mode": {
    "name": "ipython",
    "version": 3
   },
   "file_extension": ".py",
   "mimetype": "text/x-python",
   "name": "python",
   "nbconvert_exporter": "python",
   "pygments_lexer": "ipython3",
   "version": "3.8.10"
  }
 },
 "nbformat": 4,
 "nbformat_minor": 5
}
