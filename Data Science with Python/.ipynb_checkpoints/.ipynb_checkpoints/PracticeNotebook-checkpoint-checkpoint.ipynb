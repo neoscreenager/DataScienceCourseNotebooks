{
 "cells": [
  {
   "cell_type": "code",
   "execution_count": 1,
   "id": "94d40ea1-f726-4c2e-8503-5f93a497b452",
   "metadata": {},
   "outputs": [
    {
     "name": "stdout",
     "output_type": "stream",
     "text": [
      "Python 3.8.10\n"
     ]
    }
   ],
   "source": [
    "!python --version"
   ]
  },
  {
   "cell_type": "code",
   "execution_count": 2,
   "id": "c1e7db08-fc57-4e8b-a34a-b1192e25cf15",
   "metadata": {},
   "outputs": [
    {
     "data": {
      "text/plain": [
       "float"
      ]
     },
     "execution_count": 2,
     "metadata": {},
     "output_type": "execute_result"
    }
   ],
   "source": [
    "a = 10.1\n",
    "type(a)"
   ]
  },
  {
   "cell_type": "code",
   "execution_count": 3,
   "id": "bdfe38b1-c4b9-4da7-a17d-8e8f450764ff",
   "metadata": {},
   "outputs": [
    {
     "data": {
      "text/plain": [
       "bool"
      ]
     },
     "execution_count": 3,
     "metadata": {},
     "output_type": "execute_result"
    }
   ],
   "source": [
    "q1 = True\n",
    "type(q1)"
   ]
  },
  {
   "cell_type": "code",
   "execution_count": 4,
   "id": "4577d5dd-e1b2-4bf9-862e-b28e985aa551",
   "metadata": {},
   "outputs": [],
   "source": [
    "integer_x, integer_y = 4, 6"
   ]
  },
  {
   "cell_type": "code",
   "execution_count": 6,
   "id": "7e6abf2d-ae61-48a2-8090-d8e8ae3b12c9",
   "metadata": {},
   "outputs": [
    {
     "data": {
      "text/plain": [
       "(4, 6)"
      ]
     },
     "execution_count": 6,
     "metadata": {},
     "output_type": "execute_result"
    }
   ],
   "source": [
    "integer_x, integer_y"
   ]
  },
  {
   "cell_type": "code",
   "execution_count": 18,
   "id": "3772735f-ec13-4652-9ff2-e4d63daf75f1",
   "metadata": {},
   "outputs": [
    {
     "data": {
      "text/plain": [
       "9789024"
      ]
     },
     "execution_count": 18,
     "metadata": {},
     "output_type": "execute_result"
    }
   ],
   "source": [
    "x = 3\n",
    "id(x)\n"
   ]
  },
  {
   "cell_type": "code",
   "execution_count": 24,
   "id": "a5074c63-7a5d-4351-aa63-0e475346582f",
   "metadata": {},
   "outputs": [
    {
     "name": "stdout",
     "output_type": "stream",
     "text": [
      "x: 8\n",
      "9789184\n",
      "9789152\n",
      "9789184\n",
      "9789184\n",
      "9789184\n"
     ]
    }
   ],
   "source": [
    "print(\"x:\", x)\n",
    "print(id(x))\n",
    "x = 7\n",
    "print(id(x))\n",
    "x += 1\n",
    "print(id(x)) # ID is the unique ID of the value we are assigning to a variable. Unique ID is a unique memory location.\n",
    "x = 8\n",
    "print(id(x))\n",
    "y = 8 # assigning same value to two different variable results in both variables pointing to same value of ID i.e. same memory location.\n",
    "print(id(y)) \n"
   ]
  },
  {
   "cell_type": "code",
   "execution_count": 25,
   "id": "ef7ff280-392a-4cda-a9c7-6c3608939694",
   "metadata": {},
   "outputs": [
    {
     "name": "stdout",
     "output_type": "stream",
     "text": [
      "45.65\n",
      "<class 'float'>\n",
      "45.65\n",
      "<class 'str'>\n"
     ]
    }
   ],
   "source": [
    "#float to string typcasting\n",
    "a_float = 45.65\n",
    "print(a_float)\n",
    "print(type(a_float))\n",
    "a_string = str(a_float)\n",
    "print(a_string)\n",
    "print(type(a_string))"
   ]
  },
  {
   "cell_type": "code",
   "execution_count": 1,
   "id": "fa215d01-4436-40fc-8efa-26f3b064c7fa",
   "metadata": {},
   "outputs": [
    {
     "data": {
      "text/plain": [
       "{1: 'Abhi', 2: 'Yahoo'}"
      ]
     },
     "execution_count": 1,
     "metadata": {},
     "output_type": "execute_result"
    }
   ],
   "source": [
    "first_dic = {1:'Abhi', 2:'Yahoo'}\n",
    "first_dic"
   ]
  },
  {
   "cell_type": "code",
   "execution_count": 2,
   "id": "7e0ce928-82a1-417c-b62e-cbe8ce6ad9b2",
   "metadata": {},
   "outputs": [],
   "source": [
    "del first_dic[2]"
   ]
  },
  {
   "cell_type": "code",
   "execution_count": 3,
   "id": "4789111d-cd24-4135-9e00-ed7e951e0182",
   "metadata": {},
   "outputs": [
    {
     "data": {
      "text/plain": [
       "{1: 'Abhi'}"
      ]
     },
     "execution_count": 3,
     "metadata": {},
     "output_type": "execute_result"
    }
   ],
   "source": [
    "first_dic"
   ]
  },
  {
   "cell_type": "code",
   "execution_count": 1,
   "id": "ed2faa2c-6cfd-4721-a913-468887e3fa48",
   "metadata": {},
   "outputs": [
    {
     "data": {
      "text/plain": [
       "array([[ 3,  4,  5,  6,  7,  9, 10],\n",
       "       [ 9,  4,  3,  2,  1,  3,  9]])"
      ]
     },
     "execution_count": 1,
     "metadata": {},
     "output_type": "execute_result"
    }
   ],
   "source": [
    "import numpy as np\n",
    "\n",
    "my_array = np.array([[3,4,5,6,7,9,10],[9,4,3,2,1,3,9]])\n",
    "my_array"
   ]
  },
  {
   "cell_type": "code",
   "execution_count": 5,
   "id": "2e2f8a83-d318-4852-be1b-15c76c059677",
   "metadata": {},
   "outputs": [
    {
     "data": {
      "text/plain": [
       "7"
      ]
     },
     "execution_count": 5,
     "metadata": {},
     "output_type": "execute_result"
    }
   ],
   "source": [
    "np.trace(my_array)"
   ]
  },
  {
   "cell_type": "code",
   "execution_count": 6,
   "id": "c04d0661-0acf-4970-a97e-f62c2cafda48",
   "metadata": {},
   "outputs": [
    {
     "name": "stdout",
     "output_type": "stream",
     "text": [
      "[ 32  34 456  67 345 456]\n",
      "[ 32  34 456  67 345 456]\n"
     ]
    }
   ],
   "source": [
    "my_one_d_array = np.array([32,34,456,67,345,456])\n",
    "print(my_one_d_array)\n",
    "print(np.transpose(my_one_d_array))"
   ]
  },
  {
   "cell_type": "code",
   "execution_count": 10,
   "id": "5d0e5548-5d12-4da4-9042-811c3aca0fbe",
   "metadata": {},
   "outputs": [],
   "source": [
    "my_non_homogeneous_array = np.array([23,34543,54645,34534,434])"
   ]
  },
  {
   "cell_type": "code",
   "execution_count": 8,
   "id": "a56313ea-cf4c-43f7-98ce-0afcd16d05e4",
   "metadata": {},
   "outputs": [
    {
     "data": {
      "text/plain": [
       "array(['2343', '23', '34543', '54645', '34534', '434'], dtype='<U5')"
      ]
     },
     "execution_count": 8,
     "metadata": {},
     "output_type": "execute_result"
    }
   ],
   "source": [
    "my_non_homogeneous_array"
   ]
  },
  {
   "cell_type": "code",
   "execution_count": 11,
   "id": "39eebc05-ca91-47ca-b6bf-3c920c38b2ad",
   "metadata": {},
   "outputs": [
    {
     "data": {
      "text/plain": [
       "array([    69, 103629, 163935, 103602,   1302])"
      ]
     },
     "execution_count": 11,
     "metadata": {},
     "output_type": "execute_result"
    }
   ],
   "source": [
    "my_non_homogeneous_array*3"
   ]
  },
  {
   "cell_type": "code",
   "execution_count": 13,
   "id": "75b2c7ab-aa2b-4f9d-b5b2-1e6b6117981d",
   "metadata": {},
   "outputs": [
    {
     "data": {
      "text/plain": [
       "1"
      ]
     },
     "execution_count": 13,
     "metadata": {},
     "output_type": "execute_result"
    }
   ],
   "source": [
    "my_non_homogeneous_array.ndim"
   ]
  },
  {
   "cell_type": "code",
   "execution_count": 16,
   "id": "49b25fa3-1d85-4f4e-b759-de9acf05c1dc",
   "metadata": {},
   "outputs": [
    {
     "data": {
      "text/plain": [
       "(5,)"
      ]
     },
     "execution_count": 16,
     "metadata": {},
     "output_type": "execute_result"
    }
   ],
   "source": [
    "my_non_homogeneous_array.shape"
   ]
  },
  {
   "cell_type": "code",
   "execution_count": 18,
   "id": "3f3d0b11-2f0c-4564-9faf-5192b65eb348",
   "metadata": {},
   "outputs": [
    {
     "data": {
      "text/plain": [
       "dtype('int64')"
      ]
     },
     "execution_count": 18,
     "metadata": {},
     "output_type": "execute_result"
    }
   ],
   "source": [
    "my_non_homogeneous_array.dtype"
   ]
  },
  {
   "cell_type": "code",
   "execution_count": 29,
   "id": "a2065ecd-1e7c-4936-80ff-c23383f5cfb7",
   "metadata": {},
   "outputs": [],
   "source": [
    "my_string_array = np.array([[\"abcd6656\",\"efgh\",\"klmn\"],[\"fasd\",\"@#$\",\"dsaf\"]])"
   ]
  },
  {
   "cell_type": "code",
   "execution_count": 30,
   "id": "060c3b01-a1b0-4714-95c3-c2540ba2ce19",
   "metadata": {},
   "outputs": [
    {
     "data": {
      "text/plain": [
       "(2, 3)"
      ]
     },
     "execution_count": 30,
     "metadata": {},
     "output_type": "execute_result"
    }
   ],
   "source": [
    "my_string_array.shape"
   ]
  },
  {
   "cell_type": "code",
   "execution_count": 32,
   "id": "f9fef0c6-175e-434b-99cb-cdb889052078",
   "metadata": {},
   "outputs": [
    {
     "data": {
      "text/plain": [
       "array([['abcd6656', 'efgh', 'klmn'],\n",
       "       ['fasd', '@#$', 'dsaf']], dtype='<U8')"
      ]
     },
     "execution_count": 32,
     "metadata": {},
     "output_type": "execute_result"
    }
   ],
   "source": [
    "my_string_array"
   ]
  },
  {
   "cell_type": "code",
   "execution_count": 31,
   "id": "6e038b7b-fc4d-470b-bb04-2c4f5db4eb48",
   "metadata": {},
   "outputs": [
    {
     "data": {
      "text/plain": [
       "array(['abcd6656', 'efgh', 'klmn', 'fasd', '@#$', 'dsaf'], dtype='<U8')"
      ]
     },
     "execution_count": 31,
     "metadata": {},
     "output_type": "execute_result"
    }
   ],
   "source": [
    "my_flatten_string = my_string_array.reshape(6,)\n",
    "my_flatten_string"
   ]
  },
  {
   "cell_type": "code",
   "execution_count": 7,
   "id": "70d8ea3e-a1b8-4fa7-a528-d65fff438dd8",
   "metadata": {},
   "outputs": [],
   "source": [
    "firtst_trial = [10,15,17,26]\n",
    "second_trial = [12,11,21,24]\n",
    "np_first_trial = np.array(firtst_trial)\n",
    "np_second_trial = np.array(second_trial)\n"
   ]
  },
  {
   "cell_type": "code",
   "execution_count": 8,
   "id": "4bd7142e-830b-4a3c-aff0-3de277864054",
   "metadata": {},
   "outputs": [],
   "source": [
    "total_distance = np_first_trial + np_second_trial # numpy array will add the arrays with +"
   ]
  },
  {
   "cell_type": "code",
   "execution_count": 9,
   "id": "667a8a69-8469-4186-a12f-647985caf523",
   "metadata": {},
   "outputs": [
    {
     "data": {
      "text/plain": [
       "array([22, 26, 38, 50])"
      ]
     },
     "execution_count": 9,
     "metadata": {},
     "output_type": "execute_result"
    }
   ],
   "source": [
    "total_distance"
   ]
  },
  {
   "cell_type": "code",
   "execution_count": 12,
   "id": "13677814-20f3-4f58-8b5e-c76fe41ad1a0",
   "metadata": {},
   "outputs": [
    {
     "data": {
      "text/plain": [
       "[10, 15, 17, 26, 12, 11, 21, 24]"
      ]
     },
     "execution_count": 12,
     "metadata": {},
     "output_type": "execute_result"
    }
   ],
   "source": [
    "firtst_trial + second_trial # list will concatinate with +"
   ]
  },
  {
   "cell_type": "code",
   "execution_count": 13,
   "id": "c8bf08c8-4267-48d9-93fe-0a19d41ae0a8",
   "metadata": {},
   "outputs": [
    {
     "data": {
      "text/plain": [
       "array([10, 15, 17, 26])"
      ]
     },
     "execution_count": 13,
     "metadata": {},
     "output_type": "execute_result"
    }
   ],
   "source": [
    "cyclist_trial = np.array([[10,15,17,26],[12,11,21,24]])\n",
    "first_trial = cyclist_trial[0]\n",
    "first_trial"
   ]
  },
  {
   "cell_type": "code",
   "execution_count": 14,
   "id": "37b93b53-55d0-4d78-99c2-951a952d59b4",
   "metadata": {},
   "outputs": [
    {
     "data": {
      "text/plain": [
       "array([12, 11, 21, 24])"
      ]
     },
     "execution_count": 14,
     "metadata": {},
     "output_type": "execute_result"
    }
   ],
   "source": [
    "second_trial = cyclist_trial[1]\n",
    "second_trial"
   ]
  },
  {
   "cell_type": "code",
   "execution_count": 15,
   "id": "8949d04b-8306-49f9-b868-bf4bb4239ef2",
   "metadata": {},
   "outputs": [
    {
     "data": {
      "text/plain": [
       "10"
      ]
     },
     "execution_count": 15,
     "metadata": {},
     "output_type": "execute_result"
    }
   ],
   "source": [
    "first_cyclist_fisrt_trial = cyclist_trial[0][0] # first element of the first list\n",
    "first_cyclist_fisrt_trial"
   ]
  },
  {
   "cell_type": "code",
   "execution_count": 27,
   "id": "e2021af6-562a-429b-a623-b43791af1680",
   "metadata": {},
   "outputs": [
    {
     "data": {
      "text/plain": [
       "array([26, 24])"
      ]
     },
     "execution_count": 27,
     "metadata": {},
     "output_type": "execute_result"
    }
   ],
   "source": [
    "first_cyclist_all_trial = cyclist_trial[:,3]\n",
    "first_cyclist_all_trial"
   ]
  },
  {
   "cell_type": "code",
   "execution_count": 20,
   "id": "59108c29-19e4-4220-a08b-3254da8753a7",
   "metadata": {},
   "outputs": [
    {
     "data": {
      "text/plain": [
       "(2, 4)"
      ]
     },
     "execution_count": 20,
     "metadata": {},
     "output_type": "execute_result"
    }
   ],
   "source": [
    "cyclist_trial.shape"
   ]
  },
  {
   "cell_type": "code",
   "execution_count": 21,
   "id": "687988d7-92a5-44f9-a0b6-60274678e3cb",
   "metadata": {},
   "outputs": [
    {
     "data": {
      "text/plain": [
       "array([[10, 15, 17, 26],\n",
       "       [12, 11, 21, 24]])"
      ]
     },
     "execution_count": 21,
     "metadata": {},
     "output_type": "execute_result"
    }
   ],
   "source": [
    "cyclist_trial"
   ]
  },
  {
   "cell_type": "code",
   "execution_count": 28,
   "id": "6d6cc1e4-fd53-464a-a631-103f6cc8bf1a",
   "metadata": {},
   "outputs": [
    {
     "data": {
      "text/plain": [
       "array([[15, 17],\n",
       "       [11, 21]])"
      ]
     },
     "execution_count": 28,
     "metadata": {},
     "output_type": "execute_result"
    }
   ],
   "source": [
    "two_cyclist_trial_data = cyclist_trial[:,1:3] # when using the index range, last index-1 is considered (3 here will be considered as index 2)\n",
    "two_cyclist_trial_data"
   ]
  },
  {
   "cell_type": "code",
   "execution_count": 56,
   "id": "241aefd4-1be8-49e1-b7a3-fc9a2f1b8756",
   "metadata": {},
   "outputs": [
    {
     "data": {
      "text/plain": [
       "array([26, 24])"
      ]
     },
     "execution_count": 56,
     "metadata": {},
     "output_type": "execute_result"
    }
   ],
   "source": [
    "cyclist_trial[:,3] # when not using index range, the last index is equal to the actual index 3"
   ]
  },
  {
   "cell_type": "code",
   "execution_count": 30,
   "id": "c7d1bcee-2b33-4d25-9810-674551a3b0e0",
   "metadata": {},
   "outputs": [
    {
     "name": "stdout",
     "output_type": "stream",
     "text": [
      "red\n",
      "green\n",
      "blue\n",
      "yellow\n"
     ]
    }
   ],
   "source": [
    "my_list = [\"red\", \"green\", \"blue\",\"yellow\"]\n",
    "i = 0\n",
    "while i < len(my_list):\n",
    "    print(my_list[i])\n",
    "    i = i + 1"
   ]
  },
  {
   "cell_type": "code",
   "execution_count": 31,
   "id": "cfeb5f92-dd99-440a-a8a9-e932970af593",
   "metadata": {},
   "outputs": [
    {
     "data": {
      "text/plain": [
       "array([[False, False, False,  True],\n",
       "       [False, False,  True,  True]])"
      ]
     },
     "execution_count": 31,
     "metadata": {},
     "output_type": "execute_result"
    }
   ],
   "source": [
    "crossed_minimum = cyclist_trial > 20\n",
    "crossed_minimum"
   ]
  },
  {
   "cell_type": "code",
   "execution_count": 32,
   "id": "97a74572-d64d-429e-8041-870a5d4edf68",
   "metadata": {},
   "outputs": [],
   "source": [
    "crossed_minimum_trial = cyclist_trial[crossed_minimum]"
   ]
  },
  {
   "cell_type": "code",
   "execution_count": 33,
   "id": "d09cfa81-3ba8-4a6c-acf3-f37537b8c4e1",
   "metadata": {},
   "outputs": [
    {
     "data": {
      "text/plain": [
       "array([26, 21, 24])"
      ]
     },
     "execution_count": 33,
     "metadata": {},
     "output_type": "execute_result"
    }
   ],
   "source": [
    "crossed_minimum_trial"
   ]
  },
  {
   "cell_type": "code",
   "execution_count": 37,
   "id": "ac0b8840-16a4-44bd-bb74-d27b15615f28",
   "metadata": {},
   "outputs": [
    {
     "name": "stdout",
     "output_type": "stream",
     "text": [
      "None\n"
     ]
    }
   ],
   "source": [
    "print(crossed_minimum_trial.base)"
   ]
  },
  {
   "cell_type": "code",
   "execution_count": 38,
   "id": "20adaf59-4ceb-463c-9422-194d845ecc10",
   "metadata": {},
   "outputs": [],
   "source": [
    "crossed_minimum_trial_copy = crossed_minimum_trial.copy()"
   ]
  },
  {
   "cell_type": "code",
   "execution_count": 39,
   "id": "8e9a5346-bd1d-4da8-8829-df144ec87483",
   "metadata": {},
   "outputs": [
    {
     "name": "stdout",
     "output_type": "stream",
     "text": [
      "None\n"
     ]
    }
   ],
   "source": [
    "print(crossed_minimum_trial.base)"
   ]
  },
  {
   "cell_type": "code",
   "execution_count": 40,
   "id": "8c804b57-b4de-4f5e-9d53-f3c5ad83093c",
   "metadata": {},
   "outputs": [
    {
     "name": "stdout",
     "output_type": "stream",
     "text": [
      "None\n"
     ]
    }
   ],
   "source": [
    "print(crossed_minimum_trial_copy.base)"
   ]
  },
  {
   "cell_type": "code",
   "execution_count": 41,
   "id": "269d1663-b17d-44b1-9a03-bc8045561b7f",
   "metadata": {},
   "outputs": [],
   "source": [
    "crossed_minimum_tiral_view = crossed_minimum_trial.view()"
   ]
  },
  {
   "cell_type": "code",
   "execution_count": 42,
   "id": "36430a69-f578-4dfd-a3cb-30bd73c89051",
   "metadata": {},
   "outputs": [
    {
     "name": "stdout",
     "output_type": "stream",
     "text": [
      "None\n"
     ]
    }
   ],
   "source": [
    "print(crossed_minimum_trial.base)"
   ]
  },
  {
   "cell_type": "code",
   "execution_count": 43,
   "id": "d7ca8f26-a600-488e-8023-3e58d703186c",
   "metadata": {},
   "outputs": [
    {
     "name": "stdout",
     "output_type": "stream",
     "text": [
      "None\n"
     ]
    }
   ],
   "source": [
    "print(crossed_minimum_trial_copy.base)"
   ]
  },
  {
   "cell_type": "code",
   "execution_count": 45,
   "id": "fea0b90a-017c-491c-91d7-dcd20d57c1af",
   "metadata": {},
   "outputs": [
    {
     "name": "stdout",
     "output_type": "stream",
     "text": [
      "[26 21 24]\n"
     ]
    }
   ],
   "source": [
    "print(crossed_minimum_tiral_view.base)"
   ]
  },
  {
   "cell_type": "code",
   "execution_count": 46,
   "id": "1c9817ba-45ca-4749-9ec4-5427108774b2",
   "metadata": {},
   "outputs": [
    {
     "data": {
      "text/plain": [
       "79"
      ]
     },
     "execution_count": 46,
     "metadata": {},
     "output_type": "execute_result"
    }
   ],
   "source": [
    "np.add(34,45)"
   ]
  },
  {
   "cell_type": "code",
   "execution_count": 53,
   "id": "30d8105f-b2ce-416f-ac1d-e2fecf8b41ad",
   "metadata": {},
   "outputs": [
    {
     "data": {
      "text/plain": [
       "12066"
      ]
     },
     "execution_count": 53,
     "metadata": {},
     "output_type": "execute_result"
    }
   ],
   "source": [
    "np.sum([34,5456,6576])"
   ]
  },
  {
   "cell_type": "code",
   "execution_count": 1,
   "id": "b80b6aac-fc16-458b-bdd1-33c7996f979f",
   "metadata": {},
   "outputs": [],
   "source": [
    "import numpy as np"
   ]
  },
  {
   "cell_type": "code",
   "execution_count": 2,
   "id": "3ea28ada-498f-42fc-8032-982b0ae141a8",
   "metadata": {},
   "outputs": [],
   "source": [
    "prime_string = \"23571113171923293137414347535961677173798389971011031071091131271311371391491511571631671731791811911931971992112232272292332392412512572632692712772812832933073113133173313373473493533593673733793833893974014094194214314334394434494574614634674794874914995035095215235415475575635695715775875935996016076136176196316416436476536596616736776836917017097197277337397437517577617697737877978098118218238278298398538578598638778818838879079119199299379419479539679719779839919971009101310191021103110331039104910511061106310691087109110931097110311091117112311291151115311631171118111871193120112131217122312291231123712491259127712791283128912911297130113031307131913211327136113671373138113991409142314271429143314391447145114531459147114811483148714891493149915111523153115431549155315591567157115791583159716011607160916131619162116271637165716631667166916931697169917091721172317331741174717531759177717831787178918011811\""
   ]
  },
  {
   "cell_type": "code",
   "execution_count": 3,
   "id": "09534357-e220-49e1-8d18-bfc2b85c319b",
   "metadata": {},
   "outputs": [],
   "source": [
    "start = 3\n",
    "idstring = ''"
   ]
  },
  {
   "cell_type": "code",
   "execution_count": 4,
   "id": "8b154a27-9759-4404-a40a-13015a6f56b1",
   "metadata": {},
   "outputs": [
    {
     "name": "stdout",
     "output_type": "stream",
     "text": [
      "71113\n"
     ]
    }
   ],
   "source": [
    "for i in range(start, start+5):\n",
    "    idstring += prime_string[i]\n",
    "print(idstring)"
   ]
  },
  {
   "cell_type": "code",
   "execution_count": 5,
   "id": "01a89717-ace7-4bd6-af17-4779035c20f9",
   "metadata": {},
   "outputs": [
    {
     "data": {
      "text/plain": [
       "array([[0, 0, 0, 0, 0, 0, 0, 0],\n",
       "       [0, 0, 0, 0, 0, 0, 0, 0],\n",
       "       [0, 0, 0, 0, 0, 0, 0, 0],\n",
       "       [0, 0, 0, 0, 0, 0, 0, 0],\n",
       "       [0, 0, 0, 0, 0, 0, 0, 0],\n",
       "       [0, 0, 0, 0, 0, 0, 0, 0],\n",
       "       [0, 0, 0, 0, 0, 0, 0, 0],\n",
       "       [0, 0, 0, 0, 0, 0, 0, 0]])"
      ]
     },
     "execution_count": 5,
     "metadata": {},
     "output_type": "execute_result"
    }
   ],
   "source": [
    "chess_board = np.zeros((8,8), dtype = int)\n",
    "chess_board"
   ]
  },
  {
   "cell_type": "code",
   "execution_count": 6,
   "id": "b5d33092-dc21-4246-a262-8e390324f09d",
   "metadata": {},
   "outputs": [
    {
     "data": {
      "text/plain": [
       "array([[ 0,  1,  2,  3,  4,  5,  6,  7],\n",
       "       [ 8,  9, 10, 11, 12, 13, 14, 15],\n",
       "       [16, 17, 18, 19, 20, 21, 22, 23],\n",
       "       [24, 25, 26, 27, 28, 29, 30, 31],\n",
       "       [32, 33, 34, 35, 36, 37, 38, 39],\n",
       "       [40, 41, 42, 43, 44, 45, 46, 47],\n",
       "       [48, 49, 50, 51, 52, 53, 54, 55],\n",
       "       [56, 57, 58, 59, 60, 61, 62, 63]])"
      ]
     },
     "execution_count": 6,
     "metadata": {},
     "output_type": "execute_result"
    }
   ],
   "source": [
    "i = 0\n",
    "for row in range(0,8):\n",
    "    for column in range(0,8):\n",
    "        chess_board[row][column] = i\n",
    "        i += 1\n",
    "chess_board"
   ]
  },
  {
   "cell_type": "code",
   "execution_count": 11,
   "id": "6ed07118-b1be-4b0d-88ef-fa9f0d736269",
   "metadata": {},
   "outputs": [
    {
     "name": "stdout",
     "output_type": "stream",
     "text": [
      "2\n",
      "[3]\n",
      "19\n",
      "(array([2]), array([3]))\n"
     ]
    },
    {
     "data": {
      "text/plain": [
       "[2, 3]"
      ]
     },
     "execution_count": 11,
     "metadata": {},
     "output_type": "execute_result"
    }
   ],
   "source": [
    "row_index, column_index = np.where(chess_board == 19)\n",
    "print(int(row_index))\n",
    "print(column_index)\n",
    "print(chess_board[int(row_index)][int(column_index)])\n",
    "print(np.where(chess_board == 19))\n",
    "knight_source = [int(row_index),int(column_index)]\n",
    "knight_source"
   ]
  },
  {
   "cell_type": "code",
   "execution_count": 9,
   "id": "0f42ae92-af26-4ccb-9f27-81292a196e6f",
   "metadata": {},
   "outputs": [
    {
     "data": {
      "text/plain": [
       "19"
      ]
     },
     "execution_count": 9,
     "metadata": {},
     "output_type": "execute_result"
    }
   ],
   "source": [
    "chess_board[2][3]"
   ]
  },
  {
   "cell_type": "code",
   "execution_count": null,
   "id": "95dde4e0-0aff-4139-9fab-0e836371467c",
   "metadata": {},
   "outputs": [],
   "source": [
    "def move_the_knight(source, dest):\n",
    "    x, y = np.where(chess_board == source)\n",
    "    row_index_source = int(x)\n",
    "    column_index_source = int(y)\n",
    "    if(source == dest):\n",
    "        return 0\n",
    "    elif(row_index_source == 0 and column_index_source == 0):\n",
    "        row_index_source += 1\n",
    "        \n",
    "    #row_index_destination, column_index_destination = np.where(chess_board == dest)\n",
    "    \n",
    "    "
   ]
  },
  {
   "cell_type": "code",
   "execution_count": 2,
   "id": "87d6a94a-11f0-48d3-8078-21eb03fac4f3",
   "metadata": {},
   "outputs": [
    {
     "name": "stdout",
     "output_type": "stream",
     "text": [
      "[345, 34545, 34534, 34534, 1]\n",
      "[345, 34545, 34534, 500, 1]\n"
     ]
    }
   ],
   "source": [
    "list_a = [345, 34545, 34534, 34534,1]\n",
    "list_b = list_a.copy()\n",
    "list_b[3] = 500\n",
    "print(list_a)\n",
    "print(list_b)"
   ]
  },
  {
   "cell_type": "code",
   "execution_count": 10,
   "id": "25c71dc3-58b9-4ccb-96bd-04903cb27c9c",
   "metadata": {},
   "outputs": [
    {
     "name": "stdout",
     "output_type": "stream",
     "text": [
      "0\n",
      "1\n",
      "2\n",
      "3\n",
      "4\n",
      "5\n"
     ]
    },
    {
     "data": {
      "text/plain": [
       "[10, 10, 10, 10, 10, 10]"
      ]
     },
     "execution_count": 10,
     "metadata": {},
     "output_type": "execute_result"
    }
   ],
   "source": [
    "move = [9, 9, 9, 9, 9, 9]\n",
    "for i in range(6):\n",
    "    print(i)\n",
    "    move[i] = move[i] + 1\n",
    "move"
   ]
  },
  {
   "cell_type": "code",
   "execution_count": 13,
   "id": "0b45bb5f-524b-4d5a-9fca-854271ca1930",
   "metadata": {},
   "outputs": [],
   "source": [
    "import numpy as np\n",
    "\n",
    "def solution(src, dest):\n",
    "    if(src>=0 and dest<=63):\n",
    "        chess_board = np.zeros((8,8), dtype = int)\n",
    "        row_index_source, column_index_source = np.where(chess_board == src)\n",
    "        row_index_dest, column_index_dest = np.where(chess_board == dest)\n",
    "        knight_position = [int(row_index_source), int(column_index_source)]\n",
    "        target_position = [int(row_index_dest), int(column_index_dest)]\n",
    "        print(chess_board)\n",
    "    else:\n",
    "        print(\"source and destinations should be within the board\")"
   ]
  },
  {
   "cell_type": "code",
   "execution_count": 14,
   "id": "11b82043-6fc7-4cfc-9875-f5c94573c959",
   "metadata": {},
   "outputs": [
    {
     "ename": "TypeError",
     "evalue": "only size-1 arrays can be converted to Python scalars",
     "output_type": "error",
     "traceback": [
      "\u001b[0;31m---------------------------------------------------------------------------\u001b[0m",
      "\u001b[0;31mTypeError\u001b[0m                                 Traceback (most recent call last)",
      "Input \u001b[0;32mIn [14]\u001b[0m, in \u001b[0;36m<cell line: 1>\u001b[0;34m()\u001b[0m\n\u001b[0;32m----> 1\u001b[0m \u001b[43msolution\u001b[49m\u001b[43m(\u001b[49m\u001b[38;5;241;43m0\u001b[39;49m\u001b[43m,\u001b[49m\u001b[38;5;241;43m63\u001b[39;49m\u001b[43m)\u001b[49m\n",
      "Input \u001b[0;32mIn [13]\u001b[0m, in \u001b[0;36msolution\u001b[0;34m(src, dest)\u001b[0m\n\u001b[1;32m      6\u001b[0m row_index_source, column_index_source \u001b[38;5;241m=\u001b[39m np\u001b[38;5;241m.\u001b[39mwhere(chess_board \u001b[38;5;241m==\u001b[39m src)\n\u001b[1;32m      7\u001b[0m row_index_dest, column_index_dest \u001b[38;5;241m=\u001b[39m np\u001b[38;5;241m.\u001b[39mwhere(chess_board \u001b[38;5;241m==\u001b[39m dest)\n\u001b[0;32m----> 8\u001b[0m knight_position \u001b[38;5;241m=\u001b[39m [\u001b[38;5;28;43mint\u001b[39;49m\u001b[43m(\u001b[49m\u001b[43mrow_index_source\u001b[49m\u001b[43m)\u001b[49m, \u001b[38;5;28mint\u001b[39m(column_index_source)]\n\u001b[1;32m      9\u001b[0m target_position \u001b[38;5;241m=\u001b[39m [\u001b[38;5;28mint\u001b[39m(row_index_dest), \u001b[38;5;28mint\u001b[39m(column_index_dest)]\n\u001b[1;32m     10\u001b[0m \u001b[38;5;28mprint\u001b[39m(chess_board)\n",
      "\u001b[0;31mTypeError\u001b[0m: only size-1 arrays can be converted to Python scalars"
     ]
    }
   ],
   "source": [
    "solution(0,63)"
   ]
  },
  {
   "cell_type": "code",
   "execution_count": 18,
   "id": "7ea0d188-9d38-4e64-86ab-874f61b02e81",
   "metadata": {},
   "outputs": [
    {
     "ename": "TypeError",
     "evalue": "'int' object is not iterable",
     "output_type": "error",
     "traceback": [
      "\u001b[0;31m---------------------------------------------------------------------------\u001b[0m",
      "\u001b[0;31mTypeError\u001b[0m                                 Traceback (most recent call last)",
      "Input \u001b[0;32mIn [18]\u001b[0m, in \u001b[0;36m<cell line: 2>\u001b[0;34m()\u001b[0m\n\u001b[1;32m      1\u001b[0m \u001b[38;5;28;01mfrom\u001b[39;00m \u001b[38;5;21;01mrandom\u001b[39;00m \u001b[38;5;28;01mimport\u001b[39;00m randint\n\u001b[0;32m----> 2\u001b[0m \u001b[38;5;28;01mfor\u001b[39;00m _ \u001b[38;5;129;01min\u001b[39;00m randint(\u001b[38;5;241m0\u001b[39m, \u001b[38;5;241m8\u001b[39m):\n\u001b[1;32m      3\u001b[0m     \u001b[38;5;28mprint\u001b[39m(x)\n",
      "\u001b[0;31mTypeError\u001b[0m: 'int' object is not iterable"
     ]
    }
   ],
   "source": [
    "from random import randint\n",
    "for _ in randint(0, 8):\n",
    "    print(x)"
   ]
  },
  {
   "cell_type": "code",
   "execution_count": 5,
   "id": "8dcb88e9-9325-4435-b13f-02eb79399e42",
   "metadata": {},
   "outputs": [
    {
     "data": {
      "text/plain": [
       "deque([[4, 5], [3, 4]])"
      ]
     },
     "execution_count": 5,
     "metadata": {},
     "output_type": "execute_result"
    }
   ],
   "source": [
    "from collections import deque\n",
    "# Initializing a queue\n",
    "q = deque()\n",
    "q.append([4,5])\n",
    "q\n",
    "q.append([3,4])\n",
    "q"
   ]
  },
  {
   "cell_type": "code",
   "execution_count": 6,
   "id": "18d7ebab-2c4b-4494-bb71-8032b5352f53",
   "metadata": {},
   "outputs": [
    {
     "data": {
      "text/plain": [
       "[4, 5]"
      ]
     },
     "execution_count": 6,
     "metadata": {},
     "output_type": "execute_result"
    }
   ],
   "source": [
    "q.popleft()"
   ]
  },
  {
   "cell_type": "code",
   "execution_count": 12,
   "id": "9c2a9325-7237-4102-aee9-2b5ab06d8a90",
   "metadata": {},
   "outputs": [
    {
     "data": {
      "text/plain": [
       "1"
      ]
     },
     "execution_count": 12,
     "metadata": {},
     "output_type": "execute_result"
    }
   ],
   "source": [
    "len(q)"
   ]
  },
  {
   "cell_type": "code",
   "execution_count": 13,
   "id": "e4e4e851-9ef3-477a-adad-e97e98023401",
   "metadata": {},
   "outputs": [
    {
     "data": {
      "text/plain": [
       "[3, 4]"
      ]
     },
     "execution_count": 13,
     "metadata": {},
     "output_type": "execute_result"
    }
   ],
   "source": [
    "q.popleft()"
   ]
  },
  {
   "cell_type": "code",
   "execution_count": 14,
   "id": "ef9cbe69-e94f-4cd5-9b44-1e9e840cc098",
   "metadata": {},
   "outputs": [
    {
     "data": {
      "text/plain": [
       "0"
      ]
     },
     "execution_count": 14,
     "metadata": {},
     "output_type": "execute_result"
    }
   ],
   "source": [
    "len(q)"
   ]
  },
  {
   "cell_type": "code",
   "execution_count": 2,
   "id": "95ecf794-f452-40bd-99b9-2f82c666e9b1",
   "metadata": {},
   "outputs": [
    {
     "name": "stdout",
     "output_type": "stream",
     "text": [
      "[[0, 1, 2, 3, 4, 5, 6, 7], [8, 9, 10, 11, 12, 13, 14, 15], [16, 17, 18, 19, 20, 21, 22, 23], [24, 25, 26, 27, 28, 29, 30, 31], [32, 33, 34, 35, 36, 37, 38, 39], [40, 41, 42, 43, 44, 45, 46, 47], [48, 49, 50, 51, 52, 53, 54, 55], [56, 57, 58, 59, 60, 61, 62, 63]]\n"
     ]
    }
   ],
   "source": [
    "position_board = []\n",
    "i = 0\n",
    "for row in range(8):\n",
    "    column_elements = []\n",
    "    for column in range(8):\n",
    "        column_elements.append(i)\n",
    "        i += 1\n",
    "    position_board.append(column_elements)\n",
    "    \n",
    "print(position_board)    \n"
   ]
  },
  {
   "cell_type": "code",
   "execution_count": 3,
   "id": "b1c604d0-f7ad-4f9b-b04a-0f28bd74b9b1",
   "metadata": {},
   "outputs": [
    {
     "name": "stdout",
     "output_type": "stream",
     "text": [
      "[]\n",
      "[]\n"
     ]
    }
   ],
   "source": [
    "index_start = [i for i, j in enumerate(position_board) if j == '0']\n",
    "index_end = [i for i, j in enumerate(position_board) if j == '63']\n",
    "print(index_start)\n",
    "print(index_end)"
   ]
  },
  {
   "cell_type": "code",
   "execution_count": 11,
   "id": "37287006-40a3-43aa-834e-28c88c6b5416",
   "metadata": {},
   "outputs": [
    {
     "data": {
      "text/plain": [
       "<queue.Queue at 0x7fa2f729b490>"
      ]
     },
     "execution_count": 11,
     "metadata": {},
     "output_type": "execute_result"
    }
   ],
   "source": [
    "from queue import Queue\n",
    "q = Queue()  \n",
    "q.put(43534)\n",
    "q.put(345)\n",
    "q"
   ]
  },
  {
   "cell_type": "code",
   "execution_count": 12,
   "id": "981ba15e-6420-4d04-9681-3628d7b83d20",
   "metadata": {},
   "outputs": [
    {
     "name": "stdout",
     "output_type": "stream",
     "text": [
      "43534\n"
     ]
    }
   ],
   "source": [
    "print(q.get())"
   ]
  },
  {
   "cell_type": "code",
   "execution_count": 13,
   "id": "8d9a096e-3cc1-4eb8-9ea5-feecd9984861",
   "metadata": {},
   "outputs": [],
   "source": [
    "q.put(344)\n",
    "q.put(334)"
   ]
  },
  {
   "cell_type": "code",
   "execution_count": 16,
   "id": "f18c8fed-8bd0-4250-81b2-138489b54c0c",
   "metadata": {},
   "outputs": [
    {
     "name": "stdout",
     "output_type": "stream",
     "text": [
      "345\n",
      "344\n",
      "334\n"
     ]
    }
   ],
   "source": [
    "while(q.empty() == False):\n",
    "    print(q.get())"
   ]
  },
  {
   "cell_type": "code",
   "execution_count": 22,
   "id": "5537844f-2943-4e88-b918-13fe3eb1dabe",
   "metadata": {},
   "outputs": [],
   "source": [
    "queue = []\n",
    "queue.append([4,5])\n",
    "queue.append([5,6])"
   ]
  },
  {
   "cell_type": "code",
   "execution_count": 23,
   "id": "c03254c0-bf05-4063-8b0c-b96c0f24d236",
   "metadata": {},
   "outputs": [
    {
     "data": {
      "text/plain": [
       "[[4, 5], [5, 6]]"
      ]
     },
     "execution_count": 23,
     "metadata": {},
     "output_type": "execute_result"
    }
   ],
   "source": [
    "queue"
   ]
  },
  {
   "cell_type": "code",
   "execution_count": 20,
   "id": "84224dca-329b-45c0-a034-143f48f7401c",
   "metadata": {},
   "outputs": [
    {
     "data": {
      "text/plain": [
       "[5, 6]"
      ]
     },
     "execution_count": 20,
     "metadata": {},
     "output_type": "execute_result"
    }
   ],
   "source": [
    "queue.pop(0)"
   ]
  },
  {
   "cell_type": "code",
   "execution_count": 24,
   "id": "3e3eb262-2112-44e9-85ca-24870aea4713",
   "metadata": {},
   "outputs": [
    {
     "data": {
      "text/plain": [
       "2"
      ]
     },
     "execution_count": 24,
     "metadata": {},
     "output_type": "execute_result"
    }
   ],
   "source": [
    "len(queue)"
   ]
  },
  {
   "cell_type": "code",
   "execution_count": 1,
   "id": "c04df9ab-583f-49ea-aede-4c443b0b625e",
   "metadata": {},
   "outputs": [
    {
     "data": {
      "text/plain": [
       "{0,\n",
       " 1,\n",
       " 2,\n",
       " 3,\n",
       " 4,\n",
       " 5,\n",
       " 6,\n",
       " 7,\n",
       " 8,\n",
       " 9,\n",
       " 10,\n",
       " 11,\n",
       " 12,\n",
       " 13,\n",
       " 14,\n",
       " 15,\n",
       " 16,\n",
       " 17,\n",
       " 18,\n",
       " 19,\n",
       " 20,\n",
       " 21,\n",
       " 22,\n",
       " 23,\n",
       " 24,\n",
       " 25,\n",
       " 26,\n",
       " 27,\n",
       " 28,\n",
       " 29,\n",
       " 30,\n",
       " 31,\n",
       " 32,\n",
       " 33,\n",
       " 34,\n",
       " 35,\n",
       " 36,\n",
       " 37,\n",
       " 38,\n",
       " 39,\n",
       " 40,\n",
       " 41,\n",
       " 42,\n",
       " 43,\n",
       " 44,\n",
       " 45,\n",
       " 46,\n",
       " 47,\n",
       " 48,\n",
       " 49,\n",
       " 50,\n",
       " 51,\n",
       " 52,\n",
       " 53,\n",
       " 54,\n",
       " 55,\n",
       " 56,\n",
       " 57,\n",
       " 58,\n",
       " 59,\n",
       " 60,\n",
       " 61,\n",
       " 62}"
      ]
     },
     "execution_count": 1,
     "metadata": {},
     "output_type": "execute_result"
    }
   ],
   "source": [
    "chess_board_set = set(range(63))\n",
    "chess_board_set"
   ]
  },
  {
   "cell_type": "code",
   "execution_count": 4,
   "id": "92834d48-28dc-4408-a8c7-5baa6e332e10",
   "metadata": {},
   "outputs": [
    {
     "ename": "TypeError",
     "evalue": "unhashable type: 'list'",
     "output_type": "error",
     "traceback": [
      "\u001b[0;31m---------------------------------------------------------------------------\u001b[0m",
      "\u001b[0;31mTypeError\u001b[0m                                 Traceback (most recent call last)",
      "Input \u001b[0;32mIn [4]\u001b[0m, in \u001b[0;36m<cell line: 1>\u001b[0;34m()\u001b[0m\n\u001b[0;32m----> 1\u001b[0m chess_set \u001b[38;5;241m=\u001b[39m \u001b[38;5;28;43mset\u001b[39;49m\u001b[43m(\u001b[49m\u001b[43mposition_board\u001b[49m\u001b[43m)\u001b[49m\n\u001b[1;32m      2\u001b[0m chess_set\n",
      "\u001b[0;31mTypeError\u001b[0m: unhashable type: 'list'"
     ]
    }
   ],
   "source": [
    "chess_set = set(position_board)\n",
    "chess_set"
   ]
  },
  {
   "cell_type": "code",
   "execution_count": 9,
   "id": "34062ec6-196e-4bf3-a613-ea2f5dabb99f",
   "metadata": {},
   "outputs": [
    {
     "name": "stdout",
     "output_type": "stream",
     "text": [
      "Element found at index:  [0, 0] [7, 7]\n"
     ]
    }
   ],
   "source": [
    "# Binary Search on sorted 2D array\n",
    "def findAns(arr, target):\n",
    "    r = 0;\n",
    "    c = len(arr[r]) - 1;\n",
    "    while (r < len(arr) and c >= 0):\n",
    "        if (arr[r][c] == target):\n",
    "            return [r, c];\n",
    " \n",
    "        # Target lies in further row\n",
    "        if (arr[r][c] < target):\n",
    "            r += 1;\n",
    " \n",
    "        # Target lies in previous column\n",
    "        else:\n",
    "            c -=1;\n",
    " \n",
    "    return [ -1, -1];\n",
    " \n",
    "\n",
    "chess_board = [[0,1,2,3,4,5,6,7],[8,9,10,11,12,13,14,15],[16,17,18,19,20,21,22,23],[24,25,26,27,28,29,30,31],\n",
    "                [32,33,34,35,36,37,38,39],[40,41,42,43,44,45,46,47],[48,49,50,51,52,53,54,55],[56,57,58,59,60,61,62,63]]\n",
    "ans = findAns(chess_board, 0)\n",
    "ans_ =  findAns(chess_board,63)\n",
    "print(\"Element found at index: \", ans, ans_)"
   ]
  },
  {
   "cell_type": "code",
   "execution_count": null,
   "id": "41c7fbd9-359d-4831-b74e-42837805a6d9",
   "metadata": {},
   "outputs": [],
   "source": []
  }
 ],
 "metadata": {
  "kernelspec": {
   "display_name": "Python 3 (ipykernel)",
   "language": "python",
   "name": "python3"
  },
  "language_info": {
   "codemirror_mode": {
    "name": "ipython",
    "version": 3
   },
   "file_extension": ".py",
   "mimetype": "text/x-python",
   "name": "python",
   "nbconvert_exporter": "python",
   "pygments_lexer": "ipython3",
   "version": "3.8.10"
  }
 },
 "nbformat": 4,
 "nbformat_minor": 5
}
