{
 "cells": [
  {
   "cell_type": "code",
   "execution_count": 1,
   "id": "94d40ea1-f726-4c2e-8503-5f93a497b452",
   "metadata": {},
   "outputs": [
    {
     "name": "stdout",
     "output_type": "stream",
     "text": [
      "Python 3.8.10\n"
     ]
    }
   ],
   "source": [
    "!python --version"
   ]
  },
  {
   "cell_type": "code",
   "execution_count": 2,
   "id": "c1e7db08-fc57-4e8b-a34a-b1192e25cf15",
   "metadata": {},
   "outputs": [
    {
     "data": {
      "text/plain": [
       "float"
      ]
     },
     "execution_count": 2,
     "metadata": {},
     "output_type": "execute_result"
    }
   ],
   "source": [
    "a = 10.1\n",
    "type(a)"
   ]
  },
  {
   "cell_type": "code",
   "execution_count": 3,
   "id": "bdfe38b1-c4b9-4da7-a17d-8e8f450764ff",
   "metadata": {},
   "outputs": [
    {
     "data": {
      "text/plain": [
       "bool"
      ]
     },
     "execution_count": 3,
     "metadata": {},
     "output_type": "execute_result"
    }
   ],
   "source": [
    "q1 = True\n",
    "type(q1)"
   ]
  },
  {
   "cell_type": "code",
   "execution_count": 4,
   "id": "4577d5dd-e1b2-4bf9-862e-b28e985aa551",
   "metadata": {},
   "outputs": [],
   "source": [
    "integer_x, integer_y = 4, 6"
   ]
  },
  {
   "cell_type": "code",
   "execution_count": 6,
   "id": "7e6abf2d-ae61-48a2-8090-d8e8ae3b12c9",
   "metadata": {},
   "outputs": [
    {
     "data": {
      "text/plain": [
       "(4, 6)"
      ]
     },
     "execution_count": 6,
     "metadata": {},
     "output_type": "execute_result"
    }
   ],
   "source": [
    "integer_x, integer_y"
   ]
  },
  {
   "cell_type": "code",
   "execution_count": 18,
   "id": "3772735f-ec13-4652-9ff2-e4d63daf75f1",
   "metadata": {},
   "outputs": [
    {
     "data": {
      "text/plain": [
       "9789024"
      ]
     },
     "execution_count": 18,
     "metadata": {},
     "output_type": "execute_result"
    }
   ],
   "source": [
    "x = 3\n",
    "id(x)\n"
   ]
  },
  {
   "cell_type": "code",
   "execution_count": 24,
   "id": "a5074c63-7a5d-4351-aa63-0e475346582f",
   "metadata": {},
   "outputs": [
    {
     "name": "stdout",
     "output_type": "stream",
     "text": [
      "x: 8\n",
      "9789184\n",
      "9789152\n",
      "9789184\n",
      "9789184\n",
      "9789184\n"
     ]
    }
   ],
   "source": [
    "print(\"x:\", x)\n",
    "print(id(x))\n",
    "x = 7\n",
    "print(id(x))\n",
    "x += 1\n",
    "print(id(x)) # ID is the unique ID of the value we are assigning to a variable. Unique ID is a unique memory location.\n",
    "x = 8\n",
    "print(id(x))\n",
    "y = 8 # assigning same value to two different variable results in both variables pointing to same value of ID i.e. same memory location.\n",
    "print(id(y)) \n"
   ]
  },
  {
   "cell_type": "code",
   "execution_count": 25,
   "id": "ef7ff280-392a-4cda-a9c7-6c3608939694",
   "metadata": {},
   "outputs": [
    {
     "name": "stdout",
     "output_type": "stream",
     "text": [
      "45.65\n",
      "<class 'float'>\n",
      "45.65\n",
      "<class 'str'>\n"
     ]
    }
   ],
   "source": [
    "#float to string typcasting\n",
    "a_float = 45.65\n",
    "print(a_float)\n",
    "print(type(a_float))\n",
    "a_string = str(a_float)\n",
    "print(a_string)\n",
    "print(type(a_string))"
   ]
  },
  {
   "cell_type": "code",
   "execution_count": 1,
   "id": "fa215d01-4436-40fc-8efa-26f3b064c7fa",
   "metadata": {},
   "outputs": [
    {
     "data": {
      "text/plain": [
       "{1: 'Abhi', 2: 'Yahoo'}"
      ]
     },
     "execution_count": 1,
     "metadata": {},
     "output_type": "execute_result"
    }
   ],
   "source": [
    "first_dic = {1:'Abhi', 2:'Yahoo'}\n",
    "first_dic"
   ]
  },
  {
   "cell_type": "code",
   "execution_count": 6,
   "id": "7e0ce928-82a1-417c-b62e-cbe8ce6ad9b2",
   "metadata": {},
   "outputs": [],
   "source": [
    "del first_dic[2]"
   ]
  },
  {
   "cell_type": "code",
   "execution_count": 7,
   "id": "4789111d-cd24-4135-9e00-ed7e951e0182",
   "metadata": {},
   "outputs": [
    {
     "data": {
      "text/plain": [
       "{1: 'Abhi'}"
      ]
     },
     "execution_count": 7,
     "metadata": {},
     "output_type": "execute_result"
    }
   ],
   "source": [
    "first_dic"
   ]
  },
  {
   "cell_type": "code",
   "execution_count": null,
   "id": "ed2faa2c-6cfd-4721-a913-468887e3fa48",
   "metadata": {},
   "outputs": [],
   "source": []
  }
 ],
 "metadata": {
  "kernelspec": {
   "display_name": "Python 3",
   "language": "python",
   "name": "python3"
  },
  "language_info": {
   "codemirror_mode": {
    "name": "ipython",
    "version": 3
   },
   "file_extension": ".py",
   "mimetype": "text/x-python",
   "name": "python",
   "nbconvert_exporter": "python",
   "pygments_lexer": "ipython3",
   "version": "3.8.10"
  }
 },
 "nbformat": 4,
 "nbformat_minor": 5
}
