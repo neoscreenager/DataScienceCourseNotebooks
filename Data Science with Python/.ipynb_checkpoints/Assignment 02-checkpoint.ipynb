{
 "cells": [
  {
   "cell_type": "markdown",
   "metadata": {},
   "source": [
    "<img src=\"http://cfs22.simplicdn.net/ice9/new_logo.svgz \"/>\n",
    "\n",
    "# Assignment 02: Evaluate the Summer Olympics, London 2012 dataset\n",
    "\n",
    "*The comments/sections provided are your cues to perform the assignment. You don't need to limit yourself to the number of rows/cells provided. You can add additional rows in each section to add more lines of code.*\n",
    "\n",
    "*If at any point in time you need help on solving this assignment, view our demo video to understand the different steps of the code.*\n",
    "\n",
    "**Happy coding!**\n",
    "\n",
    "* * *"
   ]
  },
  {
   "cell_type": "markdown",
   "metadata": {},
   "source": [
    "#### 1: View and add the dataset"
   ]
  },
  {
   "cell_type": "code",
   "execution_count": 1,
   "metadata": {
    "tags": []
   },
   "outputs": [],
   "source": [
    "#Import the necessary library\n",
    "import numpy as np"
   ]
  },
  {
   "cell_type": "code",
   "execution_count": 2,
   "metadata": {
    "tags": []
   },
   "outputs": [],
   "source": [
    "#Manually add the Summer Olympics, London 2012 dataset as arrays\n",
    "all_countries = np.array(['Great Britain','China ','Russia','United States','Korea','Japan','Germany'])\n",
    "all_countries_code = np.array(['GBR','CHN','RUS','US','KOR','JPN','GER'])\n",
    "medal_tally_gold = np.array([29,38,24,46,13,7,11])\n",
    "medal_tally_silver = np.array([17,28,25,28,8,14,11])\n",
    "medal_tally_bronze = np.array([19,22,32,29,7,17,14])\n",
    "                         "
   ]
  },
  {
   "cell_type": "markdown",
   "metadata": {},
   "source": [
    "#### Find the country with maximum gold medals"
   ]
  },
  {
   "cell_type": "code",
   "execution_count": 5,
   "metadata": {
    "tags": []
   },
   "outputs": [
    {
     "name": "stdout",
     "output_type": "stream",
     "text": [
      "Maximum number of gold medals won by a country: 46\n",
      "Maximum number of gold medals won by a country ( found with max function): 46\n"
     ]
    }
   ],
   "source": [
    "#Use the argmax() method to find the highest number of gold medals\n",
    "max_gold_medals_index = medal_tally_gold.argmax()\n",
    "print('Maximum number of gold medals won by a country:', medal_tally_gold[max_gold_medals_index])\n",
    "# this output can also be achieved using max function\n",
    "print('Maximum number of gold medals won by a country ( found with max function):', medal_tally_gold.max())"
   ]
  },
  {
   "cell_type": "code",
   "execution_count": 6,
   "metadata": {
    "collapsed": false,
    "jupyter": {
     "outputs_hidden": false
    }
   },
   "outputs": [
    {
     "name": "stdout",
     "output_type": "stream",
     "text": [
      "Country with maximum gold medals: United States\n"
     ]
    }
   ],
   "source": [
    "#Print the name of the country\n",
    "print('Country with maximum gold medals:', all_countries[max_gold_medals_index])"
   ]
  },
  {
   "cell_type": "markdown",
   "metadata": {},
   "source": [
    "#### Find the countries with more than 20 gold medals"
   ]
  },
  {
   "cell_type": "code",
   "execution_count": 18,
   "metadata": {
    "collapsed": false,
    "jupyter": {
     "outputs_hidden": false
    }
   },
   "outputs": [
    {
     "name": "stdout",
     "output_type": "stream",
     "text": [
      "Countries with more than 20 gold medals:\n",
      "Great Britain\n",
      "China \n",
      "Russia\n",
      "United States\n"
     ]
    }
   ],
   "source": [
    "#Use Boolean indexing technique to find the required output\n",
    "more_than_20_medals_index = np.where(medal_tally_gold > 20)\n",
    "print(\"Countries with more than 20 gold medals:\")\n",
    "for index in more_than_20_medals_index[0]:\n",
    "    print(all_countries[index])"
   ]
  },
  {
   "cell_type": "markdown",
   "metadata": {},
   "source": [
    "#### Evaluate the dataset and print the name of each country with its gold medals and total number of medals"
   ]
  },
  {
   "cell_type": "code",
   "execution_count": 21,
   "metadata": {
    "collapsed": false,
    "jupyter": {
     "outputs_hidden": false
    }
   },
   "outputs": [
    {
     "name": "stdout",
     "output_type": "stream",
     "text": [
      "Great Britain won 29 gold medals and total 65 medals.\n",
      "China  won 38 gold medals and total 88 medals.\n",
      "Russia won 24 gold medals and total 81 medals.\n",
      "United States won 46 gold medals and total 103 medals.\n",
      "Korea won 13 gold medals and total 28 medals.\n",
      "Japan won 7 gold medals and total 38 medals.\n",
      "Germany won 11 gold medals and total 36 medals.\n"
     ]
    }
   ],
   "source": [
    "#Use a for loop to create the required output\n",
    "for i in range(0, len(all_countries)):\n",
    "    print('{} won {} gold medals and total {} medals.'.format(all_countries[i], medal_tally_gold[i], medal_tally_gold[i]\n",
    "                                                               + medal_tally_silver[i] + medal_tally_bronze[i]))"
   ]
  },
  {
   "cell_type": "code",
   "execution_count": null,
   "metadata": {},
   "outputs": [],
   "source": []
  }
 ],
 "metadata": {
  "kernelspec": {
   "display_name": "Python 3",
   "language": "python",
   "name": "python3"
  },
  "language_info": {
   "codemirror_mode": {
    "name": "ipython",
    "version": 3
   },
   "file_extension": ".py",
   "mimetype": "text/x-python",
   "name": "python",
   "nbconvert_exporter": "python",
   "pygments_lexer": "ipython3",
   "version": "3.8.10"
  }
 },
 "nbformat": 4,
 "nbformat_minor": 4
}
