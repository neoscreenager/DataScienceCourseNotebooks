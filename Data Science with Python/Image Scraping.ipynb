{
 "cells": [
  {
   "cell_type": "code",
   "execution_count": 1,
   "id": "001dccb2",
   "metadata": {},
   "outputs": [],
   "source": [
    "import requests     #the request library will help us to get the data from a web API"
   ]
  },
  {
   "cell_type": "markdown",
   "id": "be0aba77",
   "metadata": {},
   "source": [
    "## Getting your ip address from a free available API"
   ]
  },
  {
   "cell_type": "code",
   "execution_count": 4,
   "id": "c46f5aa7",
   "metadata": {},
   "outputs": [],
   "source": [
    "url = \"https://api.ipify.org\"      #double quotes imp"
   ]
  },
  {
   "cell_type": "code",
   "execution_count": 5,
   "id": "d3ebcdc7",
   "metadata": {},
   "outputs": [],
   "source": [
    "res = requests.get(url)  #this line sends the request to the website,and the result is returned to us post customisation\n",
    "                          #i.e not in html format from the web,we store the response in \"res\""
   ]
  },
  {
   "cell_type": "code",
   "execution_count": 6,
   "id": "75202be6",
   "metadata": {},
   "outputs": [
    {
     "data": {
      "text/plain": [
       "200"
      ]
     },
     "execution_count": 6,
     "metadata": {},
     "output_type": "execute_result"
    }
   ],
   "source": [
    "res.status_code       #200 means okay,and the data fetching is successful"
   ]
  },
  {
   "cell_type": "code",
   "execution_count": 7,
   "id": "e3d938a5",
   "metadata": {},
   "outputs": [
    {
     "data": {
      "text/plain": [
       "'157.40.146.157'"
      ]
     },
     "execution_count": 7,
     "metadata": {},
     "output_type": "execute_result"
    }
   ],
   "source": [
    "res.text"
   ]
  },
  {
   "cell_type": "markdown",
   "id": "2bc07817",
   "metadata": {},
   "source": [
    "## API's need some authorization,and hence we will not get access to free API's often."
   ]
  },
  {
   "cell_type": "code",
   "execution_count": 17,
   "id": "3936bbe2",
   "metadata": {},
   "outputs": [],
   "source": [
    "img_url = \"https://www.edinburghnews.scotsman.com/webimg/b25lY21zOjEyNDUxN2IwLTI2NjAtNGI0MC1iNTE5LTRlMjRjMDFhNDljZTowZDg0NTI4Yi0yZmMzLTRjZDItOGM4OS1hMjQzOGE4NzA0ZTU=.jpg?crop=61:45,smart&width=800\""
   ]
  },
  {
   "cell_type": "code",
   "execution_count": 10,
   "id": "a133c6e9",
   "metadata": {},
   "outputs": [],
   "source": [
    "image_url = \"https://th.bing.com/th/id/R.ce27e0183f2e6d3c3962e792f10325ef?rik=YAsuVXpVm6TeIw&riu=http%3a%2f%2fwww.desicomments.com%2fdc3%2f05%2f260642%2f260642.jpg&ehk=JhKyI8nqTPapM82nxm1aQecE2Dm2ixzpGec0nnKvkrM%3d&risl=&pid=ImgRaw&r=0\""
   ]
  },
  {
   "cell_type": "code",
   "execution_count": 11,
   "id": "47853cc4",
   "metadata": {},
   "outputs": [],
   "source": [
    "res = requests.get(image_url)   #when we type in any website address,say www.google.com,we send a get request to the website."
   ]
  },
  {
   "cell_type": "code",
   "execution_count": 12,
   "id": "a30c7cfa",
   "metadata": {},
   "outputs": [
    {
     "data": {
      "text/plain": [
       "200"
      ]
     },
     "execution_count": 12,
     "metadata": {},
     "output_type": "execute_result"
    }
   ],
   "source": [
    "#to check if the request was successful,200 is successful\n",
    "res.status_code"
   ]
  },
  {
   "cell_type": "markdown",
   "id": "56d50db4",
   "metadata": {},
   "source": [
    "## Now images are stored in binary format,so we do not have text but content"
   ]
  },
  {
   "cell_type": "code",
   "execution_count": 13,
   "id": "39208e83",
   "metadata": {},
   "outputs": [],
   "source": [
    "#when we try to view the content,we get binary data in pixels,and we save it as binary data\n",
    "bin_data = res.content"
   ]
  },
  {
   "cell_type": "markdown",
   "id": "11bbde12",
   "metadata": {},
   "source": [
    "## Now we open a new file,and name it as hanuman.jpg,and we will open the file in RIGHT binary mode.To open a file in Python in binary format, add 'b' to the mode parameter. Hence the \"rb\" mode opens the file in binary format for reading, while the \"wb\" mode opens the file in binary format for writing. we open the image as f.write and pass the variable,which stores the content.\n"
   ]
  },
  {
   "cell_type": "code",
   "execution_count": 14,
   "id": "7ab613aa",
   "metadata": {},
   "outputs": [],
   "source": [
    "with open(\"hanuman.jpg\",'wb') as f:\n",
    "    f.write(bin_data)"
   ]
  },
  {
   "cell_type": "markdown",
   "id": "fb1bac3d",
   "metadata": {},
   "source": [
    "## As we execute the above line of code,we will get the image stored in our working directory."
   ]
  },
  {
   "cell_type": "code",
   "execution_count": null,
   "id": "21cbea2e",
   "metadata": {},
   "outputs": [],
   "source": []
  },
  {
   "cell_type": "code",
   "execution_count": null,
   "id": "851462ab",
   "metadata": {},
   "outputs": [],
   "source": []
  }
 ],
 "metadata": {
  "kernelspec": {
   "display_name": "Python 3",
   "language": "python",
   "name": "python3"
  },
  "language_info": {
   "codemirror_mode": {
    "name": "ipython",
    "version": 3
   },
   "file_extension": ".py",
   "mimetype": "text/x-python",
   "name": "python",
   "nbconvert_exporter": "python",
   "pygments_lexer": "ipython3",
   "version": "3.8.8"
  }
 },
 "nbformat": 4,
 "nbformat_minor": 5
}
